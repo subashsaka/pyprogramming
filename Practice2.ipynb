{
 "cells": [
  {
   "cell_type": "code",
   "execution_count": null,
   "metadata": {},
   "outputs": [
    {
     "name": "stdout",
     "output_type": "stream",
     "text": [
      "[2, 4]\n"
     ]
    },
    {
     "data": {
      "text/plain": [
       "'for i in n:\\n    if i % 2==0:\\n        m.append[i]\\nprint(m)'"
      ]
     },
     "execution_count": 10,
     "metadata": {},
     "output_type": "execute_result"
    }
   ],
   "source": [
    "n = list(map(int,input().split()))\n",
    "m = []\n",
    "for i in n:\n",
    "    if i % 2==0:\n",
    "        m.append(i)\n",
    "print(sum(m))\n",
    "\n",
    "'''for i in n:\n",
    "    if i % 2==0:\n",
    "        m.append[i]\n",
    "print(m)'''\n"
   ]
  },
  {
   "cell_type": "code",
   "execution_count": 12,
   "metadata": {},
   "outputs": [
    {
     "name": "stdout",
     "output_type": "stream",
     "text": [
      "pali\n"
     ]
    }
   ],
   "source": [
    "n = input()\n",
    "m = n[::-1]\n",
    "if n == m:\n",
    "    print(\"pali\")\n",
    "else:\n",
    "    print(\"notpali\")"
   ]
  },
  {
   "cell_type": "code",
   "execution_count": null,
   "metadata": {},
   "outputs": [
    {
     "name": "stdout",
     "output_type": "stream",
     "text": [
      "s\n",
      "u\n",
      "b\n",
      "a\n",
      "s\n",
      "h\n"
     ]
    }
   ],
   "source": [
    "n = input()\n",
    "chas = {}\n",
    "for i in n:\n",
    "    if i in chas:\n",
    "        chas[i]+=1\n",
    "    else:\n",
    "        chas[i] = 1"
   ]
  },
  {
   "cell_type": "code",
   "execution_count": 20,
   "metadata": {},
   "outputs": [
    {
     "name": "stdout",
     "output_type": "stream",
     "text": [
      "[1, 2, 5, 6, 8, 9, 10, 12]\n"
     ]
    }
   ],
   "source": [
    "list = [1, 5, 8, 12]\n",
    "list2 = [2, 6, 9, 10]\n",
    "m = list + list2\n",
    "print(sorted(m))"
   ]
  },
  {
   "cell_type": "code",
   "execution_count": null,
   "metadata": {},
   "outputs": [
    {
     "name": "stdout",
     "output_type": "stream",
     "text": [
      "Welcome to the PyPassword Generator!\n",
      "v#3E9&+u4"
     ]
    }
   ],
   "source": [
    "#Password Generator Project\n",
    "import random\n",
    "letters = ['a', 'b', 'c', 'd', 'e', 'f', 'g', 'h', 'i', 'j', 'k', 'l', 'm', 'n', 'o', 'p', 'q', 'r', 's', 't', 'u', 'v', 'w', 'x', 'y', 'z', 'A', 'B', 'C', 'D', 'E', 'F', 'G', 'H', 'I', 'J', 'K', 'L', 'M', 'N', 'O', 'P', 'Q', 'R', 'S', 'T', 'U', 'V', 'W', 'X', 'Y', 'Z']\n",
    "numbers = ['0', '1', '2', '3', '4', '5', '6', '7', '8', '9']\n",
    "symbols = ['!', '#', '$', '%', '&', '(', ')', '*', '+']\n",
    "\n",
    "print(\"Welcome to my Password Generator!\")\n",
    "nr_letters= int(input(\"How many letters would you like in your password?\\n\")) \n",
    "nr_symbols = int(input(f\"How many symbols would you like?\\n\"))\n",
    "nr_numbers = int(input(f\"How many numbers would you like?\\n\"))\n",
    "\n",
    "password = []\n",
    "for char in range(1,nr_letters+1):\n",
    "    password.append(random.choice(letters))\n",
    "for char in range(1,nr_symbols+1):\n",
    "    password.append(random.choice(symbols))\n",
    "for char in range(1,nr_numbers+1):\n",
    "    password.append(random.choice(numbers))\n",
    "random.shuffle(password)\n",
    "for char in password:\n",
    "    print(char,end = '')"
   ]
  },
  {
   "cell_type": "code",
   "execution_count": 17,
   "metadata": {},
   "outputs": [
    {
     "name": "stdout",
     "output_type": "stream",
     "text": [
      "hi iam subash..\n",
      "curently pursuing bachleors of engineering in \n",
      "electronics and communication with the cgpa of 8.09\n",
      "my faviorite subject from my branch is computer networks\n"
     ]
    }
   ],
   "source": [
    "h = open(\"hello.txt\")\n",
    "print(h.read())\n",
    "for x in h:\n",
    "    print(x)\n",
    "h.close()"
   ]
  },
  {
   "cell_type": "code",
   "execution_count": 20,
   "metadata": {},
   "outputs": [
    {
     "name": "stdout",
     "output_type": "stream",
     "text": [
      "hi iam subash..\n",
      "curently pursuing bachleors of engineering in \n",
      "electronics and communication with the cgpa of 8.09\n",
      "my faviorite subject from my branch is computer networksiam nobodyiam nobodyiam nobody\n"
     ]
    }
   ],
   "source": [
    "h = open(\"hello.txt\",\"a\")\n",
    "h.write(\"iam nobody\")\n",
    "h.close()\n",
    "h= open(\"hello.txt\",\"r\")\n",
    "print(h.read())"
   ]
  },
  {
   "cell_type": "code",
   "execution_count": null,
   "metadata": {},
   "outputs": [],
   "source": [
    "f = open(\"lolly.txt\",\"x\")\n"
   ]
  },
  {
   "cell_type": "code",
   "execution_count": 29,
   "metadata": {},
   "outputs": [
    {
     "name": "stdout",
     "output_type": "stream",
     "text": [
      "hellothere\n"
     ]
    }
   ],
   "source": [
    "h = open(\"lolly.txt\",\"w\")\n",
    "h.write(\"hellothere\")\n",
    "h.close()\n",
    "h = open(\"lolly.txt\",\"r\")\n",
    "print(h.read())\n",
    "h.close()"
   ]
  },
  {
   "cell_type": "code",
   "execution_count": 32,
   "metadata": {},
   "outputs": [
    {
     "ename": "PermissionError",
     "evalue": "[WinError 32] The process cannot access the file because it is being used by another process: 'lolly.txt'",
     "output_type": "error",
     "traceback": [
      "\u001b[1;31m---------------------------------------------------------------------------\u001b[0m",
      "\u001b[1;31mPermissionError\u001b[0m                           Traceback (most recent call last)",
      "Cell \u001b[1;32mIn[32], line 2\u001b[0m\n\u001b[0;32m      1\u001b[0m \u001b[38;5;28;01mimport\u001b[39;00m \u001b[38;5;21;01mos\u001b[39;00m\n\u001b[1;32m----> 2\u001b[0m os\u001b[38;5;241m.\u001b[39mremove(\u001b[38;5;124m\"\u001b[39m\u001b[38;5;124mlolly.txt\u001b[39m\u001b[38;5;124m\"\u001b[39m)\n",
      "\u001b[1;31mPermissionError\u001b[0m: [WinError 32] The process cannot access the file because it is being used by another process: 'lolly.txt'"
     ]
    }
   ],
   "source": [
    "import os\n",
    "os.remove(\"lolly.txt\")"
   ]
  },
  {
   "cell_type": "code",
   "execution_count": null,
   "metadata": {},
   "outputs": [],
   "source": [
    "h"
   ]
  }
 ],
 "metadata": {
  "kernelspec": {
   "display_name": "project1",
   "language": "python",
   "name": "python3"
  },
  "language_info": {
   "codemirror_mode": {
    "name": "ipython",
    "version": 3
   },
   "file_extension": ".py",
   "mimetype": "text/x-python",
   "name": "python",
   "nbconvert_exporter": "python",
   "pygments_lexer": "ipython3",
   "version": "3.12.4"
  }
 },
 "nbformat": 4,
 "nbformat_minor": 2
}
