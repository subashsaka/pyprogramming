{
 "cells": [
  {
   "cell_type": "code",
   "execution_count": null,
   "metadata": {},
   "outputs": [
    {
     "name": "stdout",
     "output_type": "stream",
     "text": [
      "[2, 4]\n"
     ]
    },
    {
     "data": {
      "text/plain": [
       "'for i in n:\\n    if i % 2==0:\\n        m.append[i]\\nprint(m)'"
      ]
     },
     "execution_count": 10,
     "metadata": {},
     "output_type": "execute_result"
    }
   ],
   "source": [
    "n = list(map(int,input().split()))\n",
    "m = []\n",
    "for i in n:\n",
    "    if i % 2==0:\n",
    "        m.append(i)\n",
    "print(sum(m))\n",
    "\n",
    "'''for i in n:\n",
    "    if i % 2==0:\n",
    "        m.append[i]\n",
    "print(m)'''\n"
   ]
  },
  {
   "cell_type": "code",
   "execution_count": 12,
   "metadata": {},
   "outputs": [
    {
     "name": "stdout",
     "output_type": "stream",
     "text": [
      "pali\n"
     ]
    }
   ],
   "source": [
    "n = input()\n",
    "m = n[::-1]\n",
    "if n == m:\n",
    "    print(\"pali\")\n",
    "else:\n",
    "    print(\"notpali\")"
   ]
  },
  {
   "cell_type": "code",
   "execution_count": null,
   "metadata": {},
   "outputs": [
    {
     "name": "stdout",
     "output_type": "stream",
     "text": [
      "s\n",
      "u\n",
      "b\n",
      "a\n",
      "s\n",
      "h\n"
     ]
    }
   ],
   "source": [
    "n = input()\n",
    "chas = {}\n",
    "for i in n:\n",
    "    if i in chas:\n",
    "        chas[i]+=1\n",
    "    else:\n",
    "        chas[i] = 1"
   ]
  },
  {
   "cell_type": "code",
   "execution_count": 20,
   "metadata": {},
   "outputs": [
    {
     "name": "stdout",
     "output_type": "stream",
     "text": [
      "[1, 2, 5, 6, 8, 9, 10, 12]\n"
     ]
    }
   ],
   "source": [
    "list = [1, 5, 8, 12]\n",
    "list2 = [2, 6, 9, 10]\n",
    "m = list + list2\n",
    "print(sorted(m))"
   ]
  },
  {
   "cell_type": "code",
   "execution_count": null,
   "metadata": {},
   "outputs": [
    {
     "name": "stdout",
     "output_type": "stream",
     "text": [
      "Welcome to the PyPassword Generator!\n",
      "v#3E9&+u4"
     ]
    }
   ],
   "source": [
    "#Password Generator Project\n",
    "import random\n",
    "letters = ['a', 'b', 'c', 'd', 'e', 'f', 'g', 'h', 'i', 'j', 'k', 'l', 'm', 'n', 'o', 'p', 'q', 'r', 's', 't', 'u', 'v', 'w', 'x', 'y', 'z', 'A', 'B', 'C', 'D', 'E', 'F', 'G', 'H', 'I', 'J', 'K', 'L', 'M', 'N', 'O', 'P', 'Q', 'R', 'S', 'T', 'U', 'V', 'W', 'X', 'Y', 'Z']\n",
    "numbers = ['0', '1', '2', '3', '4', '5', '6', '7', '8', '9']\n",
    "symbols = ['!', '#', '$', '%', '&', '(', ')', '*', '+']\n",
    "\n",
    "print(\"Welcome to my Password Generator!\")\n",
    "nr_letters= int(input(\"How many letters would you like in your password?\\n\")) \n",
    "nr_symbols = int(input(f\"How many symbols would you like?\\n\"))\n",
    "nr_numbers = int(input(f\"How many numbers would you like?\\n\"))\n",
    "\n",
    "password = []\n",
    "for char in range(1,nr_letters+1):\n",
    "    password.append(random.choice(letters))\n",
    "for char in range(1,nr_symbols+1):\n",
    "    password.append(random.choice(symbols))\n",
    "for char in range(1,nr_numbers+1):\n",
    "    password.append(random.choice(numbers))\n",
    "random.shuffle(password)\n",
    "for char in password:\n",
    "    print(char,end = '')"
   ]
  },
  {
   "cell_type": "code",
   "execution_count": 17,
   "metadata": {},
   "outputs": [
    {
     "name": "stdout",
     "output_type": "stream",
     "text": [
      "hi iam subash..\n",
      "curently pursuing bachleors of engineering in \n",
      "electronics and communication with the cgpa of 8.09\n",
      "my faviorite subject from my branch is computer networks\n"
     ]
    }
   ],
   "source": [
    "h = open(\"hello.txt\")\n",
    "print(h.read())\n",
    "for x in h:\n",
    "    print(x)\n",
    "h.close()"
   ]
  },
  {
   "cell_type": "code",
   "execution_count": 20,
   "metadata": {},
   "outputs": [
    {
     "name": "stdout",
     "output_type": "stream",
     "text": [
      "hi iam subash..\n",
      "curently pursuing bachleors of engineering in \n",
      "electronics and communication with the cgpa of 8.09\n",
      "my faviorite subject from my branch is computer networksiam nobodyiam nobodyiam nobody\n"
     ]
    }
   ],
   "source": [
    "h = open(\"hello.txt\",\"a\")\n",
    "h.write(\"iam nobody\")\n",
    "h.close()\n",
    "h= open(\"hello.txt\",\"r\")\n",
    "print(h.read())"
   ]
  },
  {
   "cell_type": "code",
   "execution_count": null,
   "metadata": {},
   "outputs": [],
   "source": [
    "f = open(\"lolly.txt\",\"x\")\n"
   ]
  },
  {
   "cell_type": "code",
   "execution_count": 29,
   "metadata": {},
   "outputs": [
    {
     "name": "stdout",
     "output_type": "stream",
     "text": [
      "hellothere\n"
     ]
    }
   ],
   "source": [
    "h = open(\"lolly.txt\",\"w\")\n",
    "h.write(\"hellothere\")\n",
    "h.close()\n",
    "h = open(\"lolly.txt\",\"r\")\n",
    "print(h.read())\n",
    "h.close()"
   ]
  },
  {
   "cell_type": "code",
   "execution_count": 5,
   "metadata": {},
   "outputs": [
    {
     "name": "stdout",
     "output_type": "stream",
     "text": [
      "1\n"
     ]
    }
   ],
   "source": [
    "prices = [7,1,5,3,6,4]\n",
    "buy = prices[0]\n",
    "sell = prices\n",
    "for i in prices:\n",
    "    if i <= buy:\n",
    "        buy = i\n",
    "print(buy)\n"
   ]
  },
  {
   "cell_type": "code",
   "execution_count": 2,
   "metadata": {},
   "outputs": [
    {
     "name": "stdout",
     "output_type": "stream",
     "text": [
      "5\n"
     ]
    }
   ],
   "source": [
    "prices = [7,1,5,3,6,4]\n",
    "minprice = prices[0]\n",
    "profit = 0\n",
    "for i in prices[1:]:\n",
    "    profit = max(profit,i-minprice)\n",
    "    minprice = min(minprice,i)\n",
    "print(profit)"
   ]
  },
  {
   "cell_type": "code",
   "execution_count": 20,
   "metadata": {},
   "outputs": [
    {
     "name": "stdout",
     "output_type": "stream",
     "text": [
      "6\n",
      "3\n",
      "6 2\n"
     ]
    }
   ],
   "source": [
    "        # code here\n",
    "arr = [4, 3, 6, 2, 1, 1,7]\n",
    "\n",
    "n = len(arr)\n",
    "print(n)\n",
    "midd = (n//2)\n",
    "print(midd)\n",
    "print(arr[midd])\n"
   ]
  },
  {
   "cell_type": "code",
   "execution_count": 7,
   "metadata": {},
   "outputs": [
    {
     "name": "stdout",
     "output_type": "stream",
     "text": [
      "[1, 3, 1, 7]\n",
      "{1, 2, 3, 4, 5, 7, 8}\n"
     ]
    }
   ],
   "source": [
    "a = [1,2,3,4,1,3,1,5,7,8,7]\n",
    "seen = set()\n",
    "dup = []\n",
    "for i in a:\n",
    "    if i in seen:\n",
    "        dup.append(i)\n",
    "    else:\n",
    "        seen.add(i)\n",
    "\n",
    "print(dup)\n",
    "print(seen)"
   ]
  },
  {
   "cell_type": "markdown",
   "metadata": {},
   "source": [
    "LEFT ROTATE"
   ]
  },
  {
   "cell_type": "code",
   "execution_count": null,
   "metadata": {},
   "outputs": [],
   "source": [
    "class Solution:\n",
    "    def leftRotate(self, arr, d):\n",
    "        # code here\n",
    "        arr[d:] = reversed(arr[d:])\n",
    "        arr[:d] = reversed(arr[:d])\n",
    "        arr.reverse()"
   ]
  },
  {
   "cell_type": "code",
   "execution_count": 11,
   "metadata": {},
   "outputs": [
    {
     "name": "stdout",
     "output_type": "stream",
     "text": [
      "2\n"
     ]
    }
   ],
   "source": [
    "arr = [1, 2, 1, 2, 1, 3]\n",
    "half = (len(arr)//2)\n",
    "first = (sum(arr[:half]))\n",
    "second= (sum(arr[half:]))\n",
    "print(second - first)\n"
   ]
  },
  {
   "cell_type": "code",
   "execution_count": 2,
   "metadata": {},
   "outputs": [
    {
     "name": "stdout",
     "output_type": "stream",
     "text": [
      "[1, 2, 3, 4, 5, 6]\n"
     ]
    }
   ],
   "source": [
    "arr = [3,4,2,1,5,6]\n",
    "n = len(arr)\n",
    "for i in range(n):\n",
    "    for j in range(0,n-i-1):\n",
    "        if arr[j] > arr[j+1]:\n",
    "            arr[j],arr[j+1] = arr[j+1],arr[j]\n",
    "print(arr)"
   ]
  },
  {
   "cell_type": "code",
   "execution_count": 11,
   "metadata": {},
   "outputs": [
    {
     "name": "stdout",
     "output_type": "stream",
     "text": [
      "14\n"
     ]
    }
   ],
   "source": [
    "c = [2,5]\n",
    "a,b = min(c),max(c)\n",
    "tot = sum(range(a,b+1))\n",
    "print(tot)"
   ]
  }
 ],
 "metadata": {
  "kernelspec": {
   "display_name": "project1",
   "language": "python",
   "name": "python3"
  },
  "language_info": {
   "codemirror_mode": {
    "name": "ipython",
    "version": 3
   },
   "file_extension": ".py",
   "mimetype": "text/x-python",
   "name": "python",
   "nbconvert_exporter": "python",
   "pygments_lexer": "ipython3",
   "version": "3.12.4"
  }
 },
 "nbformat": 4,
 "nbformat_minor": 2
}
