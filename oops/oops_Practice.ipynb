{
 "cells": [
  {
   "cell_type": "markdown",
   "id": "7b1623d3",
   "metadata": {},
   "source": [
    "object and class"
   ]
  },
  {
   "cell_type": "code",
   "execution_count": 3,
   "id": "fcc3906b",
   "metadata": {},
   "outputs": [
    {
     "name": "stdout",
     "output_type": "stream",
     "text": [
      "I like your mustang\n"
     ]
    }
   ],
   "source": [
    "class vechile:\n",
    "    def __init__ (self, name,speed,color):\n",
    "        self.name = name\n",
    "        self.speed =speed\n",
    "        self.color = color\n",
    "    def work(self):\n",
    "        print(\"I like your \" + self.name)\n",
    "car1 =  vechile(\"mustang\",300,\"black\")\n",
    "car1.work()"
   ]
  },
  {
   "cell_type": "markdown",
   "id": "53f5a04d",
   "metadata": {},
   "source": [
    "Inheritence"
   ]
  },
  {
   "cell_type": "code",
   "execution_count": 18,
   "id": "6756ced9",
   "metadata": {},
   "outputs": [
    {
     "name": "stdout",
     "output_type": "stream",
     "text": [
      "I fucking love your Black mustang\n"
     ]
    }
   ],
   "source": [
    "class parent:\n",
    "    def __init__ (self,name,speed,color):\n",
    "        self.aname = name\n",
    "        self.bspeed = speed\n",
    "        self.ccolor = color\n",
    "    def driving(self):\n",
    "        print(\"I fucking love your \" +self.ccolor,self.aname)\n",
    "class child(parent):\n",
    "    def __init__(self,name,speed,color):\n",
    "        parent.__init__(self,name,speed,color)\n",
    "\n",
    "x = child(\"mustang\",400,\"Black\")\n",
    "x.driving()"
   ]
  },
  {
   "cell_type": "markdown",
   "id": "6b5e9cbf",
   "metadata": {},
   "source": [
    "polymorphism"
   ]
  },
  {
   "cell_type": "code",
   "execution_count": 2,
   "id": "5993e7b4",
   "metadata": {},
   "outputs": [
    {
     "name": "stdout",
     "output_type": "stream",
     "text": [
      "driving\n",
      "flying\n"
     ]
    }
   ],
   "source": [
    "class car:\n",
    "    def __init__(self,brand,model):\n",
    "        self.brandname = brand\n",
    "        self.modelname = model\n",
    "    def move(self):\n",
    "        print(\"driving\")\n",
    "\n",
    "\n",
    "class aeroplane:\n",
    "    def __init__(self,brand,model):\n",
    "        self.brandname = brand\n",
    "        self.modelname = model\n",
    "    def move(self):\n",
    "        print(\"flying\")\n",
    "\n",
    "car1 = car(\"mustang\",\"cobra\")\n",
    "aero = aeroplane(\"emirites\",\"super30\")\n",
    "for x in(car1,aero):\n",
    "    x.move()"
   ]
  },
  {
   "cell_type": "markdown",
   "id": "c40589f6",
   "metadata": {},
   "source": [
    "Abstaraction"
   ]
  },
  {
   "cell_type": "code",
   "execution_count": null,
   "id": "1778475a",
   "metadata": {},
   "outputs": [
    {
     "name": "stdout",
     "output_type": "stream",
     "text": [
      "money withdrawn!\n",
      "balance fetched\n"
     ]
    }
   ],
   "source": [
    "from abc import ABC, abstractmethod\n",
    "class atm (ABC):\n",
    "    @abstractmethod\n",
    "    def withdraw(self):\n",
    "        pass\n",
    "    @abstractmethod\n",
    "    def check_balance(self):\n",
    "        pass\n",
    "\n",
    "class useratm(atm):\n",
    "    def withdraw(self):\n",
    "        print(\"money withdrawn!\")\n",
    "    def check_balance(self):\n",
    "        print(\"balance fetched\")\n",
    "\n",
    "user = useratm()\n",
    "user.withdraw()\n",
    "user.check_balance()"
   ]
  }
 ],
 "metadata": {
  "kernelspec": {
   "display_name": "project1",
   "language": "python",
   "name": "python3"
  },
  "language_info": {
   "codemirror_mode": {
    "name": "ipython",
    "version": 3
   },
   "file_extension": ".py",
   "mimetype": "text/x-python",
   "name": "python",
   "nbconvert_exporter": "python",
   "pygments_lexer": "ipython3",
   "version": "3.12.4"
  }
 },
 "nbformat": 4,
 "nbformat_minor": 5
}
