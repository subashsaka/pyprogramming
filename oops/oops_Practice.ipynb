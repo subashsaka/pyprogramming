{
 "cells": [
  {
   "cell_type": "markdown",
   "id": "7b1623d3",
   "metadata": {},
   "source": [
    "object and class"
   ]
  },
  {
   "cell_type": "code",
   "execution_count": 3,
   "id": "fcc3906b",
   "metadata": {},
   "outputs": [
    {
     "name": "stdout",
     "output_type": "stream",
     "text": [
      "I like your mustang\n"
     ]
    }
   ],
   "source": [
    "class vechile:\n",
    "    def __init__ (self, name,speed,color):\n",
    "        self.name = name\n",
    "        self.speed =speed\n",
    "        self.color = color\n",
    "    def work(self):\n",
    "        print(\"I like your \" + self.name)\n",
    "car1 =  vechile(\"mustang\",300,\"black\")\n",
    "car1.work()"
   ]
  },
  {
   "cell_type": "markdown",
   "id": "53f5a04d",
   "metadata": {},
   "source": [
    "Inheritence"
   ]
  },
  {
   "cell_type": "code",
   "execution_count": 18,
   "id": "6756ced9",
   "metadata": {},
   "outputs": [
    {
     "name": "stdout",
     "output_type": "stream",
     "text": [
      "I fucking love your Black mustang\n"
     ]
    }
   ],
   "source": [
    "class parent:\n",
    "    def __init__ (self,name,speed,color):\n",
    "        self.aname = name\n",
    "        self.bspeed = speed\n",
    "        self.ccolor = color\n",
    "    def driving(self):\n",
    "        print(\"I fucking love your \" +self.ccolor,self.aname)\n",
    "class child(parent):\n",
    "    def __init__(self,name,speed,color):\n",
    "        parent.__init__(self,name,speed,color)\n",
    "\n",
    "x = child(\"mustang\",400,\"Black\")\n",
    "x.driving()"
   ]
  },
  {
   "cell_type": "markdown",
   "id": "6b5e9cbf",
   "metadata": {},
   "source": [
    "polymorphism"
   ]
  },
  {
   "cell_type": "code",
   "execution_count": 2,
   "id": "5993e7b4",
   "metadata": {},
   "outputs": [
    {
     "name": "stdout",
     "output_type": "stream",
     "text": [
      "driving\n",
      "flying\n"
     ]
    }
   ],
   "source": [
    "class car:\n",
    "    def __init__(self,brand,model):\n",
    "        self.brandname = brand\n",
    "        self.modelname = model\n",
    "    def move(self):\n",
    "        print(\"driving\")\n",
    "\n",
    "\n",
    "class aeroplane:\n",
    "    def __init__(self,brand,model):\n",
    "        self.brandname = brand\n",
    "        self.modelname = model\n",
    "    def move(self):\n",
    "        print(\"flying\")\n",
    "\n",
    "car1 = car(\"mustang\",\"cobra\")\n",
    "aero = aeroplane(\"emirites\",\"super30\")\n",
    "for x in(car1,aero):\n",
    "    x.move()"
   ]
  },
  {
   "cell_type": "markdown",
   "id": "c40589f6",
   "metadata": {},
   "source": [
    "Abstaraction"
   ]
  },
  {
   "cell_type": "code",
   "execution_count": null,
   "id": "1778475a",
   "metadata": {},
   "outputs": [
    {
     "name": "stdout",
     "output_type": "stream",
     "text": [
      "money withdrawn!\n",
      "balance fetched\n"
     ]
    }
   ],
   "source": [
    "from abc import ABC, abstractmethod\n",
    "class atm (ABC):\n",
    "    @abstractmethod\n",
    "    def withdraw(self):\n",
    "        pass\n",
    "    @abstractmethod\n",
    "    def check_balance(self):\n",
    "        pass\n",
    "\n",
    "class useratm(atm):\n",
    "    def withdraw(self):\n",
    "        print(\"money withdrawn!\")\n",
    "    def check_balance(self):\n",
    "        print(\"balance fetched\")\n",
    "\n",
    "user = useratm()\n",
    "user.withdraw()\n",
    "user.check_balance()"
   ]
  },
  {
   "cell_type": "markdown",
   "id": "a28b13e3",
   "metadata": {},
   "source": [
    "ENCAPSULATION"
   ]
  },
  {
   "cell_type": "code",
   "execution_count": 1,
   "id": "b35f48b9",
   "metadata": {},
   "outputs": [
    {
     "name": "stdout",
     "output_type": "stream",
     "text": [
      "21\n"
     ]
    }
   ],
   "source": [
    "class person:\n",
    "    def __init__(self):\n",
    "        self.__age = 0\n",
    "    def set_age(self,a):\n",
    "        self.__age = a\n",
    "    def get_age(self):\n",
    "        return self.__age\n",
    "p = person()\n",
    "p.set_age(21)\n",
    "print(p.get_age())"
   ]
  },
  {
   "cell_type": "markdown",
   "id": "d02c30d8",
   "metadata": {},
   "source": [
    "POLYMORPHISM"
   ]
  },
  {
   "cell_type": "code",
   "execution_count": 2,
   "id": "d84a7165",
   "metadata": {},
   "outputs": [
    {
     "name": "stdout",
     "output_type": "stream",
     "text": [
      "chirp\n",
      "meow\n"
     ]
    }
   ],
   "source": [
    "class bird:\n",
    "    def speak(self):\n",
    "        print('chirp')\n",
    "\n",
    "class cat:\n",
    "    def speak(self):\n",
    "        print('meow')\n",
    "for animal in bird(),cat():\n",
    "    animal.speak()"
   ]
  },
  {
   "cell_type": "markdown",
   "id": "cddc9869",
   "metadata": {},
   "source": [
    "INHERITANCE"
   ]
  },
  {
   "cell_type": "code",
   "execution_count": 3,
   "id": "f9268e71",
   "metadata": {},
   "outputs": [
    {
     "name": "stdout",
     "output_type": "stream",
     "text": [
      "animal speak\n"
     ]
    }
   ],
   "source": [
    "class animal:\n",
    "    def speak(self):\n",
    "        print('animal speak')\n",
    "\n",
    "class dog(animal):\n",
    "    pass\n",
    "d = dog()\n",
    "d.speak()"
   ]
  },
  {
   "cell_type": "markdown",
   "id": "ea3cb273",
   "metadata": {},
   "source": [
    "ABSTRACTION"
   ]
  },
  {
   "cell_type": "code",
   "execution_count": 4,
   "id": "a668415f",
   "metadata": {},
   "outputs": [
    {
     "name": "stdout",
     "output_type": "stream",
     "text": [
      "16\n"
     ]
    }
   ],
   "source": [
    "from abc import ABC,abstractmethod\n",
    "class shape(ABC):\n",
    "    @abstractmethod\n",
    "    def area(self):\n",
    "        pass\n",
    "\n",
    "class square(shape):\n",
    "    def area(self):\n",
    "        return 4*4\n",
    "    \n",
    "g = square()\n",
    "print(g.area())"
   ]
  }
 ],
 "metadata": {
  "kernelspec": {
   "display_name": "project1",
   "language": "python",
   "name": "python3"
  },
  "language_info": {
   "codemirror_mode": {
    "name": "ipython",
    "version": 3
   },
   "file_extension": ".py",
   "mimetype": "text/x-python",
   "name": "python",
   "nbconvert_exporter": "python",
   "pygments_lexer": "ipython3",
   "version": "3.12.4"
  }
 },
 "nbformat": 4,
 "nbformat_minor": 5
}
