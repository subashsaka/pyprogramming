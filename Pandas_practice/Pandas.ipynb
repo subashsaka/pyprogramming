{
 "cells": [
  {
   "cell_type": "code",
   "execution_count": 2,
   "id": "131ca86a",
   "metadata": {},
   "outputs": [
    {
     "name": "stdout",
     "output_type": "stream",
     "text": [
      "      Name  Age     City\n",
      "0    Alice   25    Delhi\n",
      "1      Bob   30   Mumbai\n",
      "2  Charlie   35  Chennai\n"
     ]
    }
   ],
   "source": [
    "import pandas as pd\n",
    "\n",
    "data = {\n",
    "    'Name': ['Alice', 'Bob', 'Charlie'],\n",
    "    'Age': [25, 30, 35],\n",
    "    'City': ['Delhi', 'Mumbai', 'Chennai']\n",
    "}\n",
    "\n",
    "df = pd.DataFrame(data)\n",
    "print(df)"
   ]
  },
  {
   "cell_type": "code",
   "execution_count": null,
   "id": "80512281",
   "metadata": {},
   "outputs": [
    {
     "name": "stdout",
     "output_type": "stream",
     "text": [
      "     Duration  Pulse  Maxpulse  Calories\n",
      "164        60    105       140     290.8\n",
      "165        60    110       145     300.0\n",
      "166        60    115       145     310.2\n",
      "167        75    120       150     320.4\n",
      "168        75    125       150     330.4\n"
     ]
    }
   ],
   "source": [
    "import pandas as pd\n",
    "df = pd.read_csv('data.csv')\n",
    "print(df.tail())"
   ]
  },
  {
   "cell_type": "markdown",
   "id": "2e560545",
   "metadata": {},
   "source": [
    "Accesing Data from dataframes"
   ]
  },
  {
   "cell_type": "code",
   "execution_count": null,
   "id": "77e7e208",
   "metadata": {},
   "outputs": [
    {
     "name": "stdout",
     "output_type": "stream",
     "text": [
      "     Name  Marks Subject\n",
      "0  Subash     90  Python\n",
      "1    Arun     85    Java\n",
      "2   Kavya     95     C++\n",
      "0    Subash\n",
      "1      Arun\n",
      "2     Kavya\n",
      "Name: Name, dtype: object\n",
      "85\n"
     ]
    }
   ],
   "source": [
    "import pandas as pd\n",
    "student = {\n",
    "    'Name': ['Subash', 'Arun', 'Kavya'],\n",
    "    'Marks': [90, 85, 95],\n",
    "    'Subject': ['Python', 'Java', 'C++']\n",
    "}\n",
    "df = pd.DataFrame(student)\n",
    "print(df)\n",
    "# Print only the 'Name' column\n",
    "print(df['Name'])\n",
    "# Print the marks of the second student\n",
    "print(df['Marks'][1])"
   ]
  },
  {
   "cell_type": "code",
   "execution_count": null,
   "id": "78ba4704",
   "metadata": {},
   "outputs": [
    {
     "name": "stdout",
     "output_type": "stream",
     "text": [
      "   Product  Price  Stock    Category\n",
      "0     soap     10     50        Bath\n",
      "1  shampoo     20     60        Bath\n",
      "2    brush     30    100  Toiletries\n",
      "3     toys     40     80        Kids\n",
      "CSV file saved successfully.\n"
     ]
    }
   ],
   "source": [
    "import pandas as pd\n",
    "pract = {\n",
    "    'Product' : ['soap','shampoo','brush','toys'],\n",
    "    'Price' :[10,20,30,40],\n",
    "    'Stock': [50, 60, 100, 80],\n",
    "    'Category': ['Bath', 'Bath', 'Toiletries', 'Kids']\n",
    "}\n",
    "df = pd.DataFrame(pract)# creating dataframe\n",
    "df.to_csv('product.csv',index=False)#save csv file\n",
    "print(df)\n",
    "print(\"CSV file saved successfully.\")"
   ]
  },
  {
   "cell_type": "code",
   "execution_count": 11,
   "id": "a2945355",
   "metadata": {},
   "outputs": [
    {
     "name": "stdout",
     "output_type": "stream",
     "text": [
      "2.2.2\n"
     ]
    }
   ],
   "source": [
    "import pandas as pd\n",
    "print(pd.__version__)"
   ]
  },
  {
   "cell_type": "markdown",
   "id": "c748a3c2",
   "metadata": {},
   "source": [
    "What is a Series?\n",
    "A Pandas Series is like a column in a table.\n",
    "\n",
    "It is a one-dimensional array holding data of any type."
   ]
  },
  {
   "cell_type": "code",
   "execution_count": 12,
   "id": "f1b0d963",
   "metadata": {},
   "outputs": [
    {
     "name": "stdout",
     "output_type": "stream",
     "text": [
      "0    1\n",
      "1    2\n",
      "2    3\n",
      "dtype: int64\n"
     ]
    }
   ],
   "source": [
    "a = [1,2,3]\n",
    "b= pd.Series(a)\n",
    "print(b)"
   ]
  },
  {
   "cell_type": "markdown",
   "id": "f1207b60",
   "metadata": {},
   "source": [
    "Create Labels\n",
    "With the index argument, you can name your own labels."
   ]
  },
  {
   "cell_type": "code",
   "execution_count": null,
   "id": "f210905e",
   "metadata": {},
   "outputs": [
    {
     "name": "stdout",
     "output_type": "stream",
     "text": [
      "x    1\n",
      "y    7\n",
      "z    2\n",
      "dtype: int64\n"
     ]
    }
   ],
   "source": [
    "import pandas as pd\n",
    "a = [1, 7, 2]\n",
    "myvar = pd.Series(a, index = [\"x\", \"y\", \"z\"])\n",
    "print(myvar)"
   ]
  },
  {
   "cell_type": "code",
   "execution_count": 5,
   "id": "dfe35edc",
   "metadata": {},
   "outputs": [
    {
     "name": "stdout",
     "output_type": "stream",
     "text": [
      "   Product  Price  Stock    Category\n",
      "0     soap     10     50        Bath\n",
      "1  shampoo     20     60        Bath\n",
      "2    brush     30    100  Toiletries\n",
      "3     toys     40     80        Kids\n"
     ]
    }
   ],
   "source": [
    "a = pd.read_csv('product.csv')#Extract saved csv file\n",
    "print(a.to_string())"
   ]
  },
  {
   "cell_type": "markdown",
   "id": "5f2cf667",
   "metadata": {},
   "source": [
    "One of the most used method for getting a quick overview of the DataFrame, is the head() method.\n",
    "\n",
    "The head() method returns the headers and a specified number of rows, starting from the top."
   ]
  },
  {
   "cell_type": "code",
   "execution_count": 7,
   "id": "bf2518bb",
   "metadata": {},
   "outputs": [
    {
     "name": "stdout",
     "output_type": "stream",
     "text": [
      "   Product  Price  Stock    Category\n",
      "0     soap     10     50        Bath\n",
      "1  shampoo     20     60        Bath\n",
      "2    brush     30    100  Toiletries\n",
      "3     toys     40     80        Kids\n"
     ]
    }
   ],
   "source": [
    "a = pd.read_csv('product.csv')\n",
    "print(a.head(4))"
   ]
  },
  {
   "cell_type": "markdown",
   "id": "1d04dbfd",
   "metadata": {},
   "source": [
    "Tail is same as head but returns the data from the last rows"
   ]
  },
  {
   "cell_type": "code",
   "execution_count": 8,
   "id": "2612ab71",
   "metadata": {},
   "outputs": [
    {
     "name": "stdout",
     "output_type": "stream",
     "text": [
      "   Product  Price  Stock    Category\n",
      "0     soap     10     50        Bath\n",
      "1  shampoo     20     60        Bath\n",
      "2    brush     30    100  Toiletries\n",
      "3     toys     40     80        Kids\n"
     ]
    }
   ],
   "source": [
    "a = pd.read_csv('product.csv')\n",
    "print(a.tail())"
   ]
  },
  {
   "cell_type": "markdown",
   "id": "e1944f9a",
   "metadata": {},
   "source": [
    "To find the information of the table"
   ]
  },
  {
   "cell_type": "code",
   "execution_count": 9,
   "id": "3dc4e89b",
   "metadata": {},
   "outputs": [
    {
     "name": "stdout",
     "output_type": "stream",
     "text": [
      "<bound method DataFrame.info of    Product  Price  Stock    Category\n",
      "0     soap     10     50        Bath\n",
      "1  shampoo     20     60        Bath\n",
      "2    brush     30    100  Toiletries\n",
      "3     toys     40     80        Kids>\n"
     ]
    }
   ],
   "source": [
    "print(a.info)"
   ]
  },
  {
   "cell_type": "code",
   "execution_count": 15,
   "id": "3e033a30",
   "metadata": {},
   "outputs": [
    {
     "name": "stdout",
     "output_type": "stream",
     "text": [
      "60\n"
     ]
    }
   ],
   "source": [
    "import pandas as pd\n",
    "print(pd.options.display.max_rows)"
   ]
  },
  {
   "cell_type": "markdown",
   "id": "535a2166",
   "metadata": {},
   "source": [
    "| Code                                      | What It Does                         |\n",
    "| ----------------------------------------- | ------------------------------------ |\n",
    "| `pd.options.display.max_rows`             | Shows current row display limit      |\n",
    "| `pd.set_option('display.max_rows', 100)`  | Sets the limit to 100 rows           |\n",
    "| `pd.set_option('display.max_rows', None)` | Shows all rows in a DataFrame output |\n"
   ]
  },
  {
   "cell_type": "markdown",
   "id": "c37b9ade",
   "metadata": {},
   "source": [
    "Jason"
   ]
  },
  {
   "cell_type": "code",
   "execution_count": null,
   "id": "9897a788",
   "metadata": {},
   "outputs": [],
   "source": [
    "import pandas as pd\n",
    "df = pd.read_json(\"data.json\")  \n",
    "print(df)"
   ]
  },
  {
   "cell_type": "code",
   "execution_count": 3,
   "id": "9382b3f9",
   "metadata": {},
   "outputs": [
    {
     "name": "stdout",
     "output_type": "stream",
     "text": [
      "  Product  Price\n",
      "0    Soap     10\n",
      "1   Brush     30\n",
      "[{'Product': 'Soap', 'Price': 10}, {'Product': 'Brush', 'Price': 30}]\n"
     ]
    }
   ],
   "source": [
    "import pandas as pd\n",
    "import json\n",
    "\n",
    "# Sample JSON data (string format)\n",
    "data = '''\n",
    "[\n",
    "  {\"Product\": \"Soap\", \"Price\": 10},\n",
    "  {\"Product\": \"Brush\", \"Price\": 30}\n",
    "]\n",
    "'''\n",
    "\n",
    "# Convert string to Python list of dicts using json.loads\n",
    "parsed_data = json.loads(data)\n",
    "\n",
    "# Now convert it to DataFrame\n",
    "df = pd.DataFrame(parsed_data)\n",
    "\n",
    "print(df)\n",
    "print(parsed_data)"
   ]
  },
  {
   "cell_type": "markdown",
   "id": "4224596d",
   "metadata": {},
   "source": [
    "*DATA CLEANING PART\n",
    "\n",
    "Data cleaning means fixing bad data in your data set.\n",
    "\n",
    "Bad data could be:\n",
    "\n",
    "Empty cells,\n",
    "Data in wrong format,\n",
    "Wrong data,\n",
    "Duplicates"
   ]
  },
  {
   "cell_type": "markdown",
   "id": "d2d3d2eb",
   "metadata": {},
   "source": [
    "Data before cleaning"
   ]
  },
  {
   "cell_type": "code",
   "execution_count": 2,
   "id": "0cf36868",
   "metadata": {},
   "outputs": [
    {
     "name": "stdout",
     "output_type": "stream",
     "text": [
      "      Product   Price  Stock     Category\n",
      "0        Soap    10.0   50.0         Bath\n",
      "1     Shampoo    20.0   60.0         Bath\n",
      "2       Brush    30.0  100.0   Toiletries\n",
      "3  Toothpaste     NaN   80.0   Toiletries\n",
      "4        Toys    40.0    NaN         Kids\n",
      "5     Shampoo    20.0   60.0         Bath\n",
      "6        Soap    10.0   50.0         Bath\n",
      "7       Phone  5000.0   20.0  Electronics\n",
      "8       Mouse   300.0    NaN  Electronics\n",
      "9  Toothpaste     NaN   80.0   Toiletries\n"
     ]
    }
   ],
   "source": [
    "import pandas as pd\n",
    "df = pd.read_csv('rawdata.csv')\n",
    "print(df)"
   ]
  },
  {
   "cell_type": "markdown",
   "id": "499cedb0",
   "metadata": {},
   "source": [
    "df.dropna() will remove the entire row if any of the column has NULL values\n",
    "But dropna() doesnt chnage the orginal data"
   ]
  },
  {
   "cell_type": "markdown",
   "id": "92b02bf9",
   "metadata": {},
   "source": [
    "If you want to change the original DataFrame, use this = \"df.dropna(inplace = True)\n",
    "\""
   ]
  },
  {
   "cell_type": "code",
   "execution_count": 3,
   "id": "742c3b11",
   "metadata": {},
   "outputs": [
    {
     "name": "stdout",
     "output_type": "stream",
     "text": [
      "   Product   Price  Stock     Category\n",
      "0     Soap    10.0   50.0         Bath\n",
      "1  Shampoo    20.0   60.0         Bath\n",
      "2    Brush    30.0  100.0   Toiletries\n",
      "5  Shampoo    20.0   60.0         Bath\n",
      "6     Soap    10.0   50.0         Bath\n",
      "7    Phone  5000.0   20.0  Electronics\n"
     ]
    }
   ],
   "source": [
    "import pandas as pd\n",
    "df = pd.read_csv('rawdata.csv')\n",
    "new_df = df.dropna()\n",
    "print(new_df.to_string())"
   ]
  },
  {
   "cell_type": "markdown",
   "id": "bc5fb85a",
   "metadata": {},
   "source": [
    "so insted of deleting the entire row because of some null values try to fill the null values with the data using fillna"
   ]
  },
  {
   "cell_type": "code",
   "execution_count": 21,
   "id": "921ddbb3",
   "metadata": {},
   "outputs": [
    {
     "name": "stdout",
     "output_type": "stream",
     "text": [
      "      Product   Price  Stock     Category\n",
      "0        Soap    10.0   50.0         Bath\n",
      "1     Shampoo    20.0   60.0         Bath\n",
      "2       Brush    30.0  100.0   Toiletries\n",
      "3  Toothpaste    20.0   80.0   Toiletries\n",
      "4        Toys    40.0   40.0         Kids\n",
      "5     Shampoo    20.0   60.0         Bath\n",
      "6        Soap    10.0   50.0         Bath\n",
      "7       Phone  5000.0   20.0  Electronics\n",
      "8       Mouse   300.0   40.0  Electronics\n",
      "9  Toothpaste    20.0   80.0   Toiletries\n"
     ]
    }
   ],
   "source": [
    "df = pd.read_csv('rawdata.csv')\n",
    "df.fillna({\"Price\": 20,\"Stock\": 40}, inplace=True)\n",
    "print(df)"
   ]
  },
  {
   "cell_type": "markdown",
   "id": "662ec5d0",
   "metadata": {},
   "source": [
    "CHECK DUPLICATE VALUES"
   ]
  },
  {
   "cell_type": "code",
   "execution_count": 5,
   "id": "7cda923d",
   "metadata": {},
   "outputs": [
    {
     "name": "stdout",
     "output_type": "stream",
     "text": [
      "      Product  Price  Stock    Category\n",
      "5     Shampoo   20.0   60.0        Bath\n",
      "6        Soap   10.0   50.0        Bath\n",
      "9  Toothpaste    NaN   80.0  Toiletries\n"
     ]
    }
   ],
   "source": [
    "import pandas as pd\n",
    "df = pd.read_csv('rawdata.csv')\n",
    "print(df[df.duplicated()])"
   ]
  },
  {
   "cell_type": "markdown",
   "id": "e171a462",
   "metadata": {},
   "source": [
    "NOW REMOVE DUPLICATE VALUES"
   ]
  },
  {
   "cell_type": "code",
   "execution_count": 26,
   "id": "07627e2b",
   "metadata": {},
   "outputs": [
    {
     "name": "stdout",
     "output_type": "stream",
     "text": [
      "      Product   Price  Stock     Category\n",
      "0        Soap    10.0   50.0         Bath\n",
      "1     Shampoo    20.0   60.0         Bath\n",
      "2       Brush    30.0  100.0   Toiletries\n",
      "3  Toothpaste    20.0   80.0   Toiletries\n",
      "4        Toys    40.0   40.0         Kids\n",
      "7       Phone  5000.0   20.0  Electronics\n",
      "8       Mouse   300.0   40.0  Electronics\n"
     ]
    }
   ],
   "source": [
    "import pandas as pd\n",
    "df = pd.read_csv('rawdata.csv')\n",
    "df.fillna({\"Price\": 20,\"Stock\": 40}, inplace=True)\n",
    "df.drop_duplicates(inplace=True)\n",
    "print(df)"
   ]
  },
  {
   "cell_type": "markdown",
   "id": "1d8dfc6a",
   "metadata": {},
   "source": [
    "checking after cleaning duplicates"
   ]
  },
  {
   "cell_type": "code",
   "execution_count": 6,
   "id": "cffac729",
   "metadata": {},
   "outputs": [
    {
     "name": "stdout",
     "output_type": "stream",
     "text": [
      "      Product   Price  Stock     Category\n",
      "0        Soap    10.0   50.0         Bath\n",
      "1     Shampoo    20.0   60.0         Bath\n",
      "2       Brush    30.0  100.0   Toiletries\n",
      "3  Toothpaste     NaN   80.0   Toiletries\n",
      "4        Toys    40.0    NaN         Kids\n",
      "5     Shampoo    20.0   60.0         Bath\n",
      "6        Soap    10.0   50.0         Bath\n",
      "7       Phone  5000.0   20.0  Electronics\n",
      "8       Mouse   300.0    NaN  Electronics\n",
      "9  Toothpaste     NaN   80.0   Toiletries\n",
      "The remaining duplicates are :  3\n"
     ]
    }
   ],
   "source": [
    "print(df)\n",
    "print(\"The remaining duplicates are : \",df.duplicated().sum())"
   ]
  },
  {
   "cell_type": "markdown",
   "id": "8705d070",
   "metadata": {},
   "source": [
    "DATA conversion"
   ]
  },
  {
   "cell_type": "markdown",
   "id": "902647fb",
   "metadata": {},
   "source": [
    "| Task                     | Code               |\n",
    "| ------------------------ | ------------------ |\n",
    "| Convert string to number | `pd.to_numeric()`  |\n",
    "| Convert string to date   | `pd.to_datetime()` |\n",
    "| Check data types         | `df.dtypes`        |\n",
    "| Drop invalid formats     | `df.dropna()`      |\n"
   ]
  },
  {
   "cell_type": "markdown",
   "id": "8bc6597f",
   "metadata": {},
   "source": [
    "EXAMPLE FOR CHANGING FORMAT\n",
    "\n",
    "import pandas as pd\n",
    "\n",
    "df = pd.read_csv('data.csv')\n",
    "\n",
    "df['Date'] = pd.to_datetime(df['Date'], format='mixed')\n",
    "\n",
    "print(df.to_string())"
   ]
  },
  {
   "cell_type": "markdown",
   "id": "8d76d5f2",
   "metadata": {},
   "source": [
    "Replacing Values from the data"
   ]
  },
  {
   "cell_type": "code",
   "execution_count": 1,
   "id": "5d18d187",
   "metadata": {},
   "outputs": [
    {
     "name": "stdout",
     "output_type": "stream",
     "text": [
      "      Product   Price  Stock     Category\n",
      "0        Soap    10.0   50.0         Bath\n",
      "1     Shampoo    20.0   60.0         Bath\n",
      "2       Brush    30.0   45.0   Toiletries\n",
      "3  Toothpaste    20.0   80.0   Toiletries\n",
      "4        Toys    40.0   40.0         Kids\n",
      "7       Phone  5000.0   20.0  Electronics\n",
      "8       Mouse   300.0   40.0  Electronics\n"
     ]
    }
   ],
   "source": [
    "import pandas as pd\n",
    "df = pd.read_csv('rawdata.csv')\n",
    "df.fillna({\"Price\": 20,\"Stock\": 40}, inplace=True)\n",
    "df.drop_duplicates(inplace=True)\n",
    "df.loc[2, 'Stock'] = 45 # replace using loc method\n",
    "print(df)"
   ]
  },
  {
   "cell_type": "code",
   "execution_count": 7,
   "id": "878c1d3c",
   "metadata": {},
   "outputs": [],
   "source": [
    "df.to_csv(\"cleaned_data.csv\", index=False)\n"
   ]
  },
  {
   "cell_type": "code",
   "execution_count": 5,
   "id": "b0a35b65",
   "metadata": {},
   "outputs": [
    {
     "name": "stdout",
     "output_type": "stream",
     "text": [
      "      Product   Price  Stock     Category\n",
      "0        Soap    10.0   50.0         Bath\n",
      "1     Shampoo    20.0   60.0         Bath\n",
      "2       Brush    30.0   45.0   Toiletries\n",
      "3  Toothpaste    20.0   80.0   Toiletries\n",
      "4        Toys    40.0   40.0         Kids\n",
      "7       Phone  5000.0   20.0  Electronics\n",
      "8       Mouse   300.0   40.0  Electronics\n"
     ]
    }
   ],
   "source": [
    "print(df)"
   ]
  },
  {
   "cell_type": "markdown",
   "id": "fd112e47",
   "metadata": {},
   "source": [
    "REMOVING ROWS"
   ]
  },
  {
   "cell_type": "code",
   "execution_count": 6,
   "id": "c3d00339",
   "metadata": {},
   "outputs": [
    {
     "name": "stdout",
     "output_type": "stream",
     "text": [
      "      Product  Price  Stock     Category\n",
      "0        Soap   10.0   50.0         Bath\n",
      "1     Shampoo   20.0   60.0         Bath\n",
      "2       Brush   30.0   45.0   Toiletries\n",
      "3  Toothpaste   20.0   80.0   Toiletries\n",
      "4        Toys   40.0   40.0         Kids\n",
      "6       Mouse  300.0   40.0  Electronics\n"
     ]
    }
   ],
   "source": [
    "df = pd.read_csv('cleaned_data.csv')\n",
    "for x in df.index:\n",
    "    if df.loc[x,\"Price\"]>2000:\n",
    "        df.drop(x,inplace=True)\n",
    "print(df.to_string())\n"
   ]
  },
  {
   "cell_type": "markdown",
   "id": "b1cc0ccf",
   "metadata": {},
   "source": [
    "Pandas - Data Correlations"
   ]
  },
  {
   "cell_type": "markdown",
   "id": "1ad71526",
   "metadata": {},
   "source": [
    "The corr() method calculates the relationship between each column in your data set."
   ]
  }
 ],
 "metadata": {
  "kernelspec": {
   "display_name": "project1",
   "language": "python",
   "name": "python3"
  },
  "language_info": {
   "codemirror_mode": {
    "name": "ipython",
    "version": 3
   },
   "file_extension": ".py",
   "mimetype": "text/x-python",
   "name": "python",
   "nbconvert_exporter": "python",
   "pygments_lexer": "ipython3",
   "version": "3.12.4"
  }
 },
 "nbformat": 4,
 "nbformat_minor": 5
}
