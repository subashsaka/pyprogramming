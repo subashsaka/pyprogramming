{
 "cells": [
  {
   "cell_type": "code",
   "execution_count": 2,
   "id": "131ca86a",
   "metadata": {},
   "outputs": [
    {
     "name": "stdout",
     "output_type": "stream",
     "text": [
      "      Name  Age     City\n",
      "0    Alice   25    Delhi\n",
      "1      Bob   30   Mumbai\n",
      "2  Charlie   35  Chennai\n"
     ]
    }
   ],
   "source": [
    "import pandas as pd\n",
    "\n",
    "data = {\n",
    "    'Name': ['Alice', 'Bob', 'Charlie'],\n",
    "    'Age': [25, 30, 35],\n",
    "    'City': ['Delhi', 'Mumbai', 'Chennai']\n",
    "}\n",
    "\n",
    "df = pd.DataFrame(data)\n",
    "print(df)"
   ]
  },
  {
   "cell_type": "code",
   "execution_count": null,
   "id": "80512281",
   "metadata": {},
   "outputs": [
    {
     "name": "stdout",
     "output_type": "stream",
     "text": [
      "     Duration  Pulse  Maxpulse  Calories\n",
      "164        60    105       140     290.8\n",
      "165        60    110       145     300.0\n",
      "166        60    115       145     310.2\n",
      "167        75    120       150     320.4\n",
      "168        75    125       150     330.4\n"
     ]
    }
   ],
   "source": [
    "import pandas as pd\n",
    "df = pd.read_csv('data.csv')\n",
    "print(df.tail())"
   ]
  },
  {
   "cell_type": "markdown",
   "id": "2e560545",
   "metadata": {},
   "source": [
    "Accesing Data from dataframes"
   ]
  },
  {
   "cell_type": "code",
   "execution_count": null,
   "id": "77e7e208",
   "metadata": {},
   "outputs": [
    {
     "name": "stdout",
     "output_type": "stream",
     "text": [
      "     Name  Marks Subject\n",
      "0  Subash     90  Python\n",
      "1    Arun     85    Java\n",
      "2   Kavya     95     C++\n",
      "0    Subash\n",
      "1      Arun\n",
      "2     Kavya\n",
      "Name: Name, dtype: object\n",
      "85\n"
     ]
    }
   ],
   "source": [
    "import pandas as pd\n",
    "student = {\n",
    "    'Name': ['Subash', 'Arun', 'Kavya'],\n",
    "    'Marks': [90, 85, 95],\n",
    "    'Subject': ['Python', 'Java', 'C++']\n",
    "}\n",
    "df = pd.DataFrame(student)\n",
    "print(df)\n",
    "# Print only the 'Name' column\n",
    "print(df['Name'])\n",
    "# Print the marks of the second student\n",
    "print(df['Marks'][1])"
   ]
  },
  {
   "cell_type": "code",
   "execution_count": null,
   "id": "78ba4704",
   "metadata": {},
   "outputs": [
    {
     "name": "stdout",
     "output_type": "stream",
     "text": [
      "   Product  Price  Stock    Category\n",
      "0     soap     10     50        Bath\n",
      "1  shampoo     20     60        Bath\n",
      "2    brush     30    100  Toiletries\n",
      "3     toys     40     80        Kids\n",
      "CSV file saved successfully.\n"
     ]
    }
   ],
   "source": [
    "import pandas as pd\n",
    "pract = {\n",
    "    'Product' : ['soap','shampoo','brush','toys'],\n",
    "    'Price' :[10,20,30,40],\n",
    "    'Stock': [50, 60, 100, 80],\n",
    "    'Category': ['Bath', 'Bath', 'Toiletries', 'Kids']\n",
    "}\n",
    "df = pd.DataFrame(pract)\n",
    "df.to_csv('product.csv',index=False)#save csv file\n",
    "print(df)\n",
    "print(\"CSV file saved successfully.\")"
   ]
  },
  {
   "cell_type": "code",
   "execution_count": 11,
   "id": "a2945355",
   "metadata": {},
   "outputs": [
    {
     "name": "stdout",
     "output_type": "stream",
     "text": [
      "2.2.2\n"
     ]
    }
   ],
   "source": [
    "import pandas as pd\n",
    "print(pd.__version__)"
   ]
  },
  {
   "cell_type": "markdown",
   "id": "c748a3c2",
   "metadata": {},
   "source": [
    "What is a Series?\n",
    "A Pandas Series is like a column in a table.\n",
    "\n",
    "It is a one-dimensional array holding data of any type."
   ]
  },
  {
   "cell_type": "code",
   "execution_count": 12,
   "id": "f1b0d963",
   "metadata": {},
   "outputs": [
    {
     "name": "stdout",
     "output_type": "stream",
     "text": [
      "0    1\n",
      "1    2\n",
      "2    3\n",
      "dtype: int64\n"
     ]
    }
   ],
   "source": [
    "a = [1,2,3]\n",
    "b= pd.Series(a)\n",
    "print(b)"
   ]
  },
  {
   "cell_type": "markdown",
   "id": "f1207b60",
   "metadata": {},
   "source": [
    "Create Labels\n",
    "With the index argument, you can name your own labels."
   ]
  },
  {
   "cell_type": "code",
   "execution_count": null,
   "id": "f210905e",
   "metadata": {},
   "outputs": [
    {
     "name": "stdout",
     "output_type": "stream",
     "text": [
      "x    1\n",
      "y    7\n",
      "z    2\n",
      "dtype: int64\n"
     ]
    }
   ],
   "source": [
    "import pandas as pd\n",
    "a = [1, 7, 2]\n",
    "myvar = pd.Series(a, index = [\"x\", \"y\", \"z\"])\n",
    "print(myvar)"
   ]
  },
  {
   "cell_type": "code",
   "execution_count": 5,
   "id": "dfe35edc",
   "metadata": {},
   "outputs": [
    {
     "name": "stdout",
     "output_type": "stream",
     "text": [
      "   Product  Price  Stock    Category\n",
      "0     soap     10     50        Bath\n",
      "1  shampoo     20     60        Bath\n",
      "2    brush     30    100  Toiletries\n",
      "3     toys     40     80        Kids\n"
     ]
    }
   ],
   "source": [
    "a = pd.read_csv('product.csv')#Extract saved csv file\n",
    "print(a.to_string())"
   ]
  },
  {
   "cell_type": "markdown",
   "id": "5f2cf667",
   "metadata": {},
   "source": [
    "One of the most used method for getting a quick overview of the DataFrame, is the head() method.\n",
    "\n",
    "The head() method returns the headers and a specified number of rows, starting from the top."
   ]
  },
  {
   "cell_type": "code",
   "execution_count": 7,
   "id": "bf2518bb",
   "metadata": {},
   "outputs": [
    {
     "name": "stdout",
     "output_type": "stream",
     "text": [
      "   Product  Price  Stock    Category\n",
      "0     soap     10     50        Bath\n",
      "1  shampoo     20     60        Bath\n",
      "2    brush     30    100  Toiletries\n",
      "3     toys     40     80        Kids\n"
     ]
    }
   ],
   "source": [
    "a = pd.read_csv('product.csv')\n",
    "print(a.head(4))"
   ]
  },
  {
   "cell_type": "markdown",
   "id": "1d04dbfd",
   "metadata": {},
   "source": [
    "Tail is same as head but returns the data from the last rows"
   ]
  },
  {
   "cell_type": "code",
   "execution_count": 8,
   "id": "2612ab71",
   "metadata": {},
   "outputs": [
    {
     "name": "stdout",
     "output_type": "stream",
     "text": [
      "   Product  Price  Stock    Category\n",
      "0     soap     10     50        Bath\n",
      "1  shampoo     20     60        Bath\n",
      "2    brush     30    100  Toiletries\n",
      "3     toys     40     80        Kids\n"
     ]
    }
   ],
   "source": [
    "a = pd.read_csv('product.csv')\n",
    "print(a.tail())"
   ]
  },
  {
   "cell_type": "markdown",
   "id": "e1944f9a",
   "metadata": {},
   "source": [
    "To find the information of the table"
   ]
  },
  {
   "cell_type": "code",
   "execution_count": 9,
   "id": "3dc4e89b",
   "metadata": {},
   "outputs": [
    {
     "name": "stdout",
     "output_type": "stream",
     "text": [
      "<bound method DataFrame.info of    Product  Price  Stock    Category\n",
      "0     soap     10     50        Bath\n",
      "1  shampoo     20     60        Bath\n",
      "2    brush     30    100  Toiletries\n",
      "3     toys     40     80        Kids>\n"
     ]
    }
   ],
   "source": [
    "print(a.info)"
   ]
  },
  {
   "cell_type": "code",
   "execution_count": 15,
   "id": "3e033a30",
   "metadata": {},
   "outputs": [
    {
     "name": "stdout",
     "output_type": "stream",
     "text": [
      "60\n"
     ]
    }
   ],
   "source": [
    "import pandas as pd\n",
    "print(pd.options.display.max_rows)"
   ]
  },
  {
   "cell_type": "markdown",
   "id": "535a2166",
   "metadata": {},
   "source": [
    "| Code                                      | What It Does                         |\n",
    "| ----------------------------------------- | ------------------------------------ |\n",
    "| `pd.options.display.max_rows`             | Shows current row display limit      |\n",
    "| `pd.set_option('display.max_rows', 100)`  | Sets the limit to 100 rows           |\n",
    "| `pd.set_option('display.max_rows', None)` | Shows all rows in a DataFrame output |\n"
   ]
  },
  {
   "cell_type": "markdown",
   "id": "c37b9ade",
   "metadata": {},
   "source": [
    "Jason"
   ]
  },
  {
   "cell_type": "code",
   "execution_count": null,
   "id": "9897a788",
   "metadata": {},
   "outputs": [],
   "source": [
    "import pandas as pd\n",
    "df = pd.read_json(\"data.json\")  \n",
    "print(df)"
   ]
  },
  {
   "cell_type": "code",
   "execution_count": 3,
   "id": "9382b3f9",
   "metadata": {},
   "outputs": [
    {
     "name": "stdout",
     "output_type": "stream",
     "text": [
      "  Product  Price\n",
      "0    Soap     10\n",
      "1   Brush     30\n",
      "[{'Product': 'Soap', 'Price': 10}, {'Product': 'Brush', 'Price': 30}]\n"
     ]
    }
   ],
   "source": [
    "import pandas as pd\n",
    "import json\n",
    "\n",
    "# Sample JSON data (string format)\n",
    "data = '''\n",
    "[\n",
    "  {\"Product\": \"Soap\", \"Price\": 10},\n",
    "  {\"Product\": \"Brush\", \"Price\": 30}\n",
    "]\n",
    "'''\n",
    "\n",
    "# Convert string to Python list of dicts using json.loads\n",
    "parsed_data = json.loads(data)\n",
    "\n",
    "# Now convert it to DataFrame\n",
    "df = pd.DataFrame(parsed_data)\n",
    "\n",
    "print(df)\n",
    "print(parsed_data)"
   ]
  },
  {
   "cell_type": "markdown",
   "id": "4224596d",
   "metadata": {},
   "source": [
    "*DATA CLEANING PART\n",
    "\n",
    "Data cleaning means fixing bad data in your data set.\n",
    "\n",
    "Bad data could be:\n",
    "\n",
    "Empty cells,\n",
    "Data in wrong format,\n",
    "Wrong data,\n",
    "Duplicates"
   ]
  },
  {
   "cell_type": "code",
   "execution_count": null,
   "id": "0cf36868",
   "metadata": {},
   "outputs": [],
   "source": [
    "pd = pd.read_csv('rawdata.csv')\n",
    "print(pd)"
   ]
  }
 ],
 "metadata": {
  "kernelspec": {
   "display_name": "project1",
   "language": "python",
   "name": "python3"
  },
  "language_info": {
   "codemirror_mode": {
    "name": "ipython",
    "version": 3
   },
   "file_extension": ".py",
   "mimetype": "text/x-python",
   "name": "python",
   "nbconvert_exporter": "python",
   "pygments_lexer": "ipython3",
   "version": "3.12.4"
  }
 },
 "nbformat": 4,
 "nbformat_minor": 5
}
