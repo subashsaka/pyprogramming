{
 "cells": [
  {
   "cell_type": "markdown",
   "metadata": {},
   "source": [
    "exception practice"
   ]
  },
  {
   "cell_type": "code",
   "execution_count": 1,
   "metadata": {},
   "outputs": [
    {
     "name": "stdout",
     "output_type": "stream",
     "text": [
      "division not posiible with zero\n",
      "I will always print even there is an error\n"
     ]
    }
   ],
   "source": [
    "try:\n",
    "    var1 = int(input(\"enter number\"))\n",
    "    var2 = int(input(\"enter num 2\"))\n",
    "    res = var1/var2\n",
    "    \n",
    "except ZeroDivisionError:\n",
    "    print(\"division not posiible with zero\")\n",
    "except ValueError as c:\n",
    "    print(c)\n",
    "    print(\"cannot add number with a string \")\n",
    "else:\n",
    "    print(res)\n",
    "finally:\n",
    "    print(\"I will always print even there is an error\")\n"
   ]
  },
  {
   "cell_type": "markdown",
   "metadata": {},
   "source": [
    "filehandling"
   ]
  },
  {
   "cell_type": "code",
   "execution_count": 11,
   "metadata": {},
   "outputs": [
    {
     "name": "stdout",
     "output_type": "stream",
     "text": [
      "iam a gangstar\n"
     ]
    }
   ],
   "source": [
    "#reading file\n",
    "with open(\"subash.txt\") as hello:\n",
    "    print(hello.read())\n"
   ]
  },
  {
   "cell_type": "code",
   "execution_count": 5,
   "metadata": {},
   "outputs": [
    {
     "name": "stdout",
     "output_type": "stream",
     "text": [
      "hi iam subash\n",
      "\n"
     ]
    }
   ],
   "source": [
    "#writing file\n",
    "#\"r\" for read\n",
    "#\"w\" for write\n",
    "#\"a\" for append for exixting text\n",
    "\n",
    "with open('subash.txt','r') as file:\n",
    "    print(file.read())"
   ]
  },
  {
   "cell_type": "code",
   "execution_count": 6,
   "metadata": {},
   "outputs": [],
   "source": [
    "f = open('subash.txt','w')\n",
    "f.write('iam a gangstar')\n",
    "f.close()"
   ]
  },
  {
   "cell_type": "code",
   "execution_count": 14,
   "metadata": {},
   "outputs": [],
   "source": [
    "with open(\"subash.txt\", \"a\") as f:\n",
    "  f.write(\"Now the file has more content!\")"
   ]
  },
  {
   "cell_type": "code",
   "execution_count": 15,
   "metadata": {},
   "outputs": [
    {
     "name": "stdout",
     "output_type": "stream",
     "text": [
      "iam a gangstarNow the file has more content!Now the file has more content!Now the file has more content!\n"
     ]
    }
   ],
   "source": [
    "f = open(\"subash.txt\")\n",
    "print(f.read())"
   ]
  },
  {
   "cell_type": "code",
   "execution_count": 16,
   "metadata": {},
   "outputs": [],
   "source": [
    "a  = open(\"helloworld.txt\",\"x\")"
   ]
  },
  {
   "cell_type": "code",
   "execution_count": 21,
   "metadata": {},
   "outputs": [],
   "source": [
    "a = open(\"helloworld.txt\",\"w\")\n",
    "a.write(\"iam learning\")\n",
    "a.close()"
   ]
  },
  {
   "cell_type": "code",
   "execution_count": 20,
   "metadata": {},
   "outputs": [],
   "source": [
    "with open(\"hellworld.txt\",\"a\") as g:\n",
    "    g.write(\"text added\")\n"
   ]
  }
 ],
 "metadata": {
  "kernelspec": {
   "display_name": "project1",
   "language": "python",
   "name": "python3"
  },
  "language_info": {
   "codemirror_mode": {
    "name": "ipython",
    "version": 3
   },
   "file_extension": ".py",
   "mimetype": "text/x-python",
   "name": "python",
   "nbconvert_exporter": "python",
   "pygments_lexer": "ipython3",
   "version": "3.12.4"
  }
 },
 "nbformat": 4,
 "nbformat_minor": 2
}
