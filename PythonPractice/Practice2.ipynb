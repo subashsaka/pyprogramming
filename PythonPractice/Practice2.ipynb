{
 "cells": [
  {
   "cell_type": "code",
   "execution_count": null,
   "metadata": {},
   "outputs": [
    {
     "name": "stdout",
     "output_type": "stream",
     "text": [
      "[2, 4]\n"
     ]
    },
    {
     "data": {
      "text/plain": [
       "'for i in n:\\n    if i % 2==0:\\n        m.append[i]\\nprint(m)'"
      ]
     },
     "execution_count": 10,
     "metadata": {},
     "output_type": "execute_result"
    }
   ],
   "source": [
    "n = list(map(int,input().split()))\n",
    "m = []\n",
    "for i in n:\n",
    "    if i % 2==0:\n",
    "        m.append(i)\n",
    "print(sum(m))\n",
    "\n",
    "'''for i in n:\n",
    "    if i % 2==0:\n",
    "        m.append[i]\n",
    "print(m)'''\n"
   ]
  },
  {
   "cell_type": "code",
   "execution_count": 12,
   "metadata": {},
   "outputs": [
    {
     "name": "stdout",
     "output_type": "stream",
     "text": [
      "pali\n"
     ]
    }
   ],
   "source": [
    "n = input()\n",
    "m = n[::-1]\n",
    "if n == m:\n",
    "    print(\"pali\")\n",
    "else:\n",
    "    print(\"notpali\")"
   ]
  },
  {
   "cell_type": "code",
   "execution_count": null,
   "metadata": {},
   "outputs": [
    {
     "name": "stdout",
     "output_type": "stream",
     "text": [
      "s\n",
      "u\n",
      "b\n",
      "a\n",
      "s\n",
      "h\n"
     ]
    }
   ],
   "source": [
    "n = input()\n",
    "chas = {}\n",
    "for i in n:\n",
    "    if i in chas:\n",
    "        chas[i]+=1\n",
    "    else:\n",
    "        chas[i] = 1"
   ]
  },
  {
   "cell_type": "code",
   "execution_count": 20,
   "metadata": {},
   "outputs": [
    {
     "name": "stdout",
     "output_type": "stream",
     "text": [
      "[1, 2, 5, 6, 8, 9, 10, 12]\n"
     ]
    }
   ],
   "source": [
    "list = [1, 5, 8, 12]\n",
    "list2 = [2, 6, 9, 10]\n",
    "m = list + list2\n",
    "print(sorted(m))"
   ]
  },
  {
   "cell_type": "code",
   "execution_count": null,
   "metadata": {},
   "outputs": [
    {
     "name": "stdout",
     "output_type": "stream",
     "text": [
      "Welcome to the PyPassword Generator!\n",
      "v#3E9&+u4"
     ]
    }
   ],
   "source": [
    "#Password Generator Project\n",
    "import random\n",
    "letters = ['a', 'b', 'c', 'd', 'e', 'f', 'g', 'h', 'i', 'j', 'k', 'l', 'm', 'n', 'o', 'p', 'q', 'r', 's', 't', 'u', 'v', 'w', 'x', 'y', 'z', 'A', 'B', 'C', 'D', 'E', 'F', 'G', 'H', 'I', 'J', 'K', 'L', 'M', 'N', 'O', 'P', 'Q', 'R', 'S', 'T', 'U', 'V', 'W', 'X', 'Y', 'Z']\n",
    "numbers = ['0', '1', '2', '3', '4', '5', '6', '7', '8', '9']\n",
    "symbols = ['!', '#', '$', '%', '&', '(', ')', '*', '+']\n",
    "\n",
    "print(\"Welcome to my Password Generator!\")\n",
    "nr_letters= int(input(\"How many letters would you like in your password?\\n\")) \n",
    "nr_symbols = int(input(f\"How many symbols would you like?\\n\"))\n",
    "nr_numbers = int(input(f\"How many numbers would you like?\\n\"))\n",
    "\n",
    "password = []\n",
    "for char in range(1,nr_letters+1):\n",
    "    password.append(random.choice(letters))\n",
    "for char in range(1,nr_symbols+1):\n",
    "    password.append(random.choice(symbols))\n",
    "for char in range(1,nr_numbers+1):\n",
    "    password.append(random.choice(numbers))\n",
    "random.shuffle(password)\n",
    "for char in password:\n",
    "    print(char,end = '')"
   ]
  },
  {
   "cell_type": "code",
   "execution_count": 17,
   "metadata": {},
   "outputs": [
    {
     "name": "stdout",
     "output_type": "stream",
     "text": [
      "hi iam subash..\n",
      "curently pursuing bachleors of engineering in \n",
      "electronics and communication with the cgpa of 8.09\n",
      "my faviorite subject from my branch is computer networks\n"
     ]
    }
   ],
   "source": [
    "h = open(\"hello.txt\")\n",
    "print(h.read())\n",
    "for x in h:\n",
    "    print(x)\n",
    "h.close()"
   ]
  },
  {
   "cell_type": "code",
   "execution_count": 20,
   "metadata": {},
   "outputs": [
    {
     "name": "stdout",
     "output_type": "stream",
     "text": [
      "hi iam subash..\n",
      "curently pursuing bachleors of engineering in \n",
      "electronics and communication with the cgpa of 8.09\n",
      "my faviorite subject from my branch is computer networksiam nobodyiam nobodyiam nobody\n"
     ]
    }
   ],
   "source": [
    "h = open(\"hello.txt\",\"a\")\n",
    "h.write(\"iam nobody\")\n",
    "h.close()\n",
    "h= open(\"hello.txt\",\"r\")\n",
    "print(h.read())"
   ]
  },
  {
   "cell_type": "code",
   "execution_count": null,
   "metadata": {},
   "outputs": [],
   "source": [
    "f = open(\"lolly.txt\",\"x\")\n"
   ]
  },
  {
   "cell_type": "code",
   "execution_count": 29,
   "metadata": {},
   "outputs": [
    {
     "name": "stdout",
     "output_type": "stream",
     "text": [
      "hellothere\n"
     ]
    }
   ],
   "source": [
    "h = open(\"lolly.txt\",\"w\")\n",
    "h.write(\"hellothere\")\n",
    "h.close()\n",
    "h = open(\"lolly.txt\",\"r\")\n",
    "print(h.read())\n",
    "h.close()"
   ]
  },
  {
   "cell_type": "code",
   "execution_count": 5,
   "metadata": {},
   "outputs": [
    {
     "name": "stdout",
     "output_type": "stream",
     "text": [
      "1\n"
     ]
    }
   ],
   "source": [
    "prices = [7,1,5,3,6,4]\n",
    "buy = prices[0]\n",
    "sell = prices\n",
    "for i in prices:\n",
    "    if i <= buy:\n",
    "        buy = i\n",
    "print(buy)\n"
   ]
  },
  {
   "cell_type": "code",
   "execution_count": 2,
   "metadata": {},
   "outputs": [
    {
     "name": "stdout",
     "output_type": "stream",
     "text": [
      "5\n"
     ]
    }
   ],
   "source": [
    "prices = [7,1,5,3,6,4]\n",
    "minprice = prices[0]\n",
    "profit = 0\n",
    "for i in prices[1:]:\n",
    "    profit = max(profit,i-minprice)\n",
    "    minprice = min(minprice,i)\n",
    "print(profit)"
   ]
  },
  {
   "cell_type": "code",
   "execution_count": null,
   "metadata": {},
   "outputs": [
    {
     "name": "stdout",
     "output_type": "stream",
     "text": [
      "6\n",
      "3\n",
      "6 2\n"
     ]
    }
   ],
   "source": [
    "arr = [4, 3, 6, 2, 1, 1,7]\n",
    "n = len(arr)\n",
    "print(n)\n",
    "midd = (n//2)\n",
    "print(midd)\n",
    "print(arr[midd])"
   ]
  },
  {
   "cell_type": "code",
   "execution_count": 7,
   "metadata": {},
   "outputs": [
    {
     "name": "stdout",
     "output_type": "stream",
     "text": [
      "[1, 3, 1, 7]\n",
      "{1, 2, 3, 4, 5, 7, 8}\n"
     ]
    }
   ],
   "source": [
    "a = [1,2,3,4,1,3,1,5,7,8,7]\n",
    "seen = set()\n",
    "dup = []\n",
    "for i in a:\n",
    "    if i in seen:\n",
    "        dup.append(i)\n",
    "    else:\n",
    "        seen.add(i)\n",
    "\n",
    "print(dup)\n",
    "print(seen)"
   ]
  },
  {
   "cell_type": "markdown",
   "metadata": {},
   "source": [
    "LEFT ROTATE"
   ]
  },
  {
   "cell_type": "code",
   "execution_count": 1,
   "metadata": {},
   "outputs": [
    {
     "name": "stdout",
     "output_type": "stream",
     "text": [
      "Array after left rotation: [3, 4, 5, 6, 7, 8, 1, 2]\n"
     ]
    }
   ],
   "source": [
    "arr = [1,2,3,4,5,6,7,8]\n",
    "k = 2\n",
    "\n",
    "# Handling cases where k > len(arr)\n",
    "#n = len(arr)\n",
    "#k = k % n  \n",
    "\n",
    "# Performing left rotation\n",
    "rotated_arr = arr[k:] + arr[:k]\n",
    "\n",
    "# Printing the rotated array\n",
    "print(\"Array after left rotation:\", rotated_arr)\n"
   ]
  },
  {
   "cell_type": "markdown",
   "metadata": {},
   "source": [
    "right ROTATE"
   ]
  },
  {
   "cell_type": "code",
   "execution_count": 9,
   "metadata": {},
   "outputs": [
    {
     "name": "stdout",
     "output_type": "stream",
     "text": [
      "[7, 8, 1, 2, 3, 4, 5, 6]\n"
     ]
    }
   ],
   "source": [
    "arr = [1,2,3,4,5,6,7,8]\n",
    "k = 2\n",
    "rra = arr[-k:]+arr[:-k]\n",
    "print(rra)"
   ]
  },
  {
   "cell_type": "code",
   "execution_count": 2,
   "metadata": {},
   "outputs": [
    {
     "name": "stdout",
     "output_type": "stream",
     "text": [
      "4 8\n",
      "4\n"
     ]
    }
   ],
   "source": [
    "arr = [1, 2, 1, 2, 1, 3, 2]\n",
    "half = (len(arr)//2)\n",
    "first = (sum(arr[:half]))\n",
    "second= (sum(arr[half:]))\n",
    "print(first,second)\n",
    "print(second - first)\n"
   ]
  },
  {
   "cell_type": "code",
   "execution_count": 2,
   "metadata": {},
   "outputs": [
    {
     "name": "stdout",
     "output_type": "stream",
     "text": [
      "[1, 2, 3, 4, 5, 6]\n"
     ]
    }
   ],
   "source": [
    "arr = [3,4,2,1,5,6]\n",
    "n = len(arr)\n",
    "for i in range(n):\n",
    "    for j in range(0,n-i-1):\n",
    "        if arr[j] > arr[j+1]:\n",
    "            arr[j],arr[j+1] = arr[j+1],arr[j]\n",
    "print(arr)"
   ]
  },
  {
   "cell_type": "markdown",
   "metadata": {},
   "source": [
    "adding numbers between the array"
   ]
  },
  {
   "cell_type": "code",
   "execution_count": 24,
   "metadata": {},
   "outputs": [
    {
     "name": "stdout",
     "output_type": "stream",
     "text": [
      "14\n"
     ]
    }
   ],
   "source": [
    "c = [2,5]\n",
    "a,b = min(c),max(c)\n",
    "tot = sum(range(a,b+1))\n",
    "print(tot)"
   ]
  },
  {
   "cell_type": "markdown",
   "metadata": {},
   "source": [
    "remaining text"
   ]
  },
  {
   "cell_type": "code",
   "execution_count": 20,
   "metadata": {},
   "outputs": [
    {
     "name": "stdout",
     "output_type": "stream",
     "text": [
      "ger\n"
     ]
    }
   ],
   "source": [
    "a = \"tiger\"\n",
    "b = \"ti\"\n",
    "c = []\n",
    "for i in a:\n",
    "    if i not in b:\n",
    "        c.append(i)\n",
    "print(''.join(c))"
   ]
  },
  {
   "cell_type": "markdown",
   "metadata": {},
   "source": [
    "frequencies of elements in array"
   ]
  },
  {
   "cell_type": "code",
   "execution_count": null,
   "metadata": {},
   "outputs": [
    {
     "name": "stdout",
     "output_type": "stream",
     "text": [
      "Element Frequencies:\n",
      "1: 3\n",
      "2: 2\n",
      "3: 2\n",
      "4: 1\n"
     ]
    }
   ],
   "source": [
    "# Taking array input from the user\n",
    "arr = [1,2,3,1,3,4,2,1]\n",
    "\n",
    "# Creating an empty dictionary to store frequencies\n",
    "freq = {}\n",
    "\n",
    "# Counting frequency of each element\n",
    "for num in arr:\n",
    "    if num in freq:\n",
    "        freq[num] += 1\n",
    "    else:\n",
    "        freq[num] = 1\n",
    "\n",
    "# Printing the frequencies of each element\n",
    "for key, value in freq.items():\n",
    "    print(f\"{key}: {value}\")"
   ]
  },
  {
   "cell_type": "code",
   "execution_count": 5,
   "metadata": {},
   "outputs": [
    {
     "name": "stdout",
     "output_type": "stream",
     "text": [
      "1 3,2 2,3 2,4 1,"
     ]
    }
   ],
   "source": [
    "from collections import Counter\n",
    "arr = [1,2,3,1,3,4,2,1]\n",
    "freq = Counter(arr)\n",
    "for key,value in freq.items():\n",
    "    print(key,value,end = ',')"
   ]
  },
  {
   "cell_type": "code",
   "execution_count": 47,
   "metadata": {},
   "outputs": [
    {
     "name": "stdout",
     "output_type": "stream",
     "text": [
      "1 2 3 4\n"
     ]
    }
   ],
   "source": [
    "arr = [1,2,3,1,3,4,2,1]\n",
    "c = set(arr)\n",
    "print(' '.join(map(str,c)))"
   ]
  },
  {
   "cell_type": "code",
   "execution_count": 3,
   "metadata": {},
   "outputs": [
    {
     "name": "stdout",
     "output_type": "stream",
     "text": [
      "2.5\n"
     ]
    }
   ],
   "source": [
    "a = [1,2,3,1,3,5]\n",
    "a.sort()\n",
    "n = len(a)\n",
    "if n%2 == 0:\n",
    "    mid1 = a[n//2-1]\n",
    "    mid2 = a[n//2]\n",
    "    med = (mid1+mid2)/2\n",
    "    print(med)\n",
    "else:\n",
    "    print(a[n//2])"
   ]
  },
  {
   "cell_type": "code",
   "execution_count": 1,
   "metadata": {},
   "outputs": [
    {
     "name": "stdout",
     "output_type": "stream",
     "text": [
      "2.5\n"
     ]
    }
   ],
   "source": [
    "from statistics import median\n",
    "a = [1,2,3,1,3,5]\n",
    "print(median(a))"
   ]
  },
  {
   "cell_type": "markdown",
   "metadata": {},
   "source": [
    "subarray"
   ]
  },
  {
   "cell_type": "code",
   "execution_count": 5,
   "metadata": {},
   "outputs": [
    {
     "name": "stdout",
     "output_type": "stream",
     "text": [
      "[1]\n",
      "[1, 2]\n",
      "[1, 2, 3]\n",
      "[2]\n",
      "[2, 3]\n",
      "[3]\n"
     ]
    }
   ],
   "source": [
    "a = [1,2,3]\n",
    "n = len(a)\n",
    "for i in range(n):\n",
    "    for j in range(i,n):\n",
    "        print((a[i:j+1]))"
   ]
  },
  {
   "cell_type": "markdown",
   "metadata": {},
   "source": [
    "MAXIMUM SUM OF SUB ARRAY"
   ]
  },
  {
   "cell_type": "code",
   "execution_count": 48,
   "metadata": {},
   "outputs": [
    {
     "name": "stdout",
     "output_type": "stream",
     "text": [
      "6\n"
     ]
    }
   ],
   "source": [
    "a = [1,2,3]\n",
    "n = len(a)\n",
    "maxs = float('-inf')\n",
    "for i in range(n):\n",
    "    for j in range(i,n):\n",
    "        he = sum(a[i:j+1])\n",
    "        maxs = max(maxs,he)\n",
    "print(maxs)"
   ]
  },
  {
   "cell_type": "markdown",
   "metadata": {},
   "source": [
    "MAXIMUM PRODUCT OF SUB ARRAY"
   ]
  },
  {
   "cell_type": "code",
   "execution_count": null,
   "metadata": {},
   "outputs": [],
   "source": [
    "a = [2, 3, -2, 4]\n",
    "n = len(a)\n",
    "\n",
    "max_product = a[0]\n",
    "current_max = a[0]\n",
    "current_min = a[0]\n",
    "\n",
    "for i in range(1, n):\n",
    "    if a[i] < 0:\n",
    "        current_max, current_min = current_min, current_max\n",
    "\n",
    "    current_max = max(a[i], current_max * a[i])\n",
    "    current_min = min(a[i], current_min * a[i])\n",
    "\n",
    "    max_product = max(max_product, current_max)\n",
    "\n",
    "print(\"Maximum Product Subarray:\", max_product)\n"
   ]
  },
  {
   "cell_type": "code",
   "execution_count": 4,
   "metadata": {},
   "outputs": [
    {
     "name": "stdout",
     "output_type": "stream",
     "text": [
      "True\n"
     ]
    }
   ],
   "source": [
    "arr1 = [1, 3, 4, 5, 2]\n",
    "arr2 = [2, 4, 3, 1, 7, 5, 15]\n",
    "result = True  # Assume it's a subset unless proven otherwise\n",
    "for x in arr1:\n",
    "    if x not in arr2:\n",
    "        result = False\n",
    "        break\n",
    "print(result)"
   ]
  },
  {
   "cell_type": "code",
   "execution_count": 21,
   "metadata": {},
   "outputs": [
    {
     "name": "stdout",
     "output_type": "stream",
     "text": [
      "5\n"
     ]
    }
   ],
   "source": [
    "a = '101'\n",
    "c = int(a,2)\n",
    "print(c)"
   ]
  },
  {
   "cell_type": "code",
   "execution_count": 50,
   "metadata": {},
   "outputs": [
    {
     "name": "stdout",
     "output_type": "stream",
     "text": [
      "101\n"
     ]
    }
   ],
   "source": [
    "a = 5\n",
    "c = bin(a)[2:]\n",
    "print(c)"
   ]
  },
  {
   "cell_type": "code",
   "execution_count": 32,
   "metadata": {},
   "outputs": [
    {
     "name": "stdout",
     "output_type": "stream",
     "text": [
      "yes\n"
     ]
    }
   ],
   "source": [
    "s = 6\n",
    "b = s*s\n",
    "if str(b).endswith(str(s)):\n",
    "    print(\"yes\")\n",
    "else:\n",
    "    print(\"no\")"
   ]
  },
  {
   "cell_type": "code",
   "execution_count": 40,
   "metadata": {},
   "outputs": [
    {
     "name": "stdout",
     "output_type": "stream",
     "text": [
      "yes\n",
      "18\n"
     ]
    }
   ],
   "source": [
    "s = 378\n",
    "c = 0\n",
    "for di in str(abs(s)):\n",
    "    c = c+int(di)\n",
    "if s % c ==0:\n",
    "    print(\"yes\")\n",
    "else:\n",
    "    print(\"no\")\n",
    "print(c)"
   ]
  },
  {
   "cell_type": "code",
   "execution_count": null,
   "metadata": {},
   "outputs": [
    {
     "name": "stdout",
     "output_type": "stream",
     "text": [
      "The sum of all prime numbers less than 3 is: 2\n"
     ]
    }
   ],
   "source": [
    "n = int(input(\"Enter a number: \"))\n",
    "prime_sum = 0\n",
    "for num in range(2, n):\n",
    "    is_prime = True\n",
    "    for i in range(2, int(num ** 0.5) + 1):\n",
    "        if num % i == 0:\n",
    "            is_prime = False\n",
    "            break\n",
    "    if is_prime:\n",
    "        prime_sum += num\n",
    "\n",
    "print(f\"The sum of all prime numbers less than {n} is: {prime_sum}\")\n"
   ]
  },
  {
   "cell_type": "code",
   "execution_count": 5,
   "metadata": {},
   "outputs": [
    {
     "name": "stdout",
     "output_type": "stream",
     "text": [
      "7\n"
     ]
    }
   ],
   "source": [
    "arr2 = [2, 4, 3, 7, 5, 15]\n",
    "c = len(arr2)//2\n",
    "print(arr2[c])"
   ]
  },
  {
   "cell_type": "code",
   "execution_count": null,
   "metadata": {},
   "outputs": [
    {
     "name": "stdout",
     "output_type": "stream",
     "text": [
      "[2, 3, 4, 5, 6]\n",
      "[2, 3, 4, 5, 6]\n"
     ]
    }
   ],
   "source": [
    "arr = [6, 2, 3, 4, 5]\n",
    "k = 2\n",
    "arr.sort()\n",
    "print(arr)\n"
   ]
  },
  {
   "cell_type": "code",
   "execution_count": null,
   "metadata": {},
   "outputs": [
    {
     "name": "stdout",
     "output_type": "stream",
     "text": [
      "[0, 1, 1, 2, 3, 5, 8, 13, 21, 34]\n"
     ]
    }
   ],
   "source": [
    "n = 10\n",
    "a,b = 0,1\n",
    "result = []\n",
    "for _ in range(10):\n",
    "    result.append(a)\n",
    "    a,b = b,a+b\n",
    "print(result) "
   ]
  },
  {
   "cell_type": "code",
   "execution_count": 9,
   "metadata": {},
   "outputs": [
    {
     "name": "stdout",
     "output_type": "stream",
     "text": [
      "hsabus\n"
     ]
    }
   ],
   "source": [
    "a = 'subash'\n",
    "b = ''\n",
    "for i in a:\n",
    "    b = i+b\n",
    "print(b)"
   ]
  },
  {
   "cell_type": "code",
   "execution_count": 10,
   "metadata": {},
   "outputs": [
    {
     "name": "stdout",
     "output_type": "stream",
     "text": [
      "7 is a prime number.\n"
     ]
    }
   ],
   "source": [
    "n = int(input(\"Enter a number: \"))\n",
    "\n",
    "if n <= 1:  # Numbers less than or equal to 1 are not prime\n",
    "    print(f\"{n} is not a prime number.\")\n",
    "else:\n",
    "    is_prime = True\n",
    "    for i in range(2, int(n**0.5) + 1):  # Check from 2 to sqrt(n)\n",
    "        if n % i == 0:  # If n is divisible by i, it's not prime\n",
    "            is_prime = False\n",
    "            break\n",
    "    \n",
    "    if is_prime:\n",
    "        print(f\"{n} is a prime number.\")\n",
    "    else:\n",
    "        print(f\"{n} is not a prime number.\")\n"
   ]
  },
  {
   "cell_type": "code",
   "execution_count": null,
   "metadata": {},
   "outputs": [
    {
     "name": "stdout",
     "output_type": "stream",
     "text": [
      "3\n"
     ]
    }
   ],
   "source": [
    "a = [1,2,3,5,6]\n",
    "b = [2,4,6,7,8]\n",
    "c = []\n",
    "for i in range(len(a)):\n",
    "    sum = a[i] +b[i]\n",
    "    c.append(sum)\n",
    "print(min(c))"
   ]
  },
  {
   "cell_type": "code",
   "execution_count": 4,
   "metadata": {},
   "outputs": [
    {
     "name": "stdout",
     "output_type": "stream",
     "text": [
      "1 2\n",
      "2 2\n",
      "6 1\n"
     ]
    }
   ],
   "source": [
    "arr = [1,2,2,1,6]\n",
    "n = len(arr)\n",
    "cmap = {}\n",
    "for i in arr:\n",
    "    if i in cmap:\n",
    "        cmap[i]+=1\n",
    "    else:\n",
    "        cmap[i] = 1\n",
    "        \n",
    "for key,value in cmap.items():\n",
    "    print(key,value)\n",
    " "
   ]
  }
 ],
 "metadata": {
  "kernelspec": {
   "display_name": "project1",
   "language": "python",
   "name": "python3"
  },
  "language_info": {
   "codemirror_mode": {
    "name": "ipython",
    "version": 3
   },
   "file_extension": ".py",
   "mimetype": "text/x-python",
   "name": "python",
   "nbconvert_exporter": "python",
   "pygments_lexer": "ipython3",
   "version": "3.12.4"
  }
 },
 "nbformat": 4,
 "nbformat_minor": 2
}
