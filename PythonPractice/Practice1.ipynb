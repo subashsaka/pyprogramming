{
 "cells": [
  {
   "cell_type": "code",
   "execution_count": null,
   "metadata": {},
   "outputs": [],
   "source": [
    "import datetime\n",
    "print(datetime.date.today())"
   ]
  },
  {
   "cell_type": "code",
   "execution_count": null,
   "metadata": {},
   "outputs": [],
   "source": [
    "import os\n",
    "print(os.__file__)"
   ]
  },
  {
   "cell_type": "code",
   "execution_count": null,
   "metadata": {},
   "outputs": [],
   "source": [
    "thislist = [\"apple\", \"banana\", \"cherry\"]\n",
    "thislist[1:3] = [\"watermelon\"]\n",
    "print(thislist)"
   ]
  },
  {
   "cell_type": "code",
   "execution_count": null,
   "metadata": {},
   "outputs": [],
   "source": [
    "thislist = [\"apple\", \"banana\", \"cherry\"]\n",
    "thislist[1:3] = [\"watermelon\"]\n",
    "print(thislist)"
   ]
  },
  {
   "cell_type": "markdown",
   "metadata": {},
   "source": [
    "placementPortalSum"
   ]
  },
  {
   "cell_type": "code",
   "execution_count": null,
   "metadata": {},
   "outputs": [],
   "source": [
    "def calculate_expenses(branding, travel, food, logistics):\n",
    "    # Calculate total expenses\n",
    "    total_expenses = branding + travel + food + logistics\n",
    "    \n",
    "    # Calculate percentage of each expense\n",
    "    branding_percentage = (branding / total_expenses) * 100\n",
    "    travel_percentage = (travel / total_expenses) * 100\n",
    "    food_percentage = (food / total_expenses) * 100\n",
    "    logistics_percentage = (logistics / total_expenses) * 100\n",
    "    \n",
    "    return total_expenses, branding_percentage, travel_percentage, food_percentage, logistics_percentage\n",
    "\n",
    "# Input values\n",
    "branding = float(input(\"Enter branding expenses: \"))\n",
    "travel = float(input(\"Enter travel expenses: \"))\n",
    "food = float(input(\"Enter food expenses: \"))\n",
    "logistics = float(input(\"Enter logistics expenses: \"))\n",
    "\n",
    "# Calculate expenses and percentages\n",
    "total, branding_pct, travel_pct, food_pct, logistics_pct = calculate_expenses(branding, travel, food, logistics)\n",
    "\n",
    "# Print the results\n",
    "print(f\"Total expenses: {total:.2f}\")\n",
    "print(f\"Branding expenses percentage: {branding_pct:.2f}%\")\n",
    "print(f\"Travel expenses percentage: {travel_pct:.2f}%\")\n",
    "print(f\"Food expenses percentage: {food_pct:.2f}%\")\n",
    "print(f\"Logistics expenses percentage: {logistics_pct:.2f}%\")"
   ]
  },
  {
   "cell_type": "code",
   "execution_count": null,
   "metadata": {},
   "outputs": [],
   "source": [
    "import sys\n",
    "print(sys.path)"
   ]
  },
  {
   "cell_type": "code",
   "execution_count": null,
   "metadata": {},
   "outputs": [],
   "source": [
    "courses = ['math', 'electronics', 'hindi']\n",
    "print(courses[::-1])"
   ]
  },
  {
   "cell_type": "markdown",
   "metadata": {},
   "source": [
    "palindrome"
   ]
  },
  {
   "cell_type": "code",
   "execution_count": null,
   "metadata": {},
   "outputs": [],
   "source": [
    "new_word = str(input())\n",
    "reversed_word = new_word[::-1]\n",
    "if new_word == reversed_word:\n",
    "    print('palindrome')\n",
    "else: \n",
    "    print(\"not_Palindrome\")\n"
   ]
  },
  {
   "cell_type": "markdown",
   "metadata": {},
   "source": [
    "reverseString"
   ]
  },
  {
   "cell_type": "code",
   "execution_count": null,
   "metadata": {},
   "outputs": [],
   "source": [
    "def reverse_string(s):\n",
    "    return s[::-1]\n",
    "\n",
    "# Example usage\n",
    "string_name = 'hello'\n",
    "reversed_string = reverse_string(string_name)\n",
    "print(reversed_string)  # Output: \"olleh\""
   ]
  },
  {
   "cell_type": "markdown",
   "metadata": {},
   "source": [
    "smallestInArray"
   ]
  },
  {
   "cell_type": "code",
   "execution_count": 2,
   "metadata": {},
   "outputs": [
    {
     "name": "stdout",
     "output_type": "stream",
     "text": [
      "3\n",
      "0.0\n"
     ]
    }
   ],
   "source": [
    "import time\n",
    "\n",
    "start = time.time()\n",
    "\n",
    "\n",
    "array = [ 7,12,9,11,3 ]\n",
    "minval = array[0]\n",
    "for element in array:\n",
    "    if element < minval:\n",
    "        minval = element\n",
    "print(minval)\n",
    "print(time.time() - start)"
   ]
  },
  {
   "cell_type": "markdown",
   "metadata": {},
   "source": [
    "FizzBuzz"
   ]
  },
  {
   "cell_type": "code",
   "execution_count": null,
   "metadata": {},
   "outputs": [],
   "source": [
    "output = []\n",
    "count = 1\n",
    "\n",
    "def fizzbuzz():\n",
    "    global count\n",
    "    while count <= 10:\n",
    "        if count % 3 == 0 and count % 5 == 0:\n",
    "            output.append(\"FIZZBUZZ\")\n",
    "        elif count % 3 == 0:\n",
    "            output.append(\"Fizz\")\n",
    "        elif count % 5 == 0:\n",
    "            output.append(\"buzz\")\n",
    "        else:\n",
    "            output.append(count)\n",
    "        count += 1\n",
    "    print(output)\n",
    "fizzbuzz()"
   ]
  },
  {
   "cell_type": "markdown",
   "metadata": {},
   "source": [
    "fibonacci"
   ]
  },
  {
   "cell_type": "code",
   "execution_count": 8,
   "metadata": {},
   "outputs": [
    {
     "name": "stdout",
     "output_type": "stream",
     "text": [
      "0 1 1 2 3 "
     ]
    }
   ],
   "source": [
    "# Function to print Fibonacci series up to 'n' terms\n",
    "def fibonacci(n):\n",
    "    a, b = 0, 1\n",
    "    for i in range(n):\n",
    "        print(a, end=\" \")\n",
    "        a, b = b, a + b\n",
    "\n",
    "# Example usage:\n",
    "n_terms = int(input(\"Enter the number of terms: \"))\n",
    "fibonacci(n_terms)\n"
   ]
  },
  {
   "cell_type": "code",
   "execution_count": 1,
   "metadata": {},
   "outputs": [
    {
     "name": "stdout",
     "output_type": "stream",
     "text": [
      "The 5th Fibonacci number is 5\n"
     ]
    }
   ],
   "source": [
    "def fibonacci(n):\n",
    "    if n == 0:  # Base case 1\n",
    "        return 0\n",
    "    elif n == 1:  # Base case 2\n",
    "        return 1\n",
    "    else:\n",
    "        return fibonacci(n - 1) + fibonacci(n - 2)  # Recursive case\n",
    "\n",
    "# Take input from the user\n",
    "number = int(input(\"Enter a number: \"))\n",
    "result = fibonacci(number)\n",
    "print(f\"The {number}th Fibonacci number is {result}\")\n"
   ]
  },
  {
   "cell_type": "code",
   "execution_count": null,
   "metadata": {},
   "outputs": [],
   "source": [
    "number = int(input(\"Enter the number of terms: \"))\n",
    "a, b = 0, 1\n",
    "for i in range(number):\n",
    "    print(a, end=\" \")\n",
    "    a, b = b, a + b"
   ]
  },
  {
   "cell_type": "code",
   "execution_count": null,
   "metadata": {},
   "outputs": [],
   "source": [
    "def fibonacci_upto_n(n):\n",
    "    # Initialize the first two Fibonacci numbers\n",
    "    fib_list = []\n",
    "    a, b = 0, 1\n",
    "    while a <= n:\n",
    "        fib_list.append(a)\n",
    "        a, b = b, a + b\n",
    "    return fib_list\n",
    "\n",
    "def sum_positive_fibonacci_in_range(n):\n",
    "    fib_list = fibonacci_upto_n(n)\n",
    "    # Filter Fibonacci numbers that are in the range from 2 to n (inclusive)\n",
    "    filtered_fibs = [f for f in fib_list if f >= 2 and f <= n]\n",
    "    return sum(filtered_fibs)\n",
    "\n",
    "# Example usage:\n",
    "n = 10\n",
    "result = sum_positive_fibonacci_in_range(n)\n",
    "print(\"The sum of positive Fibonacci numbers in the range is:\", result)\n",
    "\n"
   ]
  },
  {
   "cell_type": "code",
   "execution_count": null,
   "metadata": {},
   "outputs": [],
   "source": [
    "def sum_even_fibonacci(n):\n",
    "    # Initialize the first two even Fibonacci numbers\n",
    "    a, b = 2, 8  # Fibonacci sequence starts with 1, 2, 3, 5, 8... even Fibonacci numbers are 2, 8, 34, ...\n",
    "    total_sum = 2  # Start with the first even Fibonacci number (2)\n",
    "\n",
    "    # While the next even Fibonacci number is <= n\n",
    "    while b <= n:\n",
    "        total_sum += b\n",
    "        a, b = b, 4 * b + a  # Update a and b according to the even Fibonacci pattern\n",
    "\n",
    "    return total_sum\n",
    "\n",
    "# Reading input and solving for multiple test cases\n",
    "t = int(input())  # Number of test cases\n",
    "for _ in range(t):\n",
    "    n = int(input())  # Each test case provides a value N\n",
    "    print(sum_even_fibonacci(n))\n"
   ]
  },
  {
   "cell_type": "code",
   "execution_count": 2,
   "metadata": {},
   "outputs": [
    {
     "name": "stdout",
     "output_type": "stream",
     "text": [
      "7\n"
     ]
    }
   ],
   "source": [
    "n = int(input())\n",
    "if n<=0:\n",
    "    print(\"0\")\n",
    "a,b = 0,1\n",
    "total=a+b\n",
    "for i in range(2,n):\n",
    "    a,b = b,a+b\n",
    "    total = total+b\n",
    "print(total)\n"
   ]
  },
  {
   "cell_type": "markdown",
   "metadata": {},
   "source": [
    "LCM OF ARRAY"
   ]
  },
  {
   "cell_type": "code",
   "execution_count": null,
   "metadata": {},
   "outputs": [],
   "source": [
    "from functools import reduce\n",
    "from math import gcd\n",
    "\n",
    "# Input array\n",
    "arr = [1,2,3,4]\n",
    "\n",
    "# Calculate LCM using reduce and lambda\n",
    "lcm = reduce(lambda a, b: a * b // gcd(a, b), arr)\n",
    "\n",
    "print(\"LCM of the array:\", lcm)\n",
    "\n"
   ]
  },
  {
   "cell_type": "code",
   "execution_count": 2,
   "metadata": {},
   "outputs": [
    {
     "name": "stdout",
     "output_type": "stream",
     "text": [
      "12\n"
     ]
    }
   ],
   "source": [
    "from functools import reduce\n",
    "from math import gcd\n",
    "n = [1,2,3,4]\n",
    "lcm = reduce(lambda a,b: a*b//gcd(a,b),n)\n",
    "print(lcm)"
   ]
  },
  {
   "cell_type": "markdown",
   "metadata": {},
   "source": [
    "LinearSearch"
   ]
  },
  {
   "cell_type": "code",
   "execution_count": null,
   "metadata": {},
   "outputs": [],
   "source": [
    "def linear_search(arr, target):\n",
    "    for i in range(len(arr)):\n",
    "        if arr[i] == target:\n",
    "            return i  # Return the index if the target is found\n",
    "    return -1  # Return -1 if the target is not found\n",
    "\n",
    "arr = [10, 23, 45, 70, 11, 15]\n",
    "target = 70\n",
    "result = linear_search(arr, target)\n",
    "print(f'Target found at index: {result}')"
   ]
  },
  {
   "cell_type": "code",
   "execution_count": null,
   "metadata": {},
   "outputs": [],
   "source": [
    "linearinput = input()\n",
    "intinput = list(map(int,linearinput.split()))\n",
    "target = int(input())\n",
    "for i in range(len(intinput)):\n",
    "    if intinput[i] == target:\n",
    "        print(f\"number found at {i} index\")\n"
   ]
  },
  {
   "cell_type": "markdown",
   "metadata": {},
   "source": [
    "BubbleSort"
   ]
  },
  {
   "cell_type": "code",
   "execution_count": null,
   "metadata": {},
   "outputs": [],
   "source": [
    "import time\n",
    "\n",
    "start = time.time()\n",
    "\n",
    "array = [12,54,3,65,21,73,32,1]\n",
    "n = len(array)\n",
    "for i in range(n-1):\n",
    "    for j in range(0,n-1-i):\n",
    "        if array[j] <  array[j + 1]:\n",
    "            array[j],array[j+1] = array[j + 1],array[j]\n",
    "print(array)\n",
    "print(time.time()-start)"
   ]
  },
  {
   "cell_type": "markdown",
   "metadata": {},
   "source": [
    "dsaPractice"
   ]
  },
  {
   "cell_type": "markdown",
   "metadata": {},
   "source": [
    "sum of an integer"
   ]
  },
  {
   "cell_type": "code",
   "execution_count": null,
   "metadata": {},
   "outputs": [],
   "source": [
    "number = int(input(\"enter number\"))\n",
    "a = number % 10 \n",
    "b = number // 10\n",
    "d = b % 10\n",
    "c = number // 100\n",
    "print(a+d+c)"
   ]
  },
  {
   "cell_type": "markdown",
   "metadata": {},
   "source": [
    "sort by last disgit"
   ]
  },
  {
   "cell_type": "code",
   "execution_count": null,
   "metadata": {},
   "outputs": [],
   "source": [
    "arr_list = [122,453,325,147,149]\n",
    "sorted_list = sorted(arr_list,key = lambda x: x%10)\n",
    "print (sorted_list)"
   ]
  },
  {
   "cell_type": "markdown",
   "metadata": {},
   "source": [
    "amstrong"
   ]
  },
  {
   "cell_type": "code",
   "execution_count": 4,
   "metadata": {},
   "outputs": [
    {
     "name": "stdout",
     "output_type": "stream",
     "text": [
      "153 its amstrong\n"
     ]
    }
   ],
   "source": [
    "num = int(input())\n",
    "sum = 0\n",
    "temp = num\n",
    "while temp > 0:\n",
    "    hello = temp % 10\n",
    "    sum = sum + hello**3\n",
    "    temp //= 10\n",
    "if num == sum:\n",
    "    print(num,'its amstrong')\n",
    "else:\n",
    "    print(num,'its not amstrong')"
   ]
  },
  {
   "cell_type": "code",
   "execution_count": 3,
   "metadata": {},
   "outputs": [
    {
     "name": "stdout",
     "output_type": "stream",
     "text": [
      "amstrong\n"
     ]
    }
   ],
   "source": [
    "num = int(input())\n",
    "a = num % 10  #3\n",
    "b = num // 10 #15\n",
    "hel = b % 10 # 5\n",
    "c = num // 100 # 1\n",
    "ink = a**3 + hel**3 + c**3\n",
    "if ink == num:\n",
    "    print('amstrong')\n",
    "else:\n",
    "    print('not amstrong')"
   ]
  },
  {
   "cell_type": "markdown",
   "metadata": {},
   "source": [
    "PATTERNS"
   ]
  },
  {
   "cell_type": "code",
   "execution_count": 10,
   "metadata": {},
   "outputs": [
    {
     "name": "stdout",
     "output_type": "stream",
     "text": [
      "* * * * * \n",
      "* * * * * \n",
      "* * * * * \n",
      "* * * * * \n",
      "* * * * * \n"
     ]
    }
   ],
   "source": [
    "n = 5\n",
    "\n",
    "for i in range(n):\n",
    "    for j in range(n):\n",
    "        print('*',end=' ')\n",
    "    print()"
   ]
  },
  {
   "cell_type": "code",
   "execution_count": 9,
   "metadata": {},
   "outputs": [
    {
     "name": "stdout",
     "output_type": "stream",
     "text": [
      "8 \n",
      "8 8 \n",
      "8 8 8 \n",
      "8 8 8 8 \n",
      "8 8 8 8 8 \n"
     ]
    }
   ],
   "source": [
    "n = 5\n",
    "for i in range(n):\n",
    "    for j in range(i+1):\n",
    "        print(\"8\",end = ' ')\n",
    "    print()"
   ]
  },
  {
   "cell_type": "code",
   "execution_count": 24,
   "metadata": {},
   "outputs": [
    {
     "name": "stdout",
     "output_type": "stream",
     "text": [
      "0 0 0 0 \n",
      "1 1 1 \n",
      "2 2 \n",
      "3 \n"
     ]
    }
   ],
   "source": [
    "n = 4\n",
    "for i in range(n):\n",
    "    for j in range(i,n):\n",
    "        print(i,end=\" \")\n",
    "    print()"
   ]
  },
  {
   "cell_type": "code",
   "execution_count": 7,
   "metadata": {},
   "outputs": [
    {
     "name": "stdout",
     "output_type": "stream",
     "text": [
      "          * \n",
      "        * * \n",
      "      * * * \n",
      "    * * * * \n",
      "  * * * * * \n"
     ]
    }
   ],
   "source": [
    "n = 5\n",
    "for i in range(n):\n",
    "    for j in range(i,n):\n",
    "        print(\" \", end = ' ')\n",
    "    for j in range(i+1):\n",
    "        print(\"*\",end =' ')\n",
    "    print()"
   ]
  },
  {
   "cell_type": "code",
   "execution_count": 6,
   "metadata": {},
   "outputs": [
    {
     "name": "stdout",
     "output_type": "stream",
     "text": [
      "  * * * * * \n",
      "    * * * * \n",
      "      * * * \n",
      "        * * \n",
      "          * \n"
     ]
    }
   ],
   "source": [
    "n = 5\n",
    "for i in range(n):\n",
    "    for j in range(i + 1):\n",
    "        print(' ', end = \" \")\n",
    "    for j in range(i,n):\n",
    "        print('*',end = ' ')\n",
    "    print()"
   ]
  },
  {
   "cell_type": "code",
   "execution_count": 5,
   "metadata": {},
   "outputs": [
    {
     "name": "stdout",
     "output_type": "stream",
     "text": [
      "          * \n",
      "        * * * \n",
      "      * * * * * \n",
      "    * * * * * * * \n",
      "  * * * * * * * * * \n"
     ]
    }
   ],
   "source": [
    "n = 5\n",
    "for i in range (n):\n",
    "    for j in range(i,n):\n",
    "        print(' ', end = ' ')\n",
    "    for j in range(i):\n",
    "        print('*',end = ' ')\n",
    "    for j in range(i+1):\n",
    "        print('*',end = ' ')\n",
    "    print()"
   ]
  },
  {
   "cell_type": "code",
   "execution_count": 54,
   "metadata": {},
   "outputs": [
    {
     "name": "stdout",
     "output_type": "stream",
     "text": [
      "* * * *\n",
      "*     *\n",
      "*     *\n",
      "*     *\n",
      "* * * *\n"
     ]
    }
   ],
   "source": [
    "r = 5\n",
    "c = 4\n",
    "for i in range(r):\n",
    "    for j in range(c):\n",
    "        if i == 0 or i ==r-1 or j==0 or j ==c-1:\n",
    "            print(\"*\",end = '')\n",
    "        else:\n",
    "            print(\" \",end =\"\")\n",
    "        if j!=c-1:\n",
    "            print(\" \",end =\"\")\n",
    "    print()\n",
    "\n",
    "    \n",
    "    \n"
   ]
  },
  {
   "cell_type": "code",
   "execution_count": 4,
   "metadata": {},
   "outputs": [
    {
     "name": "stdout",
     "output_type": "stream",
     "text": [
      "  * * * * * * * * * \n",
      "    * * * * * * * \n",
      "      * * * * * \n",
      "        * * * \n",
      "          * \n"
     ]
    }
   ],
   "source": [
    "n = 5\n",
    "for i in range(n):\n",
    "    for j in range(i +1):\n",
    "        print(' ',end = ' ')\n",
    "    for j in range(i,n-1):\n",
    "        print('*',end = ' ')\n",
    "    for j in range(i,n):\n",
    "        print('*',end = ' ')\n",
    "    print()"
   ]
  },
  {
   "cell_type": "markdown",
   "metadata": {},
   "source": [
    "guess game"
   ]
  },
  {
   "cell_type": "code",
   "execution_count": null,
   "metadata": {},
   "outputs": [],
   "source": [
    "import random\n",
    "jackpot = random.randint(1,100)\n",
    "guess = int(input(\"Guess your number\"))\n",
    "counter = 1\n",
    "while guess != jackpot:\n",
    "    if guess < jackpot:\n",
    "        print(\"Guess Higher than\",guess)\n",
    "    else:\n",
    "        print(\"Guess Lower than\",guess)\n",
    "    guess = int(input(\"Guess again\"))\n",
    "    counter += 1\n",
    "else:\n",
    "    print(\"Guessed correct!\",jackpot,\"is jackpot number\")\n",
    "    print(\"Attempts took to Guess\",counter)\n",
    "\n"
   ]
  },
  {
   "cell_type": "code",
   "execution_count": null,
   "metadata": {},
   "outputs": [],
   "source": [
    "current_pop = 10000\n",
    "for i in range(2010,2000,-1):\n",
    "    print (\"in year \", i ,\"population is \",int(current_pop))\n",
    "    current_pop = current_pop - current_pop / 100 * 10"
   ]
  },
  {
   "cell_type": "markdown",
   "metadata": {},
   "source": [
    "stock_problem"
   ]
  },
  {
   "cell_type": "code",
   "execution_count": null,
   "metadata": {},
   "outputs": [],
   "source": [
    "prices = [12,45,1,42,2,99,99,73,44,69]\n",
    "l,r = 0,1\n",
    "maxp  = 0\n",
    "while r < len(prices):\n",
    "    if prices[l] < prices[r]:\n",
    "        profit = prices[r] - prices[l]\n",
    "        maxp = max(maxp,profit)\n",
    "    else:\n",
    "        l=r\n",
    "    r+=1\n",
    "print(maxp)\n"
   ]
  },
  {
   "cell_type": "code",
   "execution_count": null,
   "metadata": {},
   "outputs": [],
   "source": [
    "chars = \"abcdefghijklmnopqrstuvwxyz\"\n",
    "check_string = str(input())\n",
    "\n",
    "for char in chars:\n",
    "  count = check_string.count(char)\n",
    "  if count >= 1:\n",
    "    print (char,count , end=' ,')"
   ]
  },
  {
   "cell_type": "code",
   "execution_count": null,
   "metadata": {},
   "outputs": [],
   "source": [
    "# Get input from the user\n",
    "input_string = input(\"Enter a string: \")\n",
    "\n",
    "# Initialize a counter for letters\n",
    "letter_count = 0\n",
    "\n",
    "# Loop through each character in the string\n",
    "for char in input_string:\n",
    "    # Check if the character is a letter\n",
    "    if char.isalpha():\n",
    "        letter_count += 1\n",
    "\n",
    "# Print the number of letters\n",
    "print(\"Number of letters in the string:\", letter_count)\n"
   ]
  },
  {
   "cell_type": "code",
   "execution_count": null,
   "metadata": {},
   "outputs": [],
   "source": [
    "for i in range(2,101):\n",
    "    for j in range(2,101):\n",
    "        if i%j == 0:\n",
    "            break\n",
    "    if i == j:\n",
    "        print(i,end=' ')"
   ]
  },
  {
   "cell_type": "code",
   "execution_count": null,
   "metadata": {},
   "outputs": [],
   "source": [
    "for i in range(1, 10):\n",
    "  is_prime = True\n",
    "  for j in range(2, i):\n",
    "    if i % j == 0:\n",
    "      is_prime = False\n",
    "      break\n",
    "  if is_prime:\n",
    "    print(i, end=\", \")"
   ]
  },
  {
   "cell_type": "code",
   "execution_count": null,
   "metadata": {},
   "outputs": [],
   "source": [
    "for i in range(2,101):\n",
    "    is_prime = True\n",
    "    for j in range(2,i):\n",
    "        if i % j == 0:\n",
    "            is_prime = False\n",
    "            break\n",
    "    if is_prime:\n",
    "        print(i, end=' ')\n"
   ]
  },
  {
   "cell_type": "code",
   "execution_count": null,
   "metadata": {},
   "outputs": [],
   "source": [
    "\n",
    "user_input = input(\"Enter numbers separated by spaces: \")\n",
    "array = list(map(int, user_input.split()))\n",
    "evenlist = []\n",
    "for i in array:\n",
    "    if i % 2 == 0:\n",
    "        evenlist.append(i)\n",
    "print(evenlist)\n",
    "print(array)"
   ]
  },
  {
   "cell_type": "code",
   "execution_count": null,
   "metadata": {},
   "outputs": [],
   "source": [
    "user_input = input()\n",
    "hello = user_input.split()\n",
    "empty = {}\n",
    "for word in hello:\n",
    "    if word in empty:\n",
    "        empty[word] += 1\n",
    "    else:\n",
    "        empty[word] = 1\n",
    "\n",
    "print(empty)"
   ]
  },
  {
   "cell_type": "code",
   "execution_count": null,
   "metadata": {},
   "outputs": [],
   "source": [
    "# Step 1: Get the input from the user\n",
    "user_input = input(\"Enter a sentence: \")\n",
    "\n",
    "# Step 2: Split the sentence into words\n",
    "words = user_input.split()\n",
    "\n",
    "# Step 3: Create an empty dictionary\n",
    "word_count = {}\n",
    "\n",
    "# Step 4: Loop through the list of words and count occurrences\n",
    "for word in words:\n",
    "    if word in word_count:\n",
    "        word_count[word] += 1\n",
    "    else:\n",
    "        word_count[word] = 1\n",
    "\n",
    "# Step 5: Print the results\n",
    "for word, count in word_count.items():\n",
    "    print(f\"{word}: {count}\")\n"
   ]
  },
  {
   "cell_type": "code",
   "execution_count": null,
   "metadata": {},
   "outputs": [],
   "source": [
    "# Size of the list\n",
    "size = int(input(\"Enter the size of the list: \"))\n",
    "\n",
    "# Create an empty list\n",
    "my_list = []\n",
    "\n",
    "# Loop to take input for each element\n",
    "for i in range(size):\n",
    "    num = int(input(\"Enter number {}: \".format(i + 1)))\n",
    "    my_list.append(num)\n",
    "\n",
    "print(\"Your list of numbers:\", my_list)\n",
    "type(my_list)\n"
   ]
  },
  {
   "cell_type": "markdown",
   "metadata": {},
   "source": [
    "sum of previous numbers "
   ]
  },
  {
   "cell_type": "code",
   "execution_count": null,
   "metadata": {},
   "outputs": [],
   "source": [
    "n = int(input())\n",
    "form = ((n+1) * n) // 2\n",
    "print(form)"
   ]
  },
  {
   "cell_type": "code",
   "execution_count": null,
   "metadata": {},
   "outputs": [],
   "source": [
    "# n = int(input(\"Enter n: \"))\n",
    "n = 10\n",
    "# initialize sum and counter\n",
    "sum = 0\n",
    "i = 1\n",
    "while i <= n:\n",
    "    sum = sum + i\n",
    "    i=i+1 # updatecounter# print thesum\n",
    "print(\"The sum is\", sum)"
   ]
  },
  {
   "cell_type": "code",
   "execution_count": null,
   "metadata": {},
   "outputs": [],
   "source": [
    "vowel = 'aeiou'\n",
    "count = 0\n",
    "string = input()\n",
    "fvowels = []\n",
    "for char in string:\n",
    "    if char in vowel:\n",
    "        fvowels.append(char)\n",
    "        count += 1\n",
    "print(count)\n",
    "print(fvowels)"
   ]
  },
  {
   "cell_type": "code",
   "execution_count": null,
   "metadata": {},
   "outputs": [],
   "source": [
    "fact = int(input())\n",
    "factorial = 1\n",
    "for i in range(1,fact+1):\n",
    "    factorial = factorial * i\n",
    "print(factorial)"
   ]
  },
  {
   "cell_type": "code",
   "execution_count": null,
   "metadata": {},
   "outputs": [],
   "source": [
    "num = input().split()\n",
    "num = [int(i) for i in num]\n",
    "print (sum(num))"
   ]
  },
  {
   "cell_type": "code",
   "execution_count": null,
   "metadata": {},
   "outputs": [],
   "source": [
    "# Solution for Exercise 6\n",
    "numbers = input(\"Enter numbers separated by spaces: \").split()\n",
    "numbers = [int(num) for num in numbers]\n",
    "sum_result = sum(numbers)\n",
    "print(\"The sum of the list is:\", sum_result)\n"
   ]
  },
  {
   "cell_type": "code",
   "execution_count": null,
   "metadata": {},
   "outputs": [],
   "source": [
    "name = \"helloworld\"\n",
    "reverse = name[::-1]\n",
    "if name == reverse:\n",
    "    print(\"palindrome\")\n",
    "else:\n",
    "    print(\"nonpali\")\n"
   ]
  },
  {
   "cell_type": "code",
   "execution_count": null,
   "metadata": {},
   "outputs": [],
   "source": [
    "string =\"sAdweqwed dashdgu\"\n",
    "hello = string.title()\n",
    "print(hello)"
   ]
  },
  {
   "cell_type": "code",
   "execution_count": null,
   "metadata": {},
   "outputs": [],
   "source": [
    "hello = {'name' : 'pidf','age': 22,'place':'djkdsf'}\n",
    "world = ['dasd','sadasd','asdsad']\n",
    "print(type(hello))\n"
   ]
  },
  {
   "cell_type": "code",
   "execution_count": null,
   "metadata": {},
   "outputs": [],
   "source": [
    "def tryme(string):\n",
    "    'helloworld'\n",
    "    print(string)\n",
    "    return\n",
    "tryme(\"subash\")"
   ]
  },
  {
   "cell_type": "code",
   "execution_count": null,
   "metadata": {},
   "outputs": [],
   "source": [
    "def change(mylist):\n",
    "    mylist.extend([1,2,3,4])\n",
    "    print(mylist)\n",
    "    return\n",
    "change([5,6,7])"
   ]
  },
  {
   "cell_type": "code",
   "execution_count": null,
   "metadata": {},
   "outputs": [],
   "source": [
    "def changeme(mylist):\n",
    "    mylist = [1,2,3,4]\n",
    "    print(mylist)\n",
    "    return\n",
    "mylist = [6,7,8,9]\n",
    "changeme(mylist)\n",
    "print(mylist)"
   ]
  },
  {
   "cell_type": "code",
   "execution_count": null,
   "metadata": {},
   "outputs": [],
   "source": [
    "arr = [0,3,4,5,6,7]\n",
    "n = len(arr)\n",
    "total = n*(n+1)//2\n",
    "res = total - sum(arr)\n",
    "print(res)"
   ]
  },
  {
   "cell_type": "code",
   "execution_count": null,
   "metadata": {},
   "outputs": [],
   "source": [
    "import random\n",
    "print(random.randint(1,10))"
   ]
  },
  {
   "cell_type": "markdown",
   "metadata": {},
   "source": [
    "LOVE CALCULATOR"
   ]
  },
  {
   "cell_type": "code",
   "execution_count": 1,
   "metadata": {},
   "outputs": [
    {
     "name": "stdout",
     "output_type": "stream",
     "text": [
      "The Love Calculator is calculating your score...\n",
      "romeojuliet\n",
      "Your score is 55. you are not a good couple\n"
     ]
    }
   ],
   "source": [
    "print(\"The Love Calculator is calculating your score...\")\n",
    "name1 = input()\n",
    "name2 = input() \n",
    "hello = name1.lower()+name2.lower()\n",
    "print(hello)\n",
    "t=hello.count(\"t\")\n",
    "r=hello.count(\"r\")\n",
    "u=hello.count(\"u\")\n",
    "e=hello.count(\"e\")\n",
    "first = t+r+u+e\n",
    "l=hello.count(\"l\")\n",
    "o=hello.count(\"o\")\n",
    "v=hello.count(\"v\")\n",
    "e=hello.count(\"e\")\n",
    "second = l+o+v+e\n",
    "combine = int(str(first)+str(second))\n",
    "if 10 >= combine >= 90:\n",
    "    print(f\"Your score is {combine}, you go together like coke and mentos.\")\n",
    "elif 40 >= combine <=50:\n",
    "    print(f\"Your score is {combine}, you are alright together.\")\n",
    "else:\n",
    "    print(f\"Your score is {combine}. you are not a good couple\")\n",
    "\n"
   ]
  },
  {
   "cell_type": "code",
   "execution_count": null,
   "metadata": {},
   "outputs": [],
   "source": [
    "students = [1,0,2,3,4,5,6,7,8,9,69]\n",
    "maxnum = students[0]\n",
    "for i in students:\n",
    "    if i > maxnum:\n",
    "        maxnum = i\n",
    "print(maxnum)\n"
   ]
  },
  {
   "cell_type": "markdown",
   "metadata": {},
   "source": [
    "PRODUCT OF DIGITS IN A NUMBER"
   ]
  },
  {
   "cell_type": "code",
   "execution_count": null,
   "metadata": {},
   "outputs": [],
   "source": [
    "x = int(input())\n",
    "if x == 0:\n",
    "    print( 0)\n",
    "product = 1\n",
    "while x > 0:\n",
    "    product *= x % 10\n",
    "    x //= 10\n",
    "print(product)"
   ]
  },
  {
   "cell_type": "markdown",
   "metadata": {},
   "source": [
    "SUM OF DIGITS IN A NUMBER"
   ]
  },
  {
   "cell_type": "code",
   "execution_count": null,
   "metadata": {},
   "outputs": [],
   "source": [
    "num=int(input())\n",
    "if num == 0:\n",
    "    print(0)\n",
    "total = 0\n",
    "while num > 0:\n",
    "    total += num % 10  # Add the last digit to total\n",
    "    num = num // 10    # Remove the last digit\n",
    "print(total)\n",
    "  # Output: 15\n"
   ]
  },
  {
   "cell_type": "code",
   "execution_count": null,
   "metadata": {},
   "outputs": [],
   "source": [
    "hel = input()\n",
    "no = input()\n",
    "sub = ''.join(sorted(hel))\n",
    "ass = ''.join(sorted(no))\n",
    "if sub == ass:\n",
    "    print(\"True\")\n",
    "else:\n",
    "    print(\"false\")\n"
   ]
  },
  {
   "cell_type": "markdown",
   "metadata": {},
   "source": [
    "LARGEST DIGIT FROM A NUMBER"
   ]
  },
  {
   "cell_type": "code",
   "execution_count": 2,
   "metadata": {},
   "outputs": [
    {
     "name": "stdout",
     "output_type": "stream",
     "text": [
      "4\n",
      "1234\n"
     ]
    }
   ],
   "source": [
    "n= input()\n",
    "lol = str(n)\n",
    "lis =[]\n",
    "for i in lol:\n",
    "    lis.append(int(i))\n",
    "print(max(lis))\n"
   ]
  },
  {
   "cell_type": "markdown",
   "metadata": {},
   "source": [
    "MAXIMUM SUM OF SUBARRAYS"
   ]
  },
  {
   "cell_type": "code",
   "execution_count": 1,
   "metadata": {},
   "outputs": [
    {
     "name": "stdout",
     "output_type": "stream",
     "text": [
      "Maximum Subarray Sum: 21\n"
     ]
    }
   ],
   "source": [
    "arr = list(map(int, input(\"Enter elements of array separated by space: \").split()))\n",
    "max_sum = float('-inf')  # Smallest possible number\n",
    "current_sum = 0\n",
    "\n",
    "for num in arr:\n",
    "    current_sum = max(num, current_sum + num)\n",
    "    max_sum = max(max_sum, current_sum)\n",
    "\n",
    "print(\"Maximum Subarray Sum:\", max_sum)"
   ]
  },
  {
   "cell_type": "markdown",
   "metadata": {},
   "source": [
    "PRINT SUBARRAYS"
   ]
  },
  {
   "cell_type": "code",
   "execution_count": 2,
   "metadata": {},
   "outputs": [
    {
     "name": "stdout",
     "output_type": "stream",
     "text": [
      "[1]\n",
      "[1, 2]\n",
      "[1, 2, 3]\n",
      "[1, 2, 3, 4]\n",
      "[2]\n",
      "[2, 3]\n",
      "[2, 3, 4]\n",
      "[3]\n",
      "[3, 4]\n",
      "[4]\n"
     ]
    }
   ],
   "source": [
    "arr = [1, 2, 3, 4]\n",
    "\n",
    "n = len(arr)\n",
    "\n",
    "for i in range(n):  # Starting index of subarray\n",
    "    for j in range(i, n):  # Ending index of subarray\n",
    "        print(arr[i:j+1])"
   ]
  },
  {
   "cell_type": "code",
   "execution_count": null,
   "metadata": {},
   "outputs": [],
   "source": [
    "n = [1,2,3,4]\n",
    "m = len(n)\n",
    "for i in range(m):\n",
    "    for j in range(i,m):\n",
    "        print(n[i:j+1])"
   ]
  },
  {
   "cell_type": "code",
   "execution_count": null,
   "metadata": {},
   "outputs": [],
   "source": [
    "m = int(input())\n",
    "n = int(input())\n",
    "dm = 0\n",
    "ndm = 0\n",
    "for i in range(1,n+1):\n",
    "    if i % m == 0:\n",
    "        dm+=i\n",
    "    else:\n",
    "        ndm+=i\n",
    "diff = ndm - dm\n",
    "print(diff)\n"
   ]
  },
  {
   "cell_type": "code",
   "execution_count": null,
   "metadata": {},
   "outputs": [],
   "source": [
    "arr=list(map(int,input().split()))\n",
    "if len(arr)<3:\n",
    "    result= 0\n",
    "else:\n",
    "    oe = [arr[i] for i in range(len(arr)) if i % 2 != 0]\n",
    "    ee = [arr[i] for i in range(len(arr)) if i % 2 == 0]\n",
    "\n",
    "if len(oe)<2 or len(ee)<2:\n",
    "    result = 0\n",
    "else:\n",
    "    oe.sort()\n",
    "    ee.sort(reverse=True)\n",
    "print(oe[1]+ee[1])\n"
   ]
  },
  {
   "cell_type": "markdown",
   "metadata": {},
   "source": [
    "sum of digits after converting into binary`"
   ]
  },
  {
   "cell_type": "code",
   "execution_count": null,
   "metadata": {},
   "outputs": [],
   "source": [
    "n = int(input())\n",
    "bi = bin(n)[2:]\n",
    "lol = sum(int(dig) for dig in bi)\n",
    "print(lol)"
   ]
  },
  {
   "cell_type": "markdown",
   "metadata": {},
   "source": [
    "LEAPYEAR"
   ]
  },
  {
   "cell_type": "code",
   "execution_count": 5,
   "metadata": {},
   "outputs": [
    {
     "name": "stdout",
     "output_type": "stream",
     "text": [
      "Leap\n"
     ]
    }
   ],
   "source": [
    "n = int(input())\n",
    "if (n%4==0 and n%100!=0) or (n%400 == 0):\n",
    "    print(\"Leap\")\n",
    "else:\n",
    "    print(\"non leap\")"
   ]
  },
  {
   "cell_type": "markdown",
   "metadata": {},
   "source": [
    "PERFECT NUMBER"
   ]
  },
  {
   "cell_type": "code",
   "execution_count": 1,
   "metadata": {},
   "outputs": [
    {
     "name": "stdout",
     "output_type": "stream",
     "text": [
      "[1, 3, 5]\n",
      "not perfect number\n"
     ]
    }
   ],
   "source": [
    "n = int(input())\n",
    "s= []\n",
    "for i in range(1,n):\n",
    "    if n%i==0:\n",
    "        s.append(i)\n",
    "print(s)\n",
    "h= sum(s)\n",
    "if n == h:\n",
    "    print(\"perfect number\")\n",
    "else:\n",
    "    print(\"not perfect number\")"
   ]
  },
  {
   "cell_type": "markdown",
   "metadata": {},
   "source": [
    "MAXPRODUCT OF 3 NUM IN ARRAY"
   ]
  },
  {
   "cell_type": "code",
   "execution_count": 32,
   "metadata": {},
   "outputs": [
    {
     "name": "stdout",
     "output_type": "stream",
     "text": [
      "6\n"
     ]
    }
   ],
   "source": [
    "n = list(map(int,input().split()))\n",
    "n.sort()\n",
    "mp = max(n[-1]*n[-2]*n[-3],n[0]*n[1]*n[-1])\n",
    "print(mp)"
   ]
  },
  {
   "cell_type": "markdown",
   "metadata": {},
   "source": [
    "functions"
   ]
  },
  {
   "cell_type": "code",
   "execution_count": 3,
   "metadata": {},
   "outputs": [
    {
     "name": "stdout",
     "output_type": "stream",
     "text": [
      "6\n"
     ]
    }
   ],
   "source": [
    "'''def subash(a,b):\n",
    "    c = a+b\n",
    "    print(c)\n",
    "subash(6,5)'''\n",
    "\n",
    "\n",
    "def mul(n1,n2):\n",
    "    return n1*n2\n",
    "x = mul(2,3)\n",
    "print(x)"
   ]
  },
  {
   "cell_type": "code",
   "execution_count": 6,
   "metadata": {},
   "outputs": [
    {
     "name": "stdout",
     "output_type": "stream",
     "text": [
      "15\n"
     ]
    }
   ],
   "source": [
    "def gun(*arwgs):\n",
    "    sums = 0\n",
    "    for i in arwgs:\n",
    "        sums = sums+i\n",
    "    return sums\n",
    "\n",
    "print(gun(1,2,3,4,5))"
   ]
  },
  {
   "cell_type": "code",
   "execution_count": 7,
   "metadata": {},
   "outputs": [
    {
     "name": "stdout",
     "output_type": "stream",
     "text": [
      "6\n"
     ]
    }
   ],
   "source": [
    "num = [2,4,1,6]\n",
    "maxnum = num[0]\n",
    "for i in range(len(num)):\n",
    "    if num[i] > maxnum:\n",
    "        maxnum = num[i]\n",
    "print(maxnum)"
   ]
  },
  {
   "cell_type": "code",
   "execution_count": null,
   "metadata": {},
   "outputs": [
    {
     "name": "stdout",
     "output_type": "stream",
     "text": [
      "120\n"
     ]
    }
   ],
   "source": [
    "n = 5\n",
    "fact = 1\n",
    "for i in range(1,n+1):\n",
    "    fact*=i\n",
    "print(fact)"
   ]
  },
  {
   "cell_type": "code",
   "execution_count": 28,
   "metadata": {},
   "outputs": [
    {
     "name": "stdout",
     "output_type": "stream",
     "text": [
      "55\n",
      "0\n",
      "1\n",
      "1\n",
      "2\n",
      "3\n",
      "5\n",
      "8\n",
      "13\n",
      "21\n",
      "34\n",
      "55\n"
     ]
    }
   ],
   "source": [
    "def fibo(n):\n",
    "    if n == 0:\n",
    "        return 0\n",
    "    elif n == 1:\n",
    "        return 1\n",
    "    else:\n",
    "        return fibo(n-1)+fibo(n-2)\n",
    "    \n",
    "print(fibo(10))\n",
    "\n",
    "n = 10\n",
    "for i in range(n+1):\n",
    "    print(fibo(i))\n"
   ]
  },
  {
   "cell_type": "code",
   "execution_count": 27,
   "metadata": {},
   "outputs": [
    {
     "name": "stdout",
     "output_type": "stream",
     "text": [
      "55\n"
     ]
    }
   ],
   "source": [
    "def nums(n):\n",
    "    if n == 1:\n",
    "        return 1\n",
    "    else:\n",
    "        return n+nums(n-1)\n",
    "print(nums(10))"
   ]
  },
  {
   "cell_type": "code",
   "execution_count": 30,
   "metadata": {},
   "outputs": [
    {
     "name": "stdout",
     "output_type": "stream",
     "text": [
      "olleh\n"
     ]
    }
   ],
   "source": [
    "def reverse_string(s):\n",
    "    # Base case: if the string is empty or has one character, return it\n",
    "    if len(s) == 0 or len(s) == 1:\n",
    "        return s\n",
    "    else:\n",
    "        # Recursive case: reverse the rest of the string and add the first character to the end\n",
    "        return reverse_string(s[1:]) + s[0]\n",
    "\n",
    "# Test the function\n",
    "print(reverse_string(\"hello\"))  # Output will be \"olleh\"\n"
   ]
  },
  {
   "cell_type": "code",
   "execution_count": null,
   "metadata": {},
   "outputs": [],
   "source": [
    "class Solution:\n",
    "    def reverse(self, x: int) -> int:\n",
    "        s = int(str(x)[::-1])\n",
    "        return s\n",
    "        "
   ]
  },
  {
   "cell_type": "markdown",
   "metadata": {},
   "source": [
    "lcm and hcf "
   ]
  },
  {
   "cell_type": "code",
   "execution_count": null,
   "metadata": {},
   "outputs": [],
   "source": [
    "class Solution:\n",
    "    def lcmAndGcd(self, a : int, b : int) -> List[int]:\n",
    "        def gcd(x,y):\n",
    "            while y!=0:\n",
    "                x,y = y,x%y\n",
    "            return x\n",
    "        gcdval = gcd(a,b)\n",
    "            \n",
    "        lcmval = (a*b)//gcdval\n",
    "        return [lcmval,gcdval]"
   ]
  },
  {
   "cell_type": "code",
   "execution_count": 1,
   "metadata": {},
   "outputs": [
    {
     "name": "stdout",
     "output_type": "stream",
     "text": [
      "akashsabus\n"
     ]
    }
   ],
   "source": [
    "a = \"subashsaka\"\n",
    "ans = \"\"\n",
    "for i in range(len(a)-1,-1,-1):\n",
    "    ans = ans+a[i]\n",
    "print(ans)"
   ]
  },
  {
   "cell_type": "code",
   "execution_count": 5,
   "metadata": {},
   "outputs": [
    {
     "name": "stdout",
     "output_type": "stream",
     "text": [
      "55\n"
     ]
    }
   ],
   "source": [
    "n=10 \n",
    "ans = 0\n",
    "\n",
    "#Write your code here to calculate and return sum of n number.\n",
    "for i in range(n+1):\n",
    "    ans = ans+i\n",
    "\n",
    "print(ans) "
   ]
  },
  {
   "cell_type": "code",
   "execution_count": 3,
   "metadata": {},
   "outputs": [
    {
     "name": "stdout",
     "output_type": "stream",
     "text": [
      "hELLO wORLD\n"
     ]
    }
   ],
   "source": [
    "a = \"Hello World\"\n",
    "b = a.swapcase()\n",
    "print(b)"
   ]
  },
  {
   "cell_type": "code",
   "execution_count": 9,
   "metadata": {},
   "outputs": [],
   "source": [
    "#User function Template for python3\n",
    "\n",
    "class Solution:\n",
    "    \n",
    "    def capCount(self,s):\n",
    "        # Code here to print after captilizing first letter of all string\n",
    "        # and then print the count of number of words\n",
    "        # Your code should provide a new line after printing\n",
    "       \n",
    "        s1 = s.split(\" \")\n",
    "       # print(s1)\n",
    "        for word in s1:\n",
    "            \n",
    "            #print(word)\n",
    "            w1 = word[0].upper()\n",
    "            print(w1+word[1:].lower(), end=\" \")\n",
    "        print()\n",
    "        print(len(s1))"
   ]
  },
  {
   "cell_type": "code",
   "execution_count": null,
   "metadata": {},
   "outputs": [],
   "source": [
    "food = []\n",
    "price = []\n",
    "while True:\n",
    "    items = input((\"Enter the food you want to buy or enter Q to quit shopping.\\n\"))\n",
    "    if items.lower() == \"q\":\n",
    "        break\n",
    "    else:\n",
    "        rate = float(input(f\"Enter the price of {items} $\\n\"))\n",
    "        food.append(items)\n",
    "        price.append(rate)\n",
    "print(\"--------YOUR ITEMS IN CART----------\")\n",
    "print(food)\n",
    "print(\"The total bill of your cart is\",sum(price))"
   ]
  },
  {
   "cell_type": "code",
   "execution_count": 7,
   "metadata": {},
   "outputs": [
    {
     "name": "stdout",
     "output_type": "stream",
     "text": [
      "oraaa mass\n",
      "subash\n",
      "oraaa mass\n",
      "subash\n",
      "oraaa mass\n",
      "subash\n"
     ]
    }
   ],
   "source": [
    "def fot(n,s):\n",
    "    for i in range(s):\n",
    "        print(\"oraaa mass\")\n",
    "        print(\"subash\")\n",
    "fot(\"lol\",3)"
   ]
  },
  {
   "cell_type": "code",
   "execution_count": 10,
   "metadata": {},
   "outputs": [
    {
     "name": "stdout",
     "output_type": "stream",
     "text": [
      "5 * 1 = 5\n",
      "5 * 2 = 10\n",
      "5 * 3 = 15\n",
      "5 * 4 = 20\n",
      "5 * 5 = 25\n",
      "5 * 6 = 30\n",
      "5 * 7 = 35\n",
      "5 * 8 = 40\n",
      "5 * 9 = 45\n",
      "5 * 10 = 50\n"
     ]
    }
   ],
   "source": [
    "def tabel(n):\n",
    "    for i in range(1,11):\n",
    "        print(f\"{n} * {i} = {n*i}\")\n",
    "tabel(5)"
   ]
  },
  {
   "cell_type": "code",
   "execution_count": 1,
   "metadata": {},
   "outputs": [
    {
     "name": "stdout",
     "output_type": "stream",
     "text": [
      "a b\n",
      "b c\n",
      "c d\n"
     ]
    }
   ],
   "source": [
    "a = \"abcd\"\n",
    "for i in range(len(a)-1):\n",
    "    print(a[i],a[i+1])"
   ]
  },
  {
   "cell_type": "code",
   "execution_count": 2,
   "metadata": {},
   "outputs": [
    {
     "name": "stdout",
     "output_type": "stream",
     "text": [
      "['flight', 'flow', 'flower']\n",
      "fl\n"
     ]
    }
   ],
   "source": [
    "s = [\"flower\",\"flow\",\"flight\"]\n",
    "print(sorted(s))\n",
    "for i in s:\n",
    "    b = i[:2]\n",
    "print(b) \n",
    "#print(s[:2])"
   ]
  },
  {
   "cell_type": "code",
   "execution_count": 3,
   "metadata": {},
   "outputs": [
    {
     "name": "stdout",
     "output_type": "stream",
     "text": [
      "['Sam', 'Dan', 'Hop']\n"
     ]
    }
   ],
   "source": [
    "a = [\"sam\",\"dan\",\"hop\"]\n",
    "names  = [x.capitalize() for x in a]\n",
    "print(names)"
   ]
  },
  {
   "cell_type": "code",
   "execution_count": 7,
   "metadata": {},
   "outputs": [
    {
     "name": "stdout",
     "output_type": "stream",
     "text": [
      "1[.]2[.]34[.]5\n"
     ]
    }
   ],
   "source": [
    "a = '1.2.34.5'\n",
    "b= a.replace('.','[.]')\n",
    "print(b)"
   ]
  },
  {
   "cell_type": "code",
   "execution_count": 3,
   "metadata": {},
   "outputs": [
    {
     "name": "stdout",
     "output_type": "stream",
     "text": [
      "25\n"
     ]
    }
   ],
   "source": [
    "#taking the weight as input\n",
    "weight = int(input())\n",
    "\n",
    "#complete the function\n",
    "def shipping_cost():\n",
    "     print (weight * 5)\n",
    "     \n",
    "\n",
    "#function call\n",
    "shipping_cost()"
   ]
  },
  {
   "cell_type": "code",
   "execution_count": 1,
   "metadata": {},
   "outputs": [
    {
     "name": "stdout",
     "output_type": "stream",
     "text": [
      "6\n"
     ]
    }
   ],
   "source": [
    "sentences = [\"Hope likes to eat chips\", \"i think so too\", \"this is great thanks very much\"]\n",
    "maxnum = []\n",
    "for i in sentences:\n",
    "    space = i.count(\" \")+1\n",
    "    maxnum.append(space)\n",
    "print(max(maxnum))"
   ]
  },
  {
   "cell_type": "code",
   "execution_count": 21,
   "metadata": {},
   "outputs": [
    {
     "name": "stdout",
     "output_type": "stream",
     "text": [
      "*-*-*\n",
      "*-*-*\n",
      "*-*-*\n",
      "*-*-*\n",
      "*-*-*\n",
      "*-*-*\n",
      "*-*-*\n",
      "*-*-*\n"
     ]
    }
   ],
   "source": [
    "n = 8\n",
    "m = 3\n",
    "for i in range(n):\n",
    "    for j in range(m):\n",
    "        print(\"*\",end = '')\n",
    "        if j != m-1:\n",
    "            print('-',end = '')\n",
    "    print()"
   ]
  },
  {
   "cell_type": "code",
   "execution_count": null,
   "metadata": {},
   "outputs": [
    {
     "name": "stdout",
     "output_type": "stream",
     "text": [
      "1\n",
      "<class 'str'>\n",
      "3\n",
      "<class 'str'>\n",
      "6\n",
      "<class 'str'>\n",
      "2\n",
      "<class 'str'>\n",
      "5\n",
      "<class 'str'>\n",
      "3\n",
      "<class 'str'>\n"
     ]
    }
   ],
   "source": [
    "arr = [1, 2, 3]\n",
    "n = len(arr)\n",
    "for i in range(n):\n",
    "    for j in range(i,n):\n",
    "        a = (sum(arr[i:j+1]))\n",
    "        b = str(a)\n",
    "        print(b)\n",
    "        print(type(b))"
   ]
  },
  {
   "cell_type": "markdown",
   "metadata": {},
   "source": [
    "SUBARRAY"
   ]
  },
  {
   "cell_type": "code",
   "execution_count": 9,
   "metadata": {},
   "outputs": [
    {
     "name": "stdout",
     "output_type": "stream",
     "text": [
      "[1]\n",
      "[1, 2]\n",
      "[1, 2, 3]\n",
      "[2]\n",
      "[2, 3]\n",
      "[3]\n"
     ]
    }
   ],
   "source": [
    "arr = [1, 2, 3]\n",
    "n = len(arr)\n",
    "for i in range(n):  # Start index\n",
    "    for j in range(i, n):  # End index\n",
    "        print(arr[i:j+1])  # Extract and print subarray\n"
   ]
  },
  {
   "cell_type": "code",
   "execution_count": 10,
   "metadata": {},
   "outputs": [
    {
     "name": "stdout",
     "output_type": "stream",
     "text": [
      "0\n",
      "1\n",
      "2\n",
      "3\n",
      "4\n",
      "5\n"
     ]
    }
   ],
   "source": [
    "arr = [7,1,5,3,6,4]\n",
    "for i in range(len(arr)):\n",
    "    print(i)"
   ]
  },
  {
   "cell_type": "code",
   "execution_count": 1,
   "metadata": {},
   "outputs": [],
   "source": [
    "import turtle\n",
    "t = turtle.Turtle()\n",
    "t.forward(300)"
   ]
  }
 ],
 "metadata": {
  "kernelspec": {
   "display_name": "project1",
   "language": "python",
   "name": "python3"
  },
  "language_info": {
   "codemirror_mode": {
    "name": "ipython",
    "version": 3
   },
   "file_extension": ".py",
   "mimetype": "text/x-python",
   "name": "python",
   "nbconvert_exporter": "python",
   "pygments_lexer": "ipython3",
   "version": "3.12.4"
  }
 },
 "nbformat": 4,
 "nbformat_minor": 2
}
