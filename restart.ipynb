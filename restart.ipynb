{
 "cells": [
  {
   "cell_type": "code",
   "execution_count": null,
   "metadata": {},
   "outputs": [
    {
     "name": "stdout",
     "output_type": "stream",
     "text": [
      "[2, 4]\n"
     ]
    },
    {
     "data": {
      "text/plain": [
       "'for i in n:\\n    if i % 2==0:\\n        m.append[i]\\nprint(m)'"
      ]
     },
     "execution_count": 10,
     "metadata": {},
     "output_type": "execute_result"
    }
   ],
   "source": [
    "n = list(map(int,input().split()))\n",
    "m = []\n",
    "for i in n:\n",
    "    if i % 2==0:\n",
    "        m.append(i)\n",
    "print(sum(m))\n",
    "\n",
    "'''for i in n:\n",
    "    if i % 2==0:\n",
    "        m.append[i]\n",
    "print(m)'''\n"
   ]
  },
  {
   "cell_type": "code",
   "execution_count": 12,
   "metadata": {},
   "outputs": [
    {
     "name": "stdout",
     "output_type": "stream",
     "text": [
      "pali\n"
     ]
    }
   ],
   "source": [
    "n = input()\n",
    "m = n[::-1]\n",
    "if n == m:\n",
    "    print(\"pali\")\n",
    "else:\n",
    "    print(\"notpali\")"
   ]
  },
  {
   "cell_type": "code",
   "execution_count": null,
   "metadata": {},
   "outputs": [
    {
     "name": "stdout",
     "output_type": "stream",
     "text": [
      "s\n",
      "u\n",
      "b\n",
      "a\n",
      "s\n",
      "h\n"
     ]
    }
   ],
   "source": [
    "n = input()\n",
    "chas = {}\n",
    "for i in n:\n",
    "    if i in chas:\n",
    "        chas[i]+=1\n",
    "    else:\n",
    "        chas[i] = 1"
   ]
  },
  {
   "cell_type": "code",
   "execution_count": 20,
   "metadata": {},
   "outputs": [
    {
     "name": "stdout",
     "output_type": "stream",
     "text": [
      "[1, 2, 5, 6, 8, 9, 10, 12]\n"
     ]
    }
   ],
   "source": [
    "list = [1, 5, 8, 12]\n",
    "list2 = [2, 6, 9, 10]\n",
    "m = list + list2\n",
    "print(sorted(m))"
   ]
  },
  {
   "cell_type": "code",
   "execution_count": null,
   "metadata": {},
   "outputs": [
    {
     "name": "stdout",
     "output_type": "stream",
     "text": [
      "Welcome to the PyPassword Generator!\n",
      "v#3E9&+u4"
     ]
    }
   ],
   "source": [
    "#Password Generator Project\n",
    "import random\n",
    "letters = ['a', 'b', 'c', 'd', 'e', 'f', 'g', 'h', 'i', 'j', 'k', 'l', 'm', 'n', 'o', 'p', 'q', 'r', 's', 't', 'u', 'v', 'w', 'x', 'y', 'z', 'A', 'B', 'C', 'D', 'E', 'F', 'G', 'H', 'I', 'J', 'K', 'L', 'M', 'N', 'O', 'P', 'Q', 'R', 'S', 'T', 'U', 'V', 'W', 'X', 'Y', 'Z']\n",
    "numbers = ['0', '1', '2', '3', '4', '5', '6', '7', '8', '9']\n",
    "symbols = ['!', '#', '$', '%', '&', '(', ')', '*', '+']\n",
    "\n",
    "print(\"Welcome to my Password Generator!\")\n",
    "nr_letters= int(input(\"How many letters would you like in your password?\\n\")) \n",
    "nr_symbols = int(input(f\"How many symbols would you like?\\n\"))\n",
    "nr_numbers = int(input(f\"How many numbers would you like?\\n\"))\n",
    "\n",
    "password = []\n",
    "for char in range(1,nr_letters+1):\n",
    "    password.append(random.choice(letters))\n",
    "for char in range(1,nr_symbols+1):\n",
    "    password.append(random.choice(symbols))\n",
    "for char in range(1,nr_numbers+1):\n",
    "    password.append(random.choice(numbers))\n",
    "random.shuffle(password)\n",
    "for char in password:\n",
    "    print(char,end = '')"
   ]
  }
 ],
 "metadata": {
  "kernelspec": {
   "display_name": "project1",
   "language": "python",
   "name": "python3"
  },
  "language_info": {
   "codemirror_mode": {
    "name": "ipython",
    "version": 3
   },
   "file_extension": ".py",
   "mimetype": "text/x-python",
   "name": "python",
   "nbconvert_exporter": "python",
   "pygments_lexer": "ipython3",
   "version": "3.12.4"
  }
 },
 "nbformat": 4,
 "nbformat_minor": 2
}
