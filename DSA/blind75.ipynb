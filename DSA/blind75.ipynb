{
 "cells": [
  {
   "cell_type": "markdown",
   "metadata": {},
   "source": [
    "MOST FREQUENCY OCCUR IN LIST"
   ]
  },
  {
   "cell_type": "code",
   "execution_count": null,
   "metadata": {},
   "outputs": [],
   "source": [
    "import heapq\n",
    "from collections import Counter\n",
    "\n",
    "# Step 1: Take input for the array\n",
    "nums = list(map(int, input(\"Enter the array elements separated by spaces: \").split()))\n",
    "\n",
    "# Step 2: Take input for 'k'\n",
    "k = int(input(\"Enter the value of k: \"))\n",
    "\n",
    "# Step 3: Count the frequency of each element\n",
    "count = Counter(nums)\n",
    "\n",
    "# Step 4: Use a heap to get the top k frequent elements\n",
    "top_k_frequent = heapq.nlargest(k, count.keys(), key=count.get)\n",
    "\n",
    "# Step 5: Output the result\n",
    "print(\"The top\", k, \"most frequent elements are:\", top_k_frequent)\n"
   ]
  },
  {
   "cell_type": "markdown",
   "metadata": {},
   "source": [
    "ANAGRAMS"
   ]
  },
  {
   "cell_type": "code",
   "execution_count": null,
   "metadata": {},
   "outputs": [],
   "source": [
    "n = [\"act\", \"pots\", \"tops\", \"cat\", \"stop\", \"hat\"]\n",
    "b = []\n",
    "\n",
    "# Step 1: Sort the characters of each word\n",
    "for word in n:\n",
    "    lol = \"\".join(sorted(word))\n",
    "    b.append(lol)\n",
    "\n",
    "# Step 2: Create a dictionary to group the anagrams\n",
    "anagram_groups = {}\n",
    "\n",
    "# Step 3: Group words based on their sorted characters\n",
    "for i in range(len(n)):\n",
    "    sorted_word = b[i]  # Get the sorted version of the word from list 'b'\n",
    "    \n",
    "    if sorted_word not in anagram_groups:\n",
    "        # If the sorted word is not a key yet, add it\n",
    "        anagram_groups[sorted_word] = [n[i]]\n",
    "    else:\n",
    "        # If the sorted word is already a key, append the original word\n",
    "        anagram_groups[sorted_word].append(n[i])\n",
    "\n",
    "# Step 4: Convert the dictionary values into a list of lists (groups of anagrams)\n",
    "grouped_anagrams = list(anagram_groups.values())\n",
    "\n",
    "print(grouped_anagrams)"
   ]
  },
  {
   "cell_type": "code",
   "execution_count": null,
   "metadata": {},
   "outputs": [],
   "source": [
    "class Solution:\n",
    "    def groupAnagrams(self, strs: List[str]) -> List[List[str]]:\n",
    "        ans = defaultdict(list)\n",
    "\n",
    "        for s in strs:\n",
    "            count = [0] * 26\n",
    "            for c in s:\n",
    "                count[ord(c) - ord(\"a\")] += 1\n",
    "            ans[tuple(count)].append(s)\n",
    "        return ans.values()"
   ]
  }
 ],
 "metadata": {
  "kernelspec": {
   "display_name": "project1",
   "language": "python",
   "name": "python3"
  },
  "language_info": {
   "codemirror_mode": {
    "name": "ipython",
    "version": 3
   },
   "file_extension": ".py",
   "mimetype": "text/x-python",
   "name": "python",
   "nbconvert_exporter": "python",
   "pygments_lexer": "ipython3",
   "version": "3.12.4"
  }
 },
 "nbformat": 4,
 "nbformat_minor": 2
}
