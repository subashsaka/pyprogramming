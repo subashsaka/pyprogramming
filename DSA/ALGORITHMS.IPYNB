{
 "cells": [
  {
   "cell_type": "markdown",
   "metadata": {},
   "source": [
    "SEARCHING ALGORITHMS"
   ]
  },
  {
   "cell_type": "markdown",
   "metadata": {},
   "source": [
    "-LINEAR SEARCH-"
   ]
  },
  {
   "cell_type": "code",
   "execution_count": 4,
   "metadata": {},
   "outputs": [
    {
     "name": "stdout",
     "output_type": "stream",
     "text": [
      "1\n"
     ]
    }
   ],
   "source": [
    "def linearsearch(arr,target):\n",
    "    for i in range(len(arr)):\n",
    "        if arr[i]==target:\n",
    "            return 1\n",
    "    return -1\n",
    "\n",
    "arr = [10, 20, 30, 40, 50]\n",
    "print(linearsearch(arr,30))"
   ]
  },
  {
   "cell_type": "markdown",
   "metadata": {},
   "source": [
    "-BINARY SEARCH-"
   ]
  },
  {
   "cell_type": "code",
   "execution_count": null,
   "metadata": {},
   "outputs": [
    {
     "name": "stdout",
     "output_type": "stream",
     "text": [
      "1\n"
     ]
    }
   ],
   "source": [
    "def binarysearch(arr,target):\n",
    "    low,high = 0,len(arr)-1\n",
    "    while low<=high:\n",
    "        mid = (low+high)//2\n",
    "        if arr[mid] == target:\n",
    "            return 1\n",
    "        elif arr[mid]<target:\n",
    "            low = mid+1\n",
    "        else:\n",
    "            high = mid - 1\n",
    "    return -1\n",
    "arr = [10, 20, 30, 40, 50]\n",
    "print(binarysearch(arr, 30))"
   ]
  },
  {
   "cell_type": "markdown",
   "metadata": {},
   "source": [
    "SORTING ALGORITMS"
   ]
  },
  {
   "cell_type": "markdown",
   "metadata": {},
   "source": [
    "🔄 What is Sorting?\n",
    "Sorting is the process of arranging elements in a specific order (like ascending or descending).\n",
    "\n",
    "🌟 Types of Sorting Algorithms\n",
    "1.Bubble Sort 🫧 (Simple but slow)\n",
    "2.Selection Sort ✅ (Picks the smallest each time)\n",
    "3.Insertion Sort 🏗️ (Builds sorted part step by step)\n",
    "4.Merge Sort ⚡ (Divide and conquer)\n",
    "5.Quick Sort 🚀 (Super fast in most cases)"
   ]
  }
 ],
 "metadata": {
  "kernelspec": {
   "display_name": "project1",
   "language": "python",
   "name": "python3"
  },
  "language_info": {
   "codemirror_mode": {
    "name": "ipython",
    "version": 3
   },
   "file_extension": ".py",
   "mimetype": "text/x-python",
   "name": "python",
   "nbconvert_exporter": "python",
   "pygments_lexer": "ipython3",
   "version": "3.12.4"
  }
 },
 "nbformat": 4,
 "nbformat_minor": 2
}
