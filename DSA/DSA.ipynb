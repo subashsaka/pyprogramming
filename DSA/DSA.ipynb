{
 "cells": [
  {
   "cell_type": "markdown",
   "id": "21bca629",
   "metadata": {},
   "source": [
    "created a linked list and append a new node and printed the nodes"
   ]
  },
  {
   "cell_type": "code",
   "execution_count": 3,
   "id": "ebc4730c",
   "metadata": {},
   "outputs": [
    {
     "name": "stdout",
     "output_type": "stream",
     "text": [
      "3\n",
      "5\n"
     ]
    }
   ],
   "source": [
    "class Node:\n",
    "    def __init__ (self,value): #### creating new class node part like creating an empty box\n",
    "        self.value = value\n",
    "        self.next = None\n",
    "\n",
    "class linkedList:\n",
    "    def __init__ (self,value):#### pointing head and tail to the nodes\n",
    "        new_node = Node(value)\n",
    "        self.head = new_node\n",
    "        self.tail = new_node\n",
    "        self.length = 1\n",
    "\n",
    "    def append(self,value):#### append part\n",
    "        new_node = Node(value)\n",
    "        if self.length == 0:\n",
    "            self.head = new_node\n",
    "            self.tail = new_node\n",
    "        else:\n",
    "            self.tail.next = new_node\n",
    "            self.tail = new_node\n",
    "        self.length += 1 \n",
    "\n",
    "    def printlist(self):#### print part\n",
    "        temp = self.head\n",
    "        while temp is not None:\n",
    "            print(temp.value)\n",
    "            temp = temp.next\n",
    "\n",
    "\n",
    "linked_list  = linkedList(3)\n",
    "linked_list.append(5)\n",
    "linked_list.printlist()"
   ]
  },
  {
   "cell_type": "markdown",
   "id": "4a16fee3",
   "metadata": {},
   "source": [
    "add new node in LL"
   ]
  },
  {
   "cell_type": "code",
   "execution_count": 1,
   "id": "e39ef8ae",
   "metadata": {},
   "outputs": [],
   "source": [
    "def append(self,value):\n",
    "    new_node = Node(value)\n",
    "    if self.head is None:\n",
    "        self.head = new_node\n",
    "        self.tail = new_node\n",
    "    else:\n",
    "        self.tail.next = new_node\n",
    "        self.tail = new_node\n",
    "    self.length += 1\n",
    "\n",
    "    linked_list"
   ]
  },
  {
   "cell_type": "code",
   "execution_count": null,
   "id": "b93eed04",
   "metadata": {},
   "outputs": [],
   "source": []
  }
 ],
 "metadata": {
  "kernelspec": {
   "display_name": "project1",
   "language": "python",
   "name": "python3"
  },
  "language_info": {
   "codemirror_mode": {
    "name": "ipython",
    "version": 3
   },
   "file_extension": ".py",
   "mimetype": "text/x-python",
   "name": "python",
   "nbconvert_exporter": "python",
   "pygments_lexer": "ipython3",
   "version": "3.12.4"
  }
 },
 "nbformat": 4,
 "nbformat_minor": 5
}
