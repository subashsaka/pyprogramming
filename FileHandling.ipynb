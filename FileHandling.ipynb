{
 "cells": [
  {
   "cell_type": "markdown",
   "metadata": {},
   "source": [
    "exception practice"
   ]
  },
  {
   "cell_type": "code",
   "execution_count": 7,
   "metadata": {},
   "outputs": [
    {
     "name": "stdout",
     "output_type": "stream",
     "text": [
      "invalid literal for int() with base 10: 'lol'\n",
      "cannot add number with a string \n",
      "I will always print even there is an error\n"
     ]
    }
   ],
   "source": [
    "try:\n",
    "    var1 = int(input(\"enter number\"))\n",
    "    var2 = int(input(\"enter num 2\"))\n",
    "    res = var1/var2\n",
    "    \n",
    "except ZeroDivisionError:\n",
    "    print(\"division not posiible with zero\")\n",
    "except ValueError as c:\n",
    "    print(c)\n",
    "    print(\"cannot add number with a string \")\n",
    "else:\n",
    "    print(res)\n",
    "finally:\n",
    "    print(\"I will always print even there is an error\")\n"
   ]
  },
  {
   "cell_type": "markdown",
   "metadata": {},
   "source": [
    "filehandling"
   ]
  },
  {
   "cell_type": "code",
   "execution_count": 7,
   "metadata": {},
   "outputs": [
    {
     "name": "stdout",
     "output_type": "stream",
     "text": [
      "hello subash how are you\n",
      "you have exam tomorrow\n",
      "cognizant and caterpiller\n",
      "True\n"
     ]
    }
   ],
   "source": [
    "#reading file\n",
    "with open(\"subash.txt\") as hello:\n",
    "    print(hello.read())\n",
    "print(hello.closed)"
   ]
  },
  {
   "cell_type": "code",
   "execution_count": 24,
   "metadata": {},
   "outputs": [
    {
     "name": "stdout",
     "output_type": "stream",
     "text": [
      "lost in spaceis best series everis best series ever\n",
      "is best series ever\n"
     ]
    }
   ],
   "source": [
    "#writing file\n",
    "#\"r\" for read\n",
    "#\"w\" for write\n",
    "#\"a\" for append for exixting text\n",
    "\n",
    "with open('hello.txt','r') as file:\n",
    "    print(file.read())"
   ]
  },
  {
   "cell_type": "code",
   "execution_count": 25,
   "metadata": {},
   "outputs": [],
   "source": [
    "f = open('subash.txt','w')\n",
    "f.write('iam a gangstar')\n",
    "f.close()"
   ]
  }
 ],
 "metadata": {
  "kernelspec": {
   "display_name": "base",
   "language": "python",
   "name": "python3"
  },
  "language_info": {
   "codemirror_mode": {
    "name": "ipython",
    "version": 3
   },
   "file_extension": ".py",
   "mimetype": "text/x-python",
   "name": "python",
   "nbconvert_exporter": "python",
   "pygments_lexer": "ipython3",
   "version": "3.12.4"
  }
 },
 "nbformat": 4,
 "nbformat_minor": 2
}
