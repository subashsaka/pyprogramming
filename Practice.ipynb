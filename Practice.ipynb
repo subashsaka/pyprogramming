{
 "cells": [
  {
   "cell_type": "code",
   "execution_count": null,
   "metadata": {},
   "outputs": [],
   "source": [
    "import datetime\n",
    "print(datetime.date.today())"
   ]
  },
  {
   "cell_type": "code",
   "execution_count": null,
   "metadata": {},
   "outputs": [],
   "source": [
    "import os\n",
    "print(os.__file__)"
   ]
  },
  {
   "cell_type": "code",
   "execution_count": null,
   "metadata": {},
   "outputs": [],
   "source": [
    "thislist = [\"apple\", \"banana\", \"cherry\"]\n",
    "thislist[1:3] = [\"watermelon\"]\n",
    "print(thislist)"
   ]
  },
  {
   "cell_type": "code",
   "execution_count": null,
   "metadata": {},
   "outputs": [],
   "source": [
    "thislist = [\"apple\", \"banana\", \"cherry\"]\n",
    "thislist[1:3] = [\"watermelon\"]\n",
    "print(thislist)"
   ]
  },
  {
   "cell_type": "markdown",
   "metadata": {},
   "source": [
    "placementPortalSum"
   ]
  },
  {
   "cell_type": "code",
   "execution_count": null,
   "metadata": {},
   "outputs": [],
   "source": [
    "def calculate_expenses(branding, travel, food, logistics):\n",
    "    # Calculate total expenses\n",
    "    total_expenses = branding + travel + food + logistics\n",
    "    \n",
    "    # Calculate percentage of each expense\n",
    "    branding_percentage = (branding / total_expenses) * 100\n",
    "    travel_percentage = (travel / total_expenses) * 100\n",
    "    food_percentage = (food / total_expenses) * 100\n",
    "    logistics_percentage = (logistics / total_expenses) * 100\n",
    "    \n",
    "    return total_expenses, branding_percentage, travel_percentage, food_percentage, logistics_percentage\n",
    "\n",
    "# Input values\n",
    "branding = float(input(\"Enter branding expenses: \"))\n",
    "travel = float(input(\"Enter travel expenses: \"))\n",
    "food = float(input(\"Enter food expenses: \"))\n",
    "logistics = float(input(\"Enter logistics expenses: \"))\n",
    "\n",
    "# Calculate expenses and percentages\n",
    "total, branding_pct, travel_pct, food_pct, logistics_pct = calculate_expenses(branding, travel, food, logistics)\n",
    "\n",
    "# Print the results\n",
    "print(f\"Total expenses: {total:.2f}\")\n",
    "print(f\"Branding expenses percentage: {branding_pct:.2f}%\")\n",
    "print(f\"Travel expenses percentage: {travel_pct:.2f}%\")\n",
    "print(f\"Food expenses percentage: {food_pct:.2f}%\")\n",
    "print(f\"Logistics expenses percentage: {logistics_pct:.2f}%\")"
   ]
  },
  {
   "cell_type": "code",
   "execution_count": null,
   "metadata": {},
   "outputs": [],
   "source": [
    "import sys\n",
    "print(sys.path)"
   ]
  },
  {
   "cell_type": "code",
   "execution_count": null,
   "metadata": {},
   "outputs": [],
   "source": [
    "courses = ['math', 'electronics', 'hindi']\n",
    "print(courses[::-1])"
   ]
  },
  {
   "cell_type": "markdown",
   "metadata": {},
   "source": [
    "palindrome"
   ]
  },
  {
   "cell_type": "code",
   "execution_count": null,
   "metadata": {},
   "outputs": [],
   "source": [
    "new_word = str(input())\n",
    "reversed_word = new_word[::-1]\n",
    "if new_word == reversed_word:\n",
    "    print('palindrome')\n",
    "else: \n",
    "    print(\"not_Palindrome\")\n"
   ]
  },
  {
   "cell_type": "markdown",
   "metadata": {},
   "source": [
    "reverseString"
   ]
  },
  {
   "cell_type": "code",
   "execution_count": null,
   "metadata": {},
   "outputs": [],
   "source": [
    "def reverse_string(s):\n",
    "    return s[::-1]\n",
    "\n",
    "# Example usage\n",
    "string_name = 'hello'\n",
    "reversed_string = reverse_string(string_name)\n",
    "print(reversed_string)  # Output: \"olleh\""
   ]
  },
  {
   "cell_type": "markdown",
   "metadata": {},
   "source": [
    "smallestInArray"
   ]
  },
  {
   "cell_type": "code",
   "execution_count": null,
   "metadata": {},
   "outputs": [],
   "source": [
    "import time\n",
    "\n",
    "start = time.time()\n",
    "\n",
    "\n",
    "array = [ 7,12,9,11,3 ]\n",
    "minval = array[4]\n",
    "for element in array:\n",
    "    if element < minval:\n",
    "        minval = element\n",
    "print(minval)\n",
    "print(time.time() - start)"
   ]
  },
  {
   "cell_type": "markdown",
   "metadata": {},
   "source": [
    "FizzBuzz"
   ]
  },
  {
   "cell_type": "code",
   "execution_count": null,
   "metadata": {},
   "outputs": [],
   "source": [
    "output = []\n",
    "count = 1\n",
    "\n",
    "def fizzbuzz():\n",
    "    global count\n",
    "    while count <= 10:\n",
    "        if count % 3 == 0 and count % 5 == 0:\n",
    "            output.append(\"FIZZBUZZ\")\n",
    "        elif count % 3 == 0:\n",
    "            output.append(\"Fizz\")\n",
    "        elif count % 5 == 0:\n",
    "            output.append(\"buzz\")\n",
    "        else:\n",
    "            output.append(count)\n",
    "        count += 1\n",
    "    print(output)\n",
    "fizzbuzz()"
   ]
  },
  {
   "cell_type": "markdown",
   "metadata": {},
   "source": [
    "fibonacci"
   ]
  },
  {
   "cell_type": "code",
   "execution_count": null,
   "metadata": {},
   "outputs": [],
   "source": [
    "# Function to print Fibonacci series up to 'n' terms\n",
    "def fibonacci(n):\n",
    "    a, b = 0, 1\n",
    "    for i in range(n):\n",
    "        print(a, end=\" \")\n",
    "        a, b = b, a + b\n",
    "\n",
    "# Example usage:\n",
    "n_terms = int(input(\"Enter the number of terms: \"))\n",
    "fibonacci(n_terms)\n"
   ]
  },
  {
   "cell_type": "code",
   "execution_count": null,
   "metadata": {},
   "outputs": [],
   "source": [
    "def fibonacci(n):\n",
    "    if n == 0:  # Base case 1\n",
    "        return 0\n",
    "    elif n == 1:  # Base case 2\n",
    "        return 1\n",
    "    else:\n",
    "        return fibonacci(n - 1) + fibonacci(n - 2)  # Recursive case\n",
    "\n",
    "# Take input from the user\n",
    "number = int(input(\"Enter a number: \"))\n",
    "result = fibonacci(number)\n",
    "print(f\"The {number}th Fibonacci number is {result}\")\n"
   ]
  },
  {
   "cell_type": "code",
   "execution_count": 8,
   "metadata": {},
   "outputs": [
    {
     "name": "stdout",
     "output_type": "stream",
     "text": [
      "0 1 1 2 3 5 8 13 21 34 55 89 144 233 377 610 987 1597 2584 4181 "
     ]
    }
   ],
   "source": [
    "number = int(input(\"Enter the number of terms: \"))\n",
    "a, b = 0, 1\n",
    "for i in range(number):\n",
    "    print(a, end=\" \")\n",
    "    a, b = b, a + b"
   ]
  },
  {
   "cell_type": "code",
   "execution_count": 33,
   "metadata": {},
   "outputs": [
    {
     "name": "stdout",
     "output_type": "stream",
     "text": [
      "The sum of positive Fibonacci numbers in the range is: 18\n"
     ]
    }
   ],
   "source": [
    "def fibonacci_upto_n(n):\n",
    "    # Initialize the first two Fibonacci numbers\n",
    "    fib_list = []\n",
    "    a, b = 0, 1\n",
    "    while a <= n:\n",
    "        fib_list.append(a)\n",
    "        a, b = b, a + b\n",
    "    return fib_list\n",
    "\n",
    "def sum_positive_fibonacci_in_range(n):\n",
    "    fib_list = fibonacci_upto_n(n)\n",
    "    # Filter Fibonacci numbers that are in the range from 2 to n (inclusive)\n",
    "    filtered_fibs = [f for f in fib_list if f >= 2 and f <= n]\n",
    "    return sum(filtered_fibs)\n",
    "\n",
    "# Example usage:\n",
    "n = 10\n",
    "result = sum_positive_fibonacci_in_range(n)\n",
    "print(\"The sum of positive Fibonacci numbers in the range is:\", result)\n",
    "\n"
   ]
  },
  {
   "cell_type": "code",
   "execution_count": 1,
   "metadata": {},
   "outputs": [
    {
     "name": "stdout",
     "output_type": "stream",
     "text": [
      "10\n",
      "10\n"
     ]
    }
   ],
   "source": [
    "def sum_even_fibonacci(n):\n",
    "    # Initialize the first two even Fibonacci numbers\n",
    "    a, b = 2, 8  # Fibonacci sequence starts with 1, 2, 3, 5, 8... even Fibonacci numbers are 2, 8, 34, ...\n",
    "    total_sum = 2  # Start with the first even Fibonacci number (2)\n",
    "\n",
    "    # While the next even Fibonacci number is <= n\n",
    "    while b <= n:\n",
    "        total_sum += b\n",
    "        a, b = b, 4 * b + a  # Update a and b according to the even Fibonacci pattern\n",
    "\n",
    "    return total_sum\n",
    "\n",
    "# Reading input and solving for multiple test cases\n",
    "t = int(input())  # Number of test cases\n",
    "for _ in range(t):\n",
    "    n = int(input())  # Each test case provides a value N\n",
    "    print(sum_even_fibonacci(n))\n"
   ]
  },
  {
   "cell_type": "markdown",
   "metadata": {},
   "source": [
    "LinearSearch"
   ]
  },
  {
   "cell_type": "code",
   "execution_count": null,
   "metadata": {},
   "outputs": [],
   "source": [
    "def linear_search(arr, target):\n",
    "    for i in range(len(arr)):\n",
    "        if arr[i] == target:\n",
    "            return i  # Return the index if the target is found\n",
    "    return -1  # Return -1 if the target is not found\n",
    "\n",
    "arr = [10, 23, 45, 70, 11, 15]\n",
    "target = 70\n",
    "result = linear_search(arr, target)\n",
    "print(f'Target found at index: {result}')"
   ]
  },
  {
   "cell_type": "markdown",
   "metadata": {},
   "source": []
  },
  {
   "cell_type": "code",
   "execution_count": null,
   "metadata": {},
   "outputs": [],
   "source": [
    "linearinput = input()\n",
    "intinput = list(map(int,linearinput.split()))\n",
    "target = int(input())\n",
    "for i in range(len(intinput)):\n",
    "    if intinput[i] == target:\n",
    "        print(f\"number found at {i} index\")\n"
   ]
  },
  {
   "cell_type": "markdown",
   "metadata": {},
   "source": [
    "BubbleSort"
   ]
  },
  {
   "cell_type": "code",
   "execution_count": null,
   "metadata": {},
   "outputs": [],
   "source": [
    "import time\n",
    "\n",
    "start = time.time()\n",
    "\n",
    "array = [12,54,3,65,21,73,32,1]\n",
    "n = len(array)\n",
    "for i in range(n-1):\n",
    "    for j in range(0,n-1-i):\n",
    "        if array[j] <  array[j + 1]:\n",
    "            array[j],array[j+1] = array[j + 1],array[j]\n",
    "print(array)\n",
    "print(time.time()-start)"
   ]
  },
  {
   "cell_type": "markdown",
   "metadata": {},
   "source": [
    "dsaPractice"
   ]
  },
  {
   "cell_type": "markdown",
   "metadata": {},
   "source": [
    "sum of an integer"
   ]
  },
  {
   "cell_type": "code",
   "execution_count": null,
   "metadata": {},
   "outputs": [],
   "source": [
    "number = int(input(\"enter number\"))\n",
    "a = number % 10 \n",
    "b = number // 10\n",
    "d = b % 10\n",
    "c = number // 100\n",
    "print(a+d+c)"
   ]
  },
  {
   "cell_type": "markdown",
   "metadata": {},
   "source": [
    "sort by last disgit"
   ]
  },
  {
   "cell_type": "code",
   "execution_count": null,
   "metadata": {},
   "outputs": [],
   "source": [
    "arr_list = [122,453,325,147,149]\n",
    "sorted_list = sorted(arr_list,key = lambda x: x%10)\n",
    "print (sorted_list)"
   ]
  },
  {
   "cell_type": "markdown",
   "metadata": {},
   "source": [
    "amstrong"
   ]
  },
  {
   "cell_type": "code",
   "execution_count": null,
   "metadata": {},
   "outputs": [],
   "source": [
    "num = int(input())\n",
    "sum = 0\n",
    "temp = num\n",
    "while temp > 0:\n",
    "    hello = temp % 10\n",
    "    sum = sum + hello**3\n",
    "    temp //= 10\n",
    "if num == sum:\n",
    "    print(num,'its amstrong')\n",
    "else:\n",
    "    print(num,'its not amstrong')"
   ]
  },
  {
   "cell_type": "code",
   "execution_count": null,
   "metadata": {},
   "outputs": [],
   "source": [
    "num = int(input())\n",
    "a = num % 10  #3\n",
    "b = num // 10 #15\n",
    "hel = b % 10 # 5\n",
    "c = num // 100 # 1\n",
    "ink = a**3 + hel**3 + c**3\n",
    "if ink == num:\n",
    "    print('amstrong')\n",
    "else:\n",
    "    print('not amstrong')"
   ]
  },
  {
   "cell_type": "markdown",
   "metadata": {},
   "source": [
    "PATTERNS"
   ]
  },
  {
   "cell_type": "code",
   "execution_count": null,
   "metadata": {},
   "outputs": [],
   "source": [
    "n = 5\n",
    "\n",
    "for i in range(n):\n",
    "    for j in range(n):\n",
    "        print('*',end=' ')\n",
    "    print()"
   ]
  },
  {
   "cell_type": "code",
   "execution_count": null,
   "metadata": {},
   "outputs": [],
   "source": [
    "n = 5\n",
    "for i in range(n):\n",
    "    for j in range(i+1):\n",
    "        print('*',end = ' ')\n",
    "    print()"
   ]
  },
  {
   "cell_type": "code",
   "execution_count": null,
   "metadata": {},
   "outputs": [],
   "source": [
    "n = 5\n",
    "for i in range(n):\n",
    "    for j in range(i,n):\n",
    "        print(\"#\",end=\" \")\n",
    "\n",
    "    print()"
   ]
  },
  {
   "cell_type": "code",
   "execution_count": null,
   "metadata": {},
   "outputs": [],
   "source": [
    "n = 5\n",
    "for i in range(n):\n",
    "    for j in range(i,n):\n",
    "        print(\" \", end = ' ')\n",
    "    for j in range(i+1):\n",
    "        print(\"*\",end =' ')\n",
    "    print()"
   ]
  },
  {
   "cell_type": "code",
   "execution_count": null,
   "metadata": {},
   "outputs": [],
   "source": [
    "n = 5\n",
    "for i in range(n):\n",
    "    for j in range(i + 1):\n",
    "        print(' ', end = \" \")\n",
    "    for j in range(i,n):\n",
    "        print('*',end = ' ')\n",
    "    print()"
   ]
  },
  {
   "cell_type": "code",
   "execution_count": null,
   "metadata": {},
   "outputs": [],
   "source": [
    "n = 5\n",
    "for i in range (n):\n",
    "    for j in range(i,n):\n",
    "        print(' ', end = ' ')\n",
    "    for j in range(i):\n",
    "        print('*',end = ' ')\n",
    "    for j in range(i+1):\n",
    "        print('*',end = ' ')\n",
    "    print()"
   ]
  },
  {
   "cell_type": "code",
   "execution_count": null,
   "metadata": {},
   "outputs": [],
   "source": [
    "n = 5\n",
    "for i in range(n):\n",
    "    for j in range(i +1):\n",
    "        print(' ',end = ' ')\n",
    "    for j in range(i,n-1):\n",
    "        print('*',end = ' ')\n",
    "    for j in range(i,n):\n",
    "        print('*',end = ' ')\n",
    "    print()"
   ]
  },
  {
   "cell_type": "markdown",
   "metadata": {},
   "source": [
    "guess game"
   ]
  },
  {
   "cell_type": "code",
   "execution_count": null,
   "metadata": {},
   "outputs": [],
   "source": [
    "import random\n",
    "jackpot = random.randint(1,100)\n",
    "guess = int(input(\"Guess your number\"))\n",
    "counter = 1\n",
    "while guess != jackpot:\n",
    "    if guess < jackpot:\n",
    "        print(\"Guess Higher than\",guess)\n",
    "    else:\n",
    "        print(\"Guess Lower than\",guess)\n",
    "    guess = int(input(\"Guess again\"))\n",
    "    counter += 1\n",
    "else:\n",
    "    print(\"Guessed correct!\",jackpot,\"is jackpot number\")\n",
    "    print(\"Attempts took to Guess\",counter)\n",
    "\n"
   ]
  },
  {
   "cell_type": "code",
   "execution_count": null,
   "metadata": {},
   "outputs": [],
   "source": [
    "current_pop = 10000\n",
    "for i in range(2010,2000,-1):\n",
    "    print (\"in year \", i ,\"population is \",int(current_pop))\n",
    "    current_pop = current_pop - current_pop / 100 * 10"
   ]
  },
  {
   "cell_type": "markdown",
   "metadata": {},
   "source": [
    "stock_problem"
   ]
  },
  {
   "cell_type": "code",
   "execution_count": null,
   "metadata": {},
   "outputs": [],
   "source": [
    "prices = [12,45,1,42,2,99,99,73,44,69]\n",
    "l,r = 0,1\n",
    "maxp  = 0\n",
    "while r < len(prices):\n",
    "    if prices[l] < prices[r]:\n",
    "        profit = prices[r] - prices[l]\n",
    "        maxp = max(maxp,profit)\n",
    "    else:\n",
    "        l=r\n",
    "    r+=1\n",
    "print(maxp)\n"
   ]
  },
  {
   "cell_type": "code",
   "execution_count": null,
   "metadata": {},
   "outputs": [],
   "source": [
    "chars = \"abcdefghijklmnopqrstuvwxyz\"\n",
    "check_string = str(input())\n",
    "\n",
    "for char in chars:\n",
    "  count = check_string.count(char)\n",
    "  if count >= 1:\n",
    "    print (char,count , end=' ,')"
   ]
  },
  {
   "cell_type": "code",
   "execution_count": null,
   "metadata": {},
   "outputs": [],
   "source": [
    "# Get input from the user\n",
    "input_string = input(\"Enter a string: \")\n",
    "\n",
    "# Initialize a counter for letters\n",
    "letter_count = 0\n",
    "\n",
    "# Loop through each character in the string\n",
    "for char in input_string:\n",
    "    # Check if the character is a letter\n",
    "    if char.isalpha():\n",
    "        letter_count += 1\n",
    "\n",
    "# Print the number of letters\n",
    "print(\"Number of letters in the string:\", letter_count)\n"
   ]
  },
  {
   "cell_type": "code",
   "execution_count": null,
   "metadata": {},
   "outputs": [],
   "source": [
    "# Get input from the user\n",
    "input_string = input(\"Enter a string: \")\n",
    "\n",
    "# Initialize a dictionary to store letter counts\n",
    "letter_count = {}\n",
    "\n",
    "# Loop through each character in the string\n",
    "for char in input_string:\n",
    "    # Check if the character is a letter\n",
    "    if char.isalpha():\n",
    "        # Convert the letter to lowercase for case-insensitive counting\n",
    "        char = char.lower()\n",
    "        # Update the count in the dictionary\n",
    "        if char in letter_count:\n",
    "            letter_count[char] += 1\n",
    "        else:\n",
    "            letter_count[char] = 1\n",
    "\n",
    "# Calculate the total number of letters\n",
    "total_letters = sum(letter_count.values())\n",
    "\n",
    "# Print the total number of letters\n",
    "print(\"Total number of letters in the string:\", total_letters)\n",
    "\n",
    "# Print the count of each letter\n",
    "for letter, count in letter_count.items():\n",
    "    print(f\"Letter '{letter}' appears {count} times\")\n"
   ]
  },
  {
   "cell_type": "code",
   "execution_count": null,
   "metadata": {},
   "outputs": [],
   "source": [
    "for i in range(2,101):\n",
    "    for j in range(2,101):\n",
    "        if i%j == 0:\n",
    "            break\n",
    "    if i == j:\n",
    "        print(i,end=' ')"
   ]
  },
  {
   "cell_type": "code",
   "execution_count": null,
   "metadata": {},
   "outputs": [],
   "source": [
    "for i in range(1, 10):\n",
    "  is_prime = True\n",
    "  for j in range(2, i):\n",
    "    if i % j == 0:\n",
    "      is_prime = False\n",
    "      break\n",
    "  if is_prime:\n",
    "    print(i, end=\", \")"
   ]
  },
  {
   "cell_type": "code",
   "execution_count": null,
   "metadata": {},
   "outputs": [],
   "source": [
    "for i in range(2,101):\n",
    "    is_prime = True\n",
    "    for j in range(2,i):\n",
    "        if i % j == 0:\n",
    "            is_prime = False\n",
    "            break\n",
    "    if is_prime:\n",
    "        print(i, end=' ')\n"
   ]
  },
  {
   "cell_type": "code",
   "execution_count": null,
   "metadata": {},
   "outputs": [],
   "source": [
    "\n",
    "user_input = input(\"Enter numbers separated by spaces: \")\n",
    "array = list(map(int, user_input.split()))\n",
    "evenlist = []\n",
    "for i in array:\n",
    "    if i % 2 == 0:\n",
    "        evenlist.append(i)\n",
    "print(evenlist)\n",
    "print(array)"
   ]
  },
  {
   "cell_type": "code",
   "execution_count": null,
   "metadata": {},
   "outputs": [],
   "source": [
    "user_input = input()\n",
    "hello = user_input.split()\n",
    "empty = {}\n",
    "for word in hello:\n",
    "    if word in empty:\n",
    "        empty[word] += 1\n",
    "    else:\n",
    "        empty[word] = 1\n",
    "\n",
    "print(empty)"
   ]
  },
  {
   "cell_type": "code",
   "execution_count": null,
   "metadata": {},
   "outputs": [],
   "source": [
    "# Step 1: Get the input from the user\n",
    "user_input = input(\"Enter a sentence: \")\n",
    "\n",
    "# Step 2: Split the sentence into words\n",
    "words = user_input.split()\n",
    "\n",
    "# Step 3: Create an empty dictionary\n",
    "word_count = {}\n",
    "\n",
    "# Step 4: Loop through the list of words and count occurrences\n",
    "for word in words:\n",
    "    if word in word_count:\n",
    "        word_count[word] += 1\n",
    "    else:\n",
    "        word_count[word] = 1\n",
    "\n",
    "# Step 5: Print the results\n",
    "for word, count in word_count.items():\n",
    "    print(f\"{word}: {count}\")\n"
   ]
  },
  {
   "cell_type": "code",
   "execution_count": null,
   "metadata": {},
   "outputs": [],
   "source": [
    "# Size of the list\n",
    "size = int(input(\"Enter the size of the list: \"))\n",
    "\n",
    "# Create an empty list\n",
    "my_list = []\n",
    "\n",
    "# Loop to take input for each element\n",
    "for i in range(size):\n",
    "    num = int(input(\"Enter number {}: \".format(i + 1)))\n",
    "    my_list.append(num)\n",
    "\n",
    "print(\"Your list of numbers:\", my_list)\n",
    "type(my_list)\n"
   ]
  },
  {
   "cell_type": "markdown",
   "metadata": {},
   "source": [
    "sum of previous numbers "
   ]
  },
  {
   "cell_type": "code",
   "execution_count": null,
   "metadata": {},
   "outputs": [],
   "source": [
    "n = int(input())\n",
    "form = ((n+1) * n) // 2\n",
    "print(form)"
   ]
  },
  {
   "cell_type": "code",
   "execution_count": null,
   "metadata": {},
   "outputs": [],
   "source": [
    "# n = int(input(\"Enter n: \"))\n",
    "n = 10\n",
    "# initialize sum and counter\n",
    "sum = 0\n",
    "i = 1\n",
    "while i <= n:\n",
    "    sum = sum + i\n",
    "    i=i+1 # updatecounter# print thesum\n",
    "print(\"The sum is\", sum)"
   ]
  },
  {
   "cell_type": "code",
   "execution_count": null,
   "metadata": {},
   "outputs": [],
   "source": [
    "vowel = 'aeiou'\n",
    "count = 0\n",
    "string = input()\n",
    "fvowels = []\n",
    "for char in string:\n",
    "    if char in vowel:\n",
    "        fvowels.append(char)\n",
    "        count += 1\n",
    "print(count)\n",
    "print(fvowels)"
   ]
  },
  {
   "cell_type": "code",
   "execution_count": null,
   "metadata": {},
   "outputs": [],
   "source": [
    "fact = int(input())\n",
    "factorial = 1\n",
    "for i in range(1,fact+1):\n",
    "    factorial = factorial * i\n",
    "print(factorial)"
   ]
  },
  {
   "cell_type": "code",
   "execution_count": null,
   "metadata": {},
   "outputs": [],
   "source": [
    "num = input().split()\n",
    "num = [int(i) for i in num]\n",
    "print (sum(num))"
   ]
  },
  {
   "cell_type": "code",
   "execution_count": null,
   "metadata": {},
   "outputs": [],
   "source": [
    "# Solution for Exercise 6\n",
    "numbers = input(\"Enter numbers separated by spaces: \").split()\n",
    "numbers = [int(num) for num in numbers]\n",
    "sum_result = sum(numbers)\n",
    "print(\"The sum of the list is:\", sum_result)\n"
   ]
  },
  {
   "cell_type": "code",
   "execution_count": null,
   "metadata": {},
   "outputs": [],
   "source": [
    "name = \"helloworld\"\n",
    "reverse = name[::-1]\n",
    "if name == reverse:\n",
    "    print(\"palindrome\")\n",
    "else:\n",
    "    print(\"nonpali\")\n"
   ]
  },
  {
   "cell_type": "code",
   "execution_count": null,
   "metadata": {},
   "outputs": [],
   "source": [
    "string =\"sAdweqwed dashdgu\"\n",
    "hello = string.title()\n",
    "print(hello)"
   ]
  },
  {
   "cell_type": "code",
   "execution_count": null,
   "metadata": {},
   "outputs": [],
   "source": [
    "hello = {'name' : 'pidf','age': 22,'place':'djkdsf'}\n",
    "world = ['dasd','sadasd','asdsad']\n",
    "print(type(hello))\n"
   ]
  },
  {
   "cell_type": "code",
   "execution_count": null,
   "metadata": {},
   "outputs": [],
   "source": [
    "def tryme(string):\n",
    "    'helloworld'\n",
    "    print(string)\n",
    "    return\n",
    "tryme(\"subash\")"
   ]
  },
  {
   "cell_type": "code",
   "execution_count": null,
   "metadata": {},
   "outputs": [],
   "source": [
    "def change(mylist):\n",
    "    mylist.extend([1,2,3,4])\n",
    "    print(mylist)\n",
    "    return\n",
    "change([5,6,7])"
   ]
  },
  {
   "cell_type": "code",
   "execution_count": null,
   "metadata": {},
   "outputs": [],
   "source": [
    "def changeme(mylist):\n",
    "    mylist = [1,2,3,4]\n",
    "    print(mylist)\n",
    "    return\n",
    "mylist = [6,7,8,9]\n",
    "changeme(mylist)\n",
    "print(mylist)"
   ]
  },
  {
   "cell_type": "code",
   "execution_count": null,
   "metadata": {},
   "outputs": [],
   "source": [
    "arr = [0,3,4,5,6,7]\n",
    "n = len(arr)\n",
    "total = n*(n+1)//2\n",
    "res = total - sum(arr)\n",
    "print(res)"
   ]
  },
  {
   "cell_type": "code",
   "execution_count": null,
   "metadata": {},
   "outputs": [],
   "source": [
    "import random\n",
    "print(random.randint(1,10))"
   ]
  },
  {
   "cell_type": "markdown",
   "metadata": {},
   "source": [
    "LOVE CALCULATOR"
   ]
  },
  {
   "cell_type": "code",
   "execution_count": null,
   "metadata": {},
   "outputs": [],
   "source": [
    "print(\"The Love Calculator is calculating your score...\")\n",
    "name1 = input()\n",
    "name2 = input() \n",
    "hello = name1.lower()+name2.lower()\n",
    "t=hello.count(\"t\")\n",
    "r=hello.count(\"r\")\n",
    "u=hello.count(\"u\")\n",
    "e=hello.count(\"e\")\n",
    "first = t+r+u+e\n",
    "l=hello.count(\"l\")\n",
    "o=hello.count(\"o\")\n",
    "v=hello.count(\"v\")\n",
    "e=hello.count(\"e\")\n",
    "second = l+o+v+e\n",
    "combine = int(str(first)+str(second))\n",
    "if 10 >= combine >= 90:\n",
    "    print(f\"Your score is {combine}, you go together like coke and mentos.\")\n",
    "elif 40 >= combine <=50:\n",
    "    print(f\"Your score is {combine}, you are alright together.\")\n",
    "else:\n",
    "    print(f\"Your score is {combine}.\")\n",
    "\n"
   ]
  },
  {
   "cell_type": "code",
   "execution_count": null,
   "metadata": {},
   "outputs": [],
   "source": [
    "students = [1,0,2,3,4,5,6,7,8,9,69]\n",
    "maxnum = students[0]\n",
    "for i in students:\n",
    "    if i > maxnum:\n",
    "        maxnum = i\n",
    "print(maxnum)\n"
   ]
  },
  {
   "cell_type": "markdown",
   "metadata": {},
   "source": [
    "PRODUCT OF DIGITS IN A NUMBER"
   ]
  },
  {
   "cell_type": "code",
   "execution_count": null,
   "metadata": {},
   "outputs": [],
   "source": [
    "x = int(input())\n",
    "if x == 0:\n",
    "    print( 0)\n",
    "product = 1\n",
    "while x > 0:\n",
    "    product *= x % 10\n",
    "    x //= 10\n",
    "print(product)"
   ]
  },
  {
   "cell_type": "markdown",
   "metadata": {},
   "source": [
    "SUM OF DIGITS IN A NUMBER"
   ]
  },
  {
   "cell_type": "code",
   "execution_count": null,
   "metadata": {},
   "outputs": [],
   "source": [
    "num=int(input())\n",
    "if num == 0:\n",
    "    print(0)\n",
    "total = 0\n",
    "while num > 0:\n",
    "    total += num % 10  # Add the last digit to total\n",
    "    num = num // 10    # Remove the last digit\n",
    "print(total)\n",
    "  # Output: 15\n"
   ]
  },
  {
   "cell_type": "code",
   "execution_count": 3,
   "metadata": {},
   "outputs": [
    {
     "name": "stdout",
     "output_type": "stream",
     "text": [
      "True\n"
     ]
    }
   ],
   "source": [
    "hel = input()\n",
    "no = input()\n",
    "sub = ''.join(sorted(hel))\n",
    "ass = ''.join(sorted(no))\n",
    "if sub == ass:\n",
    "    print(\"True\")\n",
    "else:\n",
    "    print(\"false\")\n"
   ]
  }
 ],
 "metadata": {
  "kernelspec": {
   "display_name": "project1",
   "language": "python",
   "name": "python3"
  },
  "language_info": {
   "codemirror_mode": {
    "name": "ipython",
    "version": 3
   },
   "file_extension": ".py",
   "mimetype": "text/x-python",
   "name": "python",
   "nbconvert_exporter": "python",
   "pygments_lexer": "ipython3",
   "version": "3.12.4"
  }
 },
 "nbformat": 4,
 "nbformat_minor": 2
}
