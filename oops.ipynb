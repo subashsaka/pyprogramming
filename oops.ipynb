{
 "cells": [
  {
   "cell_type": "markdown",
   "metadata": {},
   "source": [
    "classes and objects"
   ]
  },
  {
   "cell_type": "code",
   "execution_count": 1,
   "metadata": {},
   "outputs": [
    {
     "name": "stdout",
     "output_type": "stream",
     "text": [
      "audi\n",
      "your car audi is driving\n"
     ]
    }
   ],
   "source": [
    "#class and objects\n",
    "class vechile: #class created\n",
    "    def __init__ (self,name,speed,color): # Constructor function (special method to initialize objects).\n",
    "        # Attributes (properties of the object)\n",
    "        self.name = name\n",
    "        self.speed = speed\n",
    "        self.color = color\n",
    "\n",
    "    def work(self):#method\n",
    "        print(\"your car \" + self.name + \" is driving\")\n",
    "    \n",
    "car1 = vechile(\"audi\",100,\"black\")#OBJECT CREATION\n",
    "print(car1.name) # Accessing an attribute\n",
    "car1.work() #CALLING METHOD\n"
   ]
  },
  {
   "cell_type": "markdown",
   "metadata": {},
   "source": [
    "INHERITANCE : Inheritance allows us to define a class that inherits all the methods and properties from another class."
   ]
  },
  {
   "cell_type": "code",
   "execution_count": 7,
   "metadata": {},
   "outputs": [
    {
     "name": "stdout",
     "output_type": "stream",
     "text": [
      "It's a ford mustang car\n"
     ]
    }
   ],
   "source": [
    "#INHERTINANCE \n",
    "class parent:#PARENT CLASS\n",
    "    def __init__(self,type,name,model):\n",
    "        self.typeofvechile = type\n",
    "        self.nameofvechile = name\n",
    "        self.modelofvechile = model\n",
    "\n",
    "    def driving(self):#METHOD OR FUNCTION\n",
    "        print(\"It's a \"+ self.nameofvechile,self.modelofvechile,self.typeofvechile)\n",
    "    \n",
    "class child (parent):#CHILD CLASS INCLUDE PARENT NAME\n",
    "    def __init__(self,type,name,model):\n",
    "        parent.__init__(self,type,name,model)#ACCESING PARENT CLASS USING #PARENT CLASS NAME\n",
    "\n",
    "\n",
    "x = child(\"car\",\"ford\",\"mustang\")\n",
    "x.driving()"
   ]
  },
  {
   "cell_type": "markdown",
   "metadata": {},
   "source": [
    "POLYMORPHISM : \n",
    "The word \"polymorphism\" means \"many forms\", and in programming it refers to methods/functions/operators with the same name that can be executed on many objects or classes."
   ]
  },
  {
   "cell_type": "code",
   "execution_count": null,
   "metadata": {},
   "outputs": [
    {
     "name": "stdout",
     "output_type": "stream",
     "text": [
      "drive\n",
      "drivespeed\n",
      "flying\n"
     ]
    }
   ],
   "source": [
    "class car: #1st class\n",
    "    #constructor\n",
    "    def __init__(self,brand,model):\n",
    "        #attributes\n",
    "        self.brandname = brand\n",
    "        self.modelname = model\n",
    "    #method or function\n",
    "    def move(self):\n",
    "        print(\"drive\")\n",
    "\n",
    "#2nd class\n",
    "class bike: \n",
    "    #consructor\n",
    "    def __init__(self,brand,model):\n",
    "        #attributes\n",
    "        self.brandname = brand\n",
    "        self.modelname = model\n",
    "    #mothod or function\n",
    "    def move(self):\n",
    "        print(\"drivespeed\")\n",
    "\n",
    "#3rd class\n",
    "class aeroplane:\n",
    "    #constructor\n",
    "    def __init__(self,brand,model):\n",
    "        #attributes\n",
    "        self.brsndname = brand\n",
    "        self.modelname = model\n",
    "    #method or function\n",
    "    def move(self):\n",
    "        print(\"flying\")\n",
    "\n",
    "\n",
    "#object declration\n",
    "car1 = car(\"mustang\",\"ford\")\n",
    "bike1 = bike(\"truimph\",\"cc400\")\n",
    "aeroplane1 = aeroplane(\"emirites\",\"boieng143\")\n",
    "\n",
    "for x in(car1,bike1,aeroplane1):\n",
    "    x.move()\n",
    "    "
   ]
  },
  {
   "cell_type": "markdown",
   "metadata": {},
   "source": [
    "\n",
    "ABSTRACTION : Abstraction is the process of hiding unnecessary details and showing only the essential features of an object or system to the user."
   ]
  },
  {
   "cell_type": "code",
   "execution_count": null,
   "metadata": {},
   "outputs": [
    {
     "name": "stdout",
     "output_type": "stream",
     "text": [
      "Processing upi payment of ₹1000...\n",
      "Processing credit card payment of ₹20000...\n"
     ]
    }
   ],
   "source": [
    "from abc import ABC, abstractmethod\n",
    "class payment(ABC):\n",
    "    @abstractmethod\n",
    "    def makepayment(self,amount):\n",
    "        pass\n",
    "\n",
    "class upi(payment):\n",
    "    def makepayment(self,amount):\n",
    "        print(f\"Processing upi payment of ₹{amount}...\")\n",
    "\n",
    "class creditcard(payment):\n",
    "    def makepayment(self,amount):\n",
    "        print(f\"Processing credit card payment of ₹{amount}...\")\n",
    "\n",
    "\n",
    "def processpayment(paymentmethod,amount):\n",
    "    paymentmethod.makepayment(amount)\n",
    "\n",
    "#using the abstraction to avoid unnecessary details of above code\n",
    "cc = creditcard()\n",
    "upis = upi()\n",
    "\n",
    "#called using abstractions created\n",
    "processpayment(upis,1000)\n",
    "processpayment(cc,20000)"
   ]
  },
  {
   "cell_type": "markdown",
   "metadata": {},
   "source": [
    "ENCAPSULATION : Encapsulation is like putting sensitive data in a secure box and only allowing access through a key (public methods), ensuring the data is protected and used properly."
   ]
  },
  {
   "cell_type": "code",
   "execution_count": null,
   "metadata": {},
   "outputs": [
    {
     "name": "stdout",
     "output_type": "stream",
     "text": [
      "12345\n",
      "5000\n",
      "amount withdrawl is 1000 and remaing balance is 4000\n",
      "your balance after deposit is 6000\n"
     ]
    }
   ],
   "source": [
    "class bankaccount:\n",
    "    def __init__ (self,accnumber,balance):\n",
    "        self.accnumber = accnumber\n",
    "        self.__balance = balance #private attribute hiiden using underscores\n",
    "\n",
    "    def getbalance(self): #public method to access private data\n",
    "        return self.__balance\n",
    "    \n",
    "    #public method to modifiy private details\n",
    "    def deposit(self,amount):#depositing amount function\n",
    "        if amount > 0:\n",
    "            self.__balance = self.__balance + amount\n",
    "            print(f\"your balance after deposit is {self.__balance}\")\n",
    "        else:\n",
    "            print(\"enter positive amount to deposit\")\n",
    "\n",
    "\n",
    "    def withdraw(self,amount):#wthdrawing amount function\n",
    "        if 0 < amount <= self.__balance:\n",
    "            self.__balance = self.__balance-amount\n",
    "            print(f\"amount withdrawl is {amount} and remaing balance is {self.__balance}\")\n",
    "        else:\n",
    "            print(\"insufficient funds\")\n",
    "\n",
    "account = bankaccount(\"12345\",5000)\n",
    "print(account.accnumber)\n",
    "print(account.getbalance())\n",
    "account.withdraw(1000)\n",
    "account.deposit(2000)"
   ]
  },
  {
   "cell_type": "code",
   "execution_count": null,
   "metadata": {},
   "outputs": [],
   "source": [
    "class BankAccount:\n",
    "    def __init__(self, account_number, balance):\n",
    "        self.account_number = account_number  # Public attribute\n",
    "        self.__balance = balance  # Private attribute (hidden with double underscore)\n",
    "\n",
    "    # Public method to access private data\n",
    "    def get_balance(self):\n",
    "        return self.__balance\n",
    "\n",
    "    # Public method to modify private data\n",
    "    def deposit(self, amount):\n",
    "        if amount > 0:\n",
    "            self.__balance += amount\n",
    "            print(f\"₹{amount} deposited. New balance: ₹{self.__balance}\")\n",
    "        else:\n",
    "            print(\"Deposit amount must be positive.\")\n",
    "\n",
    "    def withdraw(self, amount):\n",
    "        if 0 < amount <= self.__balance:\n",
    "            self.__balance -= amount\n",
    "            print(f\"₹{amount} withdrawn. Remaining balance: ₹{self.__balance}\")\n",
    "        else:\n",
    "            print(\"Insufficient balance or invalid amount.\")\n",
    "\n",
    "# Using the encapsulated class\n",
    "account = BankAccount(\"12345\", 5000)\n",
    "\n",
    "# Access public attribute\n",
    "print(account.account_number)  # Output: 12345\n",
    "\n",
    "# Access private attribute directly (Not allowed)\n",
    "# print(account.__balance)  # Raises an AttributeError\n",
    "\n",
    "# Access private data using public methods\n",
    "print(account.get_balance())  # Output: 5000\n",
    "account.deposit(1000)         # Output: ₹1000 deposited. New balance: ₹6000\n",
    "account.withdraw(2000)        # Output: ₹2000 withdrawn. Remaining balance: ₹4000\n",
    "\n"
   ]
  }
 ],
 "metadata": {
  "kernelspec": {
   "display_name": "project1",
   "language": "python",
   "name": "python3"
  },
  "language_info": {
   "codemirror_mode": {
    "name": "ipython",
    "version": 3
   },
   "file_extension": ".py",
   "mimetype": "text/x-python",
   "name": "python",
   "nbconvert_exporter": "python",
   "pygments_lexer": "ipython3",
   "version": "3.12.4"
  }
 },
 "nbformat": 4,
 "nbformat_minor": 2
}
